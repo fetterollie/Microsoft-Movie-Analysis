{
 "cells": [
  {
   "cell_type": "markdown",
   "metadata": {},
   "source": [
    "![example](images/director_shot.jpeg)"
   ]
  },
  {
   "cell_type": "markdown",
   "metadata": {},
   "source": [
    "# Current Movie Trends Analysis for Microsoft Studios\n",
    "\n",
    "**Authors:** Jonathan, Matt, Nate, Roshni\n",
    "***"
   ]
  },
  {
   "cell_type": "markdown",
   "metadata": {},
   "source": [
    "## Overview\n",
    "\n",
    "A one-paragraph overview of the project, including the business problem, data, methods, results and recommendations.\n",
    "\n",
    "\"This project analyzes multiple movie databases containing datapoints across thousands of movies. Descriptive analysis of budget, runtime, genre, and rating data shows that certain types of movies typically outperform others. Microsoft's new movie studio can use this analysis to guide movie production decisions. We found **x info about budget**, movies that have a rating of **x** and above typically have a runtime in the 85-110 min range, and documentaries to be the genre with the highest average review.\"\n",
    "\n",
    "* **Which methods did we use?**\n",
    "\n",
    "* **What are the recommendations?**"
   ]
  },
  {
   "cell_type": "markdown",
   "metadata": {},
   "source": [
    "## Business Problem\n",
    "\n",
    "Summary of the business problem you are trying to solve, and the data questions that you plan to answer to solve them.\n",
    "\n",
    "\"Microsoft may be able to make an educated decision for deciding the criteria of their first film by using data from other movie releases. Doing so will give their movie the greatest likelihood of being a box office success.\n",
    "\n",
    "Using data from IMDB, TheMovieDB, and The Numbers, we describe patterns across budget decisions, movie runtime and genre decisions, and movie ratings. We chose this data to highlight expected budget costs and movie genres for movies that have been voted as the highest rated by viewers.\"\n",
    "\n",
    "***\n",
    "Questions to consider:\n",
    "* What are the business's pain points related to this project?\n",
    "* How did you pick the data analysis question(s) that you did?\n",
    "* Why are these questions important from a business perspective?\n",
    "***"
   ]
  },
  {
   "cell_type": "markdown",
   "metadata": {},
   "source": [
    "## Data Understanding\n",
    "\n",
    "Data for this analysis is taken from 3 of the largest online movie databases with datapoints on hundreds of thousands of movies. Below, we further break down the sources and relevant information from each.\n",
    "\n",
    "***\n",
    "Questions to consider:\n",
    "* Where did the data come from, and how do they relate to the data analysis questions?\n",
    "* What do the data represent? Who is in the sample and what variables are included?\n",
    "* What is the target variable?\n",
    "* What are the properties of the variables you intend to use?\n",
    "***"
   ]
  },
  {
   "cell_type": "code",
   "execution_count": 7,
   "metadata": {},
   "outputs": [],
   "source": [
    "# Import standard packages\n",
    "import pandas as pd\n",
    "import numpy as np\n",
    "import matplotlib.pyplot as plt\n",
    "import seaborn as sns\n",
    "\n",
    "%matplotlib inline"
   ]
  },
  {
   "cell_type": "markdown",
   "metadata": {},
   "source": [
    "### 1: The MovieDB (TMDB)"
   ]
  },
  {
   "cell_type": "markdown",
   "metadata": {},
   "source": [
    "TMDB dataset comprises of records on 26,517 movies and includes 9 columns of datapoints on each movie. The target data includes release date and genre where the genre codes are ordered by relevance."
   ]
  },
  {
   "cell_type": "code",
   "execution_count": 2,
   "metadata": {},
   "outputs": [],
   "source": [
    "df_tmdb = pd.read_csv('./zippedData/tmdb.movies.csv.gz', index_col = 0, parse_dates=['release_date'])"
   ]
  },
  {
   "cell_type": "code",
   "execution_count": 3,
   "metadata": {},
   "outputs": [
    {
     "data": {
      "text/html": [
       "<div>\n",
       "<style scoped>\n",
       "    .dataframe tbody tr th:only-of-type {\n",
       "        vertical-align: middle;\n",
       "    }\n",
       "\n",
       "    .dataframe tbody tr th {\n",
       "        vertical-align: top;\n",
       "    }\n",
       "\n",
       "    .dataframe thead th {\n",
       "        text-align: right;\n",
       "    }\n",
       "</style>\n",
       "<table border=\"1\" class=\"dataframe\">\n",
       "  <thead>\n",
       "    <tr style=\"text-align: right;\">\n",
       "      <th></th>\n",
       "      <th>genre_ids</th>\n",
       "      <th>id</th>\n",
       "      <th>original_language</th>\n",
       "      <th>original_title</th>\n",
       "      <th>popularity</th>\n",
       "      <th>release_date</th>\n",
       "      <th>title</th>\n",
       "      <th>vote_average</th>\n",
       "      <th>vote_count</th>\n",
       "    </tr>\n",
       "  </thead>\n",
       "  <tbody>\n",
       "    <tr>\n",
       "      <th>0</th>\n",
       "      <td>[12, 14, 10751]</td>\n",
       "      <td>12444</td>\n",
       "      <td>en</td>\n",
       "      <td>Harry Potter and the Deathly Hallows: Part 1</td>\n",
       "      <td>33.533</td>\n",
       "      <td>2010-11-19</td>\n",
       "      <td>Harry Potter and the Deathly Hallows: Part 1</td>\n",
       "      <td>7.7</td>\n",
       "      <td>10788</td>\n",
       "    </tr>\n",
       "    <tr>\n",
       "      <th>1</th>\n",
       "      <td>[14, 12, 16, 10751]</td>\n",
       "      <td>10191</td>\n",
       "      <td>en</td>\n",
       "      <td>How to Train Your Dragon</td>\n",
       "      <td>28.734</td>\n",
       "      <td>2010-03-26</td>\n",
       "      <td>How to Train Your Dragon</td>\n",
       "      <td>7.7</td>\n",
       "      <td>7610</td>\n",
       "    </tr>\n",
       "    <tr>\n",
       "      <th>2</th>\n",
       "      <td>[12, 28, 878]</td>\n",
       "      <td>10138</td>\n",
       "      <td>en</td>\n",
       "      <td>Iron Man 2</td>\n",
       "      <td>28.515</td>\n",
       "      <td>2010-05-07</td>\n",
       "      <td>Iron Man 2</td>\n",
       "      <td>6.8</td>\n",
       "      <td>12368</td>\n",
       "    </tr>\n",
       "  </tbody>\n",
       "</table>\n",
       "</div>"
      ],
      "text/plain": [
       "             genre_ids     id original_language  \\\n",
       "0      [12, 14, 10751]  12444                en   \n",
       "1  [14, 12, 16, 10751]  10191                en   \n",
       "2        [12, 28, 878]  10138                en   \n",
       "\n",
       "                                 original_title  popularity release_date  \\\n",
       "0  Harry Potter and the Deathly Hallows: Part 1      33.533   2010-11-19   \n",
       "1                      How to Train Your Dragon      28.734   2010-03-26   \n",
       "2                                    Iron Man 2      28.515   2010-05-07   \n",
       "\n",
       "                                          title  vote_average  vote_count  \n",
       "0  Harry Potter and the Deathly Hallows: Part 1           7.7       10788  \n",
       "1                      How to Train Your Dragon           7.7        7610  \n",
       "2                                    Iron Man 2           6.8       12368  "
      ]
     },
     "execution_count": 3,
     "metadata": {},
     "output_type": "execute_result"
    }
   ],
   "source": [
    "df_tmdb.head(3)"
   ]
  },
  {
   "cell_type": "markdown",
   "metadata": {},
   "source": [
    "### 2: The Numbers (TN)"
   ]
  },
  {
   "cell_type": "markdown",
   "metadata": {},
   "source": [
    "The Numbers (TN) dataset comprises of records on *5,782 movies, with 6 columns of datapoints on each movie. The target data includes production budget and worldwide gross revenue.*"
   ]
  },
  {
   "cell_type": "code",
   "execution_count": 8,
   "metadata": {},
   "outputs": [],
   "source": [
    "tn_df = pd.read_csv('zippedData/tn.movie_budgets.csv.gz', parse_dates=['release_date'])"
   ]
  },
  {
   "cell_type": "code",
   "execution_count": 9,
   "metadata": {},
   "outputs": [
    {
     "data": {
      "text/html": [
       "<div>\n",
       "<style scoped>\n",
       "    .dataframe tbody tr th:only-of-type {\n",
       "        vertical-align: middle;\n",
       "    }\n",
       "\n",
       "    .dataframe tbody tr th {\n",
       "        vertical-align: top;\n",
       "    }\n",
       "\n",
       "    .dataframe thead th {\n",
       "        text-align: right;\n",
       "    }\n",
       "</style>\n",
       "<table border=\"1\" class=\"dataframe\">\n",
       "  <thead>\n",
       "    <tr style=\"text-align: right;\">\n",
       "      <th></th>\n",
       "      <th>id</th>\n",
       "      <th>release_date</th>\n",
       "      <th>movie</th>\n",
       "      <th>production_budget</th>\n",
       "      <th>domestic_gross</th>\n",
       "      <th>worldwide_gross</th>\n",
       "    </tr>\n",
       "  </thead>\n",
       "  <tbody>\n",
       "    <tr>\n",
       "      <th>0</th>\n",
       "      <td>1</td>\n",
       "      <td>2009-12-18</td>\n",
       "      <td>Avatar</td>\n",
       "      <td>$425,000,000</td>\n",
       "      <td>$760,507,625</td>\n",
       "      <td>$2,776,345,279</td>\n",
       "    </tr>\n",
       "    <tr>\n",
       "      <th>1</th>\n",
       "      <td>2</td>\n",
       "      <td>2011-05-20</td>\n",
       "      <td>Pirates of the Caribbean: On Stranger Tides</td>\n",
       "      <td>$410,600,000</td>\n",
       "      <td>$241,063,875</td>\n",
       "      <td>$1,045,663,875</td>\n",
       "    </tr>\n",
       "    <tr>\n",
       "      <th>2</th>\n",
       "      <td>3</td>\n",
       "      <td>2019-06-07</td>\n",
       "      <td>Dark Phoenix</td>\n",
       "      <td>$350,000,000</td>\n",
       "      <td>$42,762,350</td>\n",
       "      <td>$149,762,350</td>\n",
       "    </tr>\n",
       "  </tbody>\n",
       "</table>\n",
       "</div>"
      ],
      "text/plain": [
       "   id release_date                                        movie  \\\n",
       "0   1   2009-12-18                                       Avatar   \n",
       "1   2   2011-05-20  Pirates of the Caribbean: On Stranger Tides   \n",
       "2   3   2019-06-07                                 Dark Phoenix   \n",
       "\n",
       "  production_budget domestic_gross worldwide_gross  \n",
       "0      $425,000,000   $760,507,625  $2,776,345,279  \n",
       "1      $410,600,000   $241,063,875  $1,045,663,875  \n",
       "2      $350,000,000    $42,762,350    $149,762,350  "
      ]
     },
     "execution_count": 9,
     "metadata": {},
     "output_type": "execute_result"
    }
   ],
   "source": [
    "tn_df.head(3)"
   ]
  },
  {
   "cell_type": "markdown",
   "metadata": {},
   "source": [
    "### 3: IMDB"
   ]
  },
  {
   "cell_type": "markdown",
   "metadata": {},
   "source": [
    "IMDB dataset comprises of multiple tables containing various information about movies. The two tables of interest are: `movie_basics` and `movie_ratings`.\n",
    "\n",
    "The `movie_basics` table includes movie titles, release year, and genres. The `movie_ratings` table includes average movie rating and number of votes. The primary key for both tables is `movie_id`.\n",
    "\n",
    "Target data include runtime minutes and average rating."
   ]
  },
  {
   "cell_type": "markdown",
   "metadata": {},
   "source": [
    "**NOTE:** In order to run this notebook, you will need to download the necessary data file. A zipped version of the file can be downloaded: [here](https://github.com/fetterollie/Microsoft-Movie-Analysis/raw/main/zippedData/im.db.zip).\n",
    "\n",
    "1) Download the zipped file into a folder called 'zippedData' within the same folder that this notebook is located. Once this zip file is in located in the zippedData folder, you can run the following cell to unzip it."
   ]
  },
  {
   "cell_type": "code",
   "execution_count": 6,
   "metadata": {},
   "outputs": [],
   "source": [
    "import zipfile\n",
    "with zipfile.ZipFile('zippedData/im.db.zip', 'r') as zip_ref:\n",
    "    zip_ref.extractall('zippedData')"
   ]
  },
  {
   "cell_type": "markdown",
   "metadata": {},
   "source": [
    "2) Run the following cell to confirm that the database file has been downloaded and unzipped to the correct folder:"
   ]
  },
  {
   "cell_type": "code",
   "execution_count": 7,
   "metadata": {},
   "outputs": [
    {
     "name": "stdout",
     "output_type": "stream",
     "text": [
      "You have successfully downloaded and unzipped the database file.  Please proceed.\n"
     ]
    }
   ],
   "source": [
    "from os.path import exists\n",
    "file_exists = exists('zippedData/im.db')\n",
    "if file_exists:\n",
    "    print(\"You have successfully downloaded and unzipped the database file.  Please proceed.\")\n",
    "else:\n",
    "    print(\"The database file was not found.  Please ensure that the database file has been downloaded and unzipped into the 'zippedData' folder located in the folder that this Jupyter notebook resides.\")"
   ]
  },
  {
   "cell_type": "markdown",
   "metadata": {},
   "source": [
    "3) Next, we want to open up the database and examine the database tables."
   ]
  },
  {
   "cell_type": "code",
   "execution_count": 8,
   "metadata": {},
   "outputs": [
    {
     "data": {
      "text/html": [
       "<div>\n",
       "<style scoped>\n",
       "    .dataframe tbody tr th:only-of-type {\n",
       "        vertical-align: middle;\n",
       "    }\n",
       "\n",
       "    .dataframe tbody tr th {\n",
       "        vertical-align: top;\n",
       "    }\n",
       "\n",
       "    .dataframe thead th {\n",
       "        text-align: right;\n",
       "    }\n",
       "</style>\n",
       "<table border=\"1\" class=\"dataframe\">\n",
       "  <thead>\n",
       "    <tr style=\"text-align: right;\">\n",
       "      <th></th>\n",
       "      <th>type</th>\n",
       "      <th>name</th>\n",
       "      <th>tbl_name</th>\n",
       "      <th>rootpage</th>\n",
       "      <th>sql</th>\n",
       "    </tr>\n",
       "  </thead>\n",
       "  <tbody>\n",
       "    <tr>\n",
       "      <th>0</th>\n",
       "      <td>table</td>\n",
       "      <td>movie_basics</td>\n",
       "      <td>movie_basics</td>\n",
       "      <td>2</td>\n",
       "      <td>CREATE TABLE \"movie_basics\" (\\n\"movie_id\" TEXT...</td>\n",
       "    </tr>\n",
       "    <tr>\n",
       "      <th>1</th>\n",
       "      <td>table</td>\n",
       "      <td>directors</td>\n",
       "      <td>directors</td>\n",
       "      <td>3</td>\n",
       "      <td>CREATE TABLE \"directors\" (\\n\"movie_id\" TEXT,\\n...</td>\n",
       "    </tr>\n",
       "    <tr>\n",
       "      <th>2</th>\n",
       "      <td>table</td>\n",
       "      <td>known_for</td>\n",
       "      <td>known_for</td>\n",
       "      <td>4</td>\n",
       "      <td>CREATE TABLE \"known_for\" (\\n\"person_id\" TEXT,\\...</td>\n",
       "    </tr>\n",
       "    <tr>\n",
       "      <th>3</th>\n",
       "      <td>table</td>\n",
       "      <td>movie_akas</td>\n",
       "      <td>movie_akas</td>\n",
       "      <td>5</td>\n",
       "      <td>CREATE TABLE \"movie_akas\" (\\n\"movie_id\" TEXT,\\...</td>\n",
       "    </tr>\n",
       "    <tr>\n",
       "      <th>4</th>\n",
       "      <td>table</td>\n",
       "      <td>movie_ratings</td>\n",
       "      <td>movie_ratings</td>\n",
       "      <td>6</td>\n",
       "      <td>CREATE TABLE \"movie_ratings\" (\\n\"movie_id\" TEX...</td>\n",
       "    </tr>\n",
       "    <tr>\n",
       "      <th>5</th>\n",
       "      <td>table</td>\n",
       "      <td>persons</td>\n",
       "      <td>persons</td>\n",
       "      <td>7</td>\n",
       "      <td>CREATE TABLE \"persons\" (\\n\"person_id\" TEXT,\\n ...</td>\n",
       "    </tr>\n",
       "    <tr>\n",
       "      <th>6</th>\n",
       "      <td>table</td>\n",
       "      <td>principals</td>\n",
       "      <td>principals</td>\n",
       "      <td>8</td>\n",
       "      <td>CREATE TABLE \"principals\" (\\n\"movie_id\" TEXT,\\...</td>\n",
       "    </tr>\n",
       "    <tr>\n",
       "      <th>7</th>\n",
       "      <td>table</td>\n",
       "      <td>writers</td>\n",
       "      <td>writers</td>\n",
       "      <td>9</td>\n",
       "      <td>CREATE TABLE \"writers\" (\\n\"movie_id\" TEXT,\\n  ...</td>\n",
       "    </tr>\n",
       "  </tbody>\n",
       "</table>\n",
       "</div>"
      ],
      "text/plain": [
       "    type           name       tbl_name  rootpage  \\\n",
       "0  table   movie_basics   movie_basics         2   \n",
       "1  table      directors      directors         3   \n",
       "2  table      known_for      known_for         4   \n",
       "3  table     movie_akas     movie_akas         5   \n",
       "4  table  movie_ratings  movie_ratings         6   \n",
       "5  table        persons        persons         7   \n",
       "6  table     principals     principals         8   \n",
       "7  table        writers        writers         9   \n",
       "\n",
       "                                                 sql  \n",
       "0  CREATE TABLE \"movie_basics\" (\\n\"movie_id\" TEXT...  \n",
       "1  CREATE TABLE \"directors\" (\\n\"movie_id\" TEXT,\\n...  \n",
       "2  CREATE TABLE \"known_for\" (\\n\"person_id\" TEXT,\\...  \n",
       "3  CREATE TABLE \"movie_akas\" (\\n\"movie_id\" TEXT,\\...  \n",
       "4  CREATE TABLE \"movie_ratings\" (\\n\"movie_id\" TEX...  \n",
       "5  CREATE TABLE \"persons\" (\\n\"person_id\" TEXT,\\n ...  \n",
       "6  CREATE TABLE \"principals\" (\\n\"movie_id\" TEXT,\\...  \n",
       "7  CREATE TABLE \"writers\" (\\n\"movie_id\" TEXT,\\n  ...  "
      ]
     },
     "execution_count": 8,
     "metadata": {},
     "output_type": "execute_result"
    }
   ],
   "source": [
    "import sqlite3\n",
    "\n",
    "con = sqlite3.connect('zippedData/im.db')\n",
    "query = \"\"\"  SELECT * FROM sqlite_master  \"\"\"\n",
    "tables = pd.read_sql(query, con)\n",
    "tables"
   ]
  },
  {
   "cell_type": "markdown",
   "metadata": {},
   "source": [
    "#### Viewing the tables of interest:"
   ]
  },
  {
   "cell_type": "markdown",
   "metadata": {},
   "source": [
    "Movie basics Table:"
   ]
  },
  {
   "cell_type": "code",
   "execution_count": 9,
   "metadata": {},
   "outputs": [
    {
     "data": {
      "text/html": [
       "<div>\n",
       "<style scoped>\n",
       "    .dataframe tbody tr th:only-of-type {\n",
       "        vertical-align: middle;\n",
       "    }\n",
       "\n",
       "    .dataframe tbody tr th {\n",
       "        vertical-align: top;\n",
       "    }\n",
       "\n",
       "    .dataframe thead th {\n",
       "        text-align: right;\n",
       "    }\n",
       "</style>\n",
       "<table border=\"1\" class=\"dataframe\">\n",
       "  <thead>\n",
       "    <tr style=\"text-align: right;\">\n",
       "      <th></th>\n",
       "      <th>movie_id</th>\n",
       "      <th>primary_title</th>\n",
       "      <th>original_title</th>\n",
       "      <th>start_year</th>\n",
       "      <th>runtime_minutes</th>\n",
       "      <th>genres</th>\n",
       "    </tr>\n",
       "  </thead>\n",
       "  <tbody>\n",
       "    <tr>\n",
       "      <th>0</th>\n",
       "      <td>tt0063540</td>\n",
       "      <td>Sunghursh</td>\n",
       "      <td>Sunghursh</td>\n",
       "      <td>2013</td>\n",
       "      <td>175.0</td>\n",
       "      <td>Action,Crime,Drama</td>\n",
       "    </tr>\n",
       "    <tr>\n",
       "      <th>1</th>\n",
       "      <td>tt0066787</td>\n",
       "      <td>One Day Before the Rainy Season</td>\n",
       "      <td>Ashad Ka Ek Din</td>\n",
       "      <td>2019</td>\n",
       "      <td>114.0</td>\n",
       "      <td>Biography,Drama</td>\n",
       "    </tr>\n",
       "    <tr>\n",
       "      <th>2</th>\n",
       "      <td>tt0069049</td>\n",
       "      <td>The Other Side of the Wind</td>\n",
       "      <td>The Other Side of the Wind</td>\n",
       "      <td>2018</td>\n",
       "      <td>122.0</td>\n",
       "      <td>Drama</td>\n",
       "    </tr>\n",
       "  </tbody>\n",
       "</table>\n",
       "</div>"
      ],
      "text/plain": [
       "    movie_id                    primary_title              original_title  \\\n",
       "0  tt0063540                        Sunghursh                   Sunghursh   \n",
       "1  tt0066787  One Day Before the Rainy Season             Ashad Ka Ek Din   \n",
       "2  tt0069049       The Other Side of the Wind  The Other Side of the Wind   \n",
       "\n",
       "   start_year  runtime_minutes              genres  \n",
       "0        2013            175.0  Action,Crime,Drama  \n",
       "1        2019            114.0     Biography,Drama  \n",
       "2        2018            122.0               Drama  "
      ]
     },
     "execution_count": 9,
     "metadata": {},
     "output_type": "execute_result"
    }
   ],
   "source": [
    "query = \"\"\"  SELECT * FROM movie_basics  \"\"\"\n",
    "movie_basics = pd.read_sql(query, con)\n",
    "movie_basics.head(3)"
   ]
  },
  {
   "cell_type": "markdown",
   "metadata": {},
   "source": [
    "Movie Ratings Table:"
   ]
  },
  {
   "cell_type": "code",
   "execution_count": 10,
   "metadata": {},
   "outputs": [
    {
     "data": {
      "text/html": [
       "<div>\n",
       "<style scoped>\n",
       "    .dataframe tbody tr th:only-of-type {\n",
       "        vertical-align: middle;\n",
       "    }\n",
       "\n",
       "    .dataframe tbody tr th {\n",
       "        vertical-align: top;\n",
       "    }\n",
       "\n",
       "    .dataframe thead th {\n",
       "        text-align: right;\n",
       "    }\n",
       "</style>\n",
       "<table border=\"1\" class=\"dataframe\">\n",
       "  <thead>\n",
       "    <tr style=\"text-align: right;\">\n",
       "      <th></th>\n",
       "      <th>movie_id</th>\n",
       "      <th>averagerating</th>\n",
       "      <th>numvotes</th>\n",
       "    </tr>\n",
       "  </thead>\n",
       "  <tbody>\n",
       "    <tr>\n",
       "      <th>0</th>\n",
       "      <td>tt10356526</td>\n",
       "      <td>8.3</td>\n",
       "      <td>31</td>\n",
       "    </tr>\n",
       "    <tr>\n",
       "      <th>1</th>\n",
       "      <td>tt10384606</td>\n",
       "      <td>8.9</td>\n",
       "      <td>559</td>\n",
       "    </tr>\n",
       "    <tr>\n",
       "      <th>2</th>\n",
       "      <td>tt1042974</td>\n",
       "      <td>6.4</td>\n",
       "      <td>20</td>\n",
       "    </tr>\n",
       "  </tbody>\n",
       "</table>\n",
       "</div>"
      ],
      "text/plain": [
       "     movie_id  averagerating  numvotes\n",
       "0  tt10356526            8.3        31\n",
       "1  tt10384606            8.9       559\n",
       "2   tt1042974            6.4        20"
      ]
     },
     "execution_count": 10,
     "metadata": {},
     "output_type": "execute_result"
    }
   ],
   "source": [
    "query = \"\"\"  SELECT * FROM movie_ratings  \"\"\"\n",
    "movie_ratings = pd.read_sql(query, con)\n",
    "movie_ratings.head(3)"
   ]
  },
  {
   "cell_type": "markdown",
   "metadata": {},
   "source": [
    "## Data Preparation\n",
    "\n",
    "Using three sources of data for this analysis required multiple strategies for cleaning our data. Below, we discuss our process and reasoning for each set.\n",
    "\n",
    "***\n",
    "Questions to consider:\n",
    "* Were there variables you dropped or created?\n",
    "* How did you address missing values or outliers?\n",
    "* Why are these choices appropriate given the data and the business problem?\n",
    "***"
   ]
  },
  {
   "cell_type": "markdown",
   "metadata": {},
   "source": [
    "### 1. The Movies Database\n",
    "#### 1.1 Removing Unnecessary Columns & Filtering Data\n",
    "**Columns to drop:**\n",
    "- `popularity`\n",
    "   - Popularity is based on current website popularity, not how well the movie performed when released or how it was reviewed\n",
    "        - https://developers.themoviedb.org/3/getting-started/popularity\n",
    "    \n",
    "- `id`\n",
    "    - Just a unique identifier, not relevant\n",
    "\n",
    "- `original_title`\n",
    "    - There are two columns for title, we will keep the final title column"
   ]
  },
  {
   "cell_type": "markdown",
   "metadata": {},
   "source": [
    "The `df_cleaning` variable is created to store the dataframe after dropping the columns."
   ]
  },
  {
   "cell_type": "code",
   "execution_count": 11,
   "metadata": {},
   "outputs": [],
   "source": [
    "df_cleaning = df_tmdb.drop(['popularity', 'id', 'original_title'], axis=1)"
   ]
  },
  {
   "cell_type": "markdown",
   "metadata": {},
   "source": [
    "**Columns to filter:**\n",
    "- `original_language`\n",
    "    - Microsoft would make the language in english as the company is based out of the USA\n",
    "    \n",
    "- `vote_Count`\n",
    "    - Microsoft is only interested in a successful movie\n",
    "    - It can be reasonably assumed that movies with fewer votes are less successful\n",
    "    - We are dropping any count values below the mean\n",
    "    \n",
    "- `release_date`\n",
    "    - Microsoft is interested in current data trends\n",
    "        - We will limit the data to the last 10 years of available data (2010-2019)"
   ]
  },
  {
   "cell_type": "markdown",
   "metadata": {},
   "source": [
    "The `df_filtered` variable is created to store the cleaned and filtered dataframe."
   ]
  },
  {
   "cell_type": "markdown",
   "metadata": {},
   "source": [
    "**Removing non-English language films.**"
   ]
  },
  {
   "cell_type": "code",
   "execution_count": 12,
   "metadata": {},
   "outputs": [],
   "source": [
    "df_filtered = df_cleaning[df_cleaning['original_language'] == 'en']\n",
    "df_filtered = df_filtered.drop('original_language', axis=1)"
   ]
  },
  {
   "cell_type": "markdown",
   "metadata": {},
   "source": [
    "**Drop Certain Movies**\n",
    "\n",
    "Dropping movies with a vote count below 200 votes.\n",
    "(We chose this value as it is roughly the average of the number of votes in the dataset)"
   ]
  },
  {
   "cell_type": "code",
   "execution_count": 13,
   "metadata": {},
   "outputs": [
    {
     "data": {
      "text/plain": [
       "count    23291.000000\n",
       "mean       209.307887\n",
       "std       1016.214512\n",
       "min          1.000000\n",
       "25%          1.000000\n",
       "50%          4.000000\n",
       "75%         24.000000\n",
       "max      22186.000000\n",
       "Name: vote_count, dtype: float64"
      ]
     },
     "execution_count": 13,
     "metadata": {},
     "output_type": "execute_result"
    }
   ],
   "source": [
    "df_filtered['vote_count'].describe()"
   ]
  },
  {
   "cell_type": "code",
   "execution_count": 14,
   "metadata": {},
   "outputs": [],
   "source": [
    "df_filtered = df_filtered[df_filtered['vote_count'] > 200]"
   ]
  },
  {
   "cell_type": "markdown",
   "metadata": {},
   "source": [
    "Limiting the number of movies to those released in 2010 and after."
   ]
  },
  {
   "cell_type": "code",
   "execution_count": 15,
   "metadata": {},
   "outputs": [],
   "source": [
    "df_filtered = df_filtered[df_filtered['release_date'] > pd.Timestamp(2010, 1, 1)]"
   ]
  },
  {
   "cell_type": "markdown",
   "metadata": {},
   "source": [
    "We are left with the table `df_filtered` that has 2318 rows and 5 columns of relevant information"
   ]
  },
  {
   "cell_type": "markdown",
   "metadata": {},
   "source": [
    "#### 1.2 Converting the Data"
   ]
  },
  {
   "cell_type": "markdown",
   "metadata": {},
   "source": [
    "**Making sense of the genre_ids**\n",
    "\n",
    "We can see that the genre ID's are in order of best fit rather than numerical or alphabetical order\n",
    "- For index 0: `genre_ids` = [12, 14, 10751]\n",
    "- For index 1: `genre_ids` = [14, 12, 16, 10751]\n",
    "\n",
    "We will take the primary `genre_ids` from the list to isolate the most relevant genre."
   ]
  },
  {
   "cell_type": "markdown",
   "metadata": {},
   "source": [
    "**Determining the data type for genre_ids**\n",
    "\n",
    "Checking the type of data for genre_ids below. Goal is to create new columns with primary and secondary genres."
   ]
  },
  {
   "cell_type": "code",
   "execution_count": 16,
   "metadata": {},
   "outputs": [
    {
     "name": "stdout",
     "output_type": "stream",
     "text": [
      "[12, 14, 10751]\n",
      "<class 'str'>\n"
     ]
    }
   ],
   "source": [
    "print(df_filtered['genre_ids'][0])\n",
    "print(type(df_filtered['genre_ids'][0]))"
   ]
  },
  {
   "cell_type": "markdown",
   "metadata": {},
   "source": [
    "**Created a for-loop that runs through each row of the column** `genre_ids`\n",
    "\n",
    "The data in `genre_ids` looks like a list, but is really a string including brackets. We are able to clean this with a for-loop.\n",
    "\n",
    "The for-loop:\n",
    " - First converts the string to a list of int.\n",
    " - Then it takes each int and assigns it to a new list corresponding to it's position in the original `genre_ids` list.\n",
    " - If there is no value for that iteration, it populates the list with `None`.\n",
    " - I include nonetype so that they stay on point with the correct index."
   ]
  },
  {
   "cell_type": "code",
   "execution_count": 17,
   "metadata": {},
   "outputs": [],
   "source": [
    "char_remove = [\"'\", \" \", \"[\", \"]\"]\n",
    "\n",
    "first_genre = []\n",
    "\n",
    "for x in df_filtered['genre_ids']:\n",
    "    row = x\n",
    "    for char in char_remove:\n",
    "        row = row.replace(char, '')\n",
    "    row = row.split(',')\n",
    "    first_genre.append(row[0])"
   ]
  },
  {
   "cell_type": "markdown",
   "metadata": {},
   "source": [
    "#### 1.3 Adding New Columns"
   ]
  },
  {
   "cell_type": "markdown",
   "metadata": {},
   "source": [
    "**Now that we have a list of primary genre's we can turn it into a column.**"
   ]
  },
  {
   "cell_type": "code",
   "execution_count": 18,
   "metadata": {},
   "outputs": [
    {
     "data": {
      "text/html": [
       "<div>\n",
       "<style scoped>\n",
       "    .dataframe tbody tr th:only-of-type {\n",
       "        vertical-align: middle;\n",
       "    }\n",
       "\n",
       "    .dataframe tbody tr th {\n",
       "        vertical-align: top;\n",
       "    }\n",
       "\n",
       "    .dataframe thead th {\n",
       "        text-align: right;\n",
       "    }\n",
       "</style>\n",
       "<table border=\"1\" class=\"dataframe\">\n",
       "  <thead>\n",
       "    <tr style=\"text-align: right;\">\n",
       "      <th></th>\n",
       "      <th>genre_ids</th>\n",
       "      <th>release_date</th>\n",
       "      <th>title</th>\n",
       "      <th>vote_average</th>\n",
       "      <th>vote_count</th>\n",
       "      <th>primary_genre</th>\n",
       "    </tr>\n",
       "  </thead>\n",
       "  <tbody>\n",
       "    <tr>\n",
       "      <th>0</th>\n",
       "      <td>[12, 14, 10751]</td>\n",
       "      <td>2010-11-19</td>\n",
       "      <td>Harry Potter and the Deathly Hallows: Part 1</td>\n",
       "      <td>7.7</td>\n",
       "      <td>10788</td>\n",
       "      <td>12</td>\n",
       "    </tr>\n",
       "    <tr>\n",
       "      <th>1</th>\n",
       "      <td>[14, 12, 16, 10751]</td>\n",
       "      <td>2010-03-26</td>\n",
       "      <td>How to Train Your Dragon</td>\n",
       "      <td>7.7</td>\n",
       "      <td>7610</td>\n",
       "      <td>14</td>\n",
       "    </tr>\n",
       "    <tr>\n",
       "      <th>2</th>\n",
       "      <td>[12, 28, 878]</td>\n",
       "      <td>2010-05-07</td>\n",
       "      <td>Iron Man 2</td>\n",
       "      <td>6.8</td>\n",
       "      <td>12368</td>\n",
       "      <td>12</td>\n",
       "    </tr>\n",
       "    <tr>\n",
       "      <th>4</th>\n",
       "      <td>[28, 878, 12]</td>\n",
       "      <td>2010-07-16</td>\n",
       "      <td>Inception</td>\n",
       "      <td>8.3</td>\n",
       "      <td>22186</td>\n",
       "      <td>28</td>\n",
       "    </tr>\n",
       "    <tr>\n",
       "      <th>5</th>\n",
       "      <td>[12, 14, 10751]</td>\n",
       "      <td>2010-02-11</td>\n",
       "      <td>Percy Jackson &amp; the Olympians: The Lightning T...</td>\n",
       "      <td>6.1</td>\n",
       "      <td>4229</td>\n",
       "      <td>12</td>\n",
       "    </tr>\n",
       "  </tbody>\n",
       "</table>\n",
       "</div>"
      ],
      "text/plain": [
       "             genre_ids release_date  \\\n",
       "0      [12, 14, 10751]   2010-11-19   \n",
       "1  [14, 12, 16, 10751]   2010-03-26   \n",
       "2        [12, 28, 878]   2010-05-07   \n",
       "4        [28, 878, 12]   2010-07-16   \n",
       "5      [12, 14, 10751]   2010-02-11   \n",
       "\n",
       "                                               title  vote_average  \\\n",
       "0       Harry Potter and the Deathly Hallows: Part 1           7.7   \n",
       "1                           How to Train Your Dragon           7.7   \n",
       "2                                         Iron Man 2           6.8   \n",
       "4                                          Inception           8.3   \n",
       "5  Percy Jackson & the Olympians: The Lightning T...           6.1   \n",
       "\n",
       "   vote_count primary_genre  \n",
       "0       10788            12  \n",
       "1        7610            14  \n",
       "2       12368            12  \n",
       "4       22186            28  \n",
       "5        4229            12  "
      ]
     },
     "execution_count": 18,
     "metadata": {},
     "output_type": "execute_result"
    }
   ],
   "source": [
    "df_filtered['primary_genre'] = first_genre\n",
    "df_filtered.head()"
   ]
  },
  {
   "cell_type": "markdown",
   "metadata": {},
   "source": [
    "**Converting the genre_ids codes to something more understandable**\n",
    "\n",
    "We found the below movie genre key on The MovieDB website. The key allows us to convert the `genre_ids` coding into standard English.\n",
    "\n",
    "(found at: https://www.themoviedb.org/talk/5daf6eb0ae36680011d7e6ee)"
   ]
  },
  {
   "cell_type": "code",
   "execution_count": 19,
   "metadata": {},
   "outputs": [],
   "source": [
    "backwards_key = {\n",
    "'Action' : '28',\n",
    "'Adventure' : '12',\n",
    "'Animation' : '16',\n",
    "'Comedy' : '35',\n",
    "'Crime' : '80',\n",
    "'Documentary' : '99',\n",
    "'Drama' : '18',\n",
    "'Family' : '10751',\n",
    "'Fantasy' : '14',\n",
    "'History' : '36',\n",
    "'Horror' : '27',\n",
    "'Music' : '10402',\n",
    "'Mystery' : '9648',\n",
    "'Romance' : '10749',\n",
    "'Science Fiction' : '878',\n",
    "'TV Movie' : '10770',\n",
    "'Thriller' : '53',\n",
    "'War' : '10752',\n",
    "'Western' : '37'\n",
    "}\n",
    "\n",
    "genre_key = {v: k for k, v in backwards_key.items()}\n",
    "# print(genre_key)"
   ]
  },
  {
   "cell_type": "markdown",
   "metadata": {},
   "source": [
    "**Now to put the key to work and change the `primary_genre` column from numbers to English.**"
   ]
  },
  {
   "cell_type": "code",
   "execution_count": 20,
   "metadata": {
    "scrolled": true
   },
   "outputs": [
    {
     "data": {
      "text/html": [
       "<div>\n",
       "<style scoped>\n",
       "    .dataframe tbody tr th:only-of-type {\n",
       "        vertical-align: middle;\n",
       "    }\n",
       "\n",
       "    .dataframe tbody tr th {\n",
       "        vertical-align: top;\n",
       "    }\n",
       "\n",
       "    .dataframe thead th {\n",
       "        text-align: right;\n",
       "    }\n",
       "</style>\n",
       "<table border=\"1\" class=\"dataframe\">\n",
       "  <thead>\n",
       "    <tr style=\"text-align: right;\">\n",
       "      <th></th>\n",
       "      <th>genre_ids</th>\n",
       "      <th>release_date</th>\n",
       "      <th>title</th>\n",
       "      <th>vote_average</th>\n",
       "      <th>vote_count</th>\n",
       "      <th>primary_genre</th>\n",
       "    </tr>\n",
       "  </thead>\n",
       "  <tbody>\n",
       "    <tr>\n",
       "      <th>0</th>\n",
       "      <td>[12, 14, 10751]</td>\n",
       "      <td>2010-11-19</td>\n",
       "      <td>Harry Potter and the Deathly Hallows: Part 1</td>\n",
       "      <td>7.7</td>\n",
       "      <td>10788</td>\n",
       "      <td>Adventure</td>\n",
       "    </tr>\n",
       "    <tr>\n",
       "      <th>1</th>\n",
       "      <td>[14, 12, 16, 10751]</td>\n",
       "      <td>2010-03-26</td>\n",
       "      <td>How to Train Your Dragon</td>\n",
       "      <td>7.7</td>\n",
       "      <td>7610</td>\n",
       "      <td>Fantasy</td>\n",
       "    </tr>\n",
       "    <tr>\n",
       "      <th>2</th>\n",
       "      <td>[12, 28, 878]</td>\n",
       "      <td>2010-05-07</td>\n",
       "      <td>Iron Man 2</td>\n",
       "      <td>6.8</td>\n",
       "      <td>12368</td>\n",
       "      <td>Adventure</td>\n",
       "    </tr>\n",
       "    <tr>\n",
       "      <th>4</th>\n",
       "      <td>[28, 878, 12]</td>\n",
       "      <td>2010-07-16</td>\n",
       "      <td>Inception</td>\n",
       "      <td>8.3</td>\n",
       "      <td>22186</td>\n",
       "      <td>Action</td>\n",
       "    </tr>\n",
       "    <tr>\n",
       "      <th>5</th>\n",
       "      <td>[12, 14, 10751]</td>\n",
       "      <td>2010-02-11</td>\n",
       "      <td>Percy Jackson &amp; the Olympians: The Lightning T...</td>\n",
       "      <td>6.1</td>\n",
       "      <td>4229</td>\n",
       "      <td>Adventure</td>\n",
       "    </tr>\n",
       "  </tbody>\n",
       "</table>\n",
       "</div>"
      ],
      "text/plain": [
       "             genre_ids release_date  \\\n",
       "0      [12, 14, 10751]   2010-11-19   \n",
       "1  [14, 12, 16, 10751]   2010-03-26   \n",
       "2        [12, 28, 878]   2010-05-07   \n",
       "4        [28, 878, 12]   2010-07-16   \n",
       "5      [12, 14, 10751]   2010-02-11   \n",
       "\n",
       "                                               title  vote_average  \\\n",
       "0       Harry Potter and the Deathly Hallows: Part 1           7.7   \n",
       "1                           How to Train Your Dragon           7.7   \n",
       "2                                         Iron Man 2           6.8   \n",
       "4                                          Inception           8.3   \n",
       "5  Percy Jackson & the Olympians: The Lightning T...           6.1   \n",
       "\n",
       "   vote_count primary_genre  \n",
       "0       10788     Adventure  \n",
       "1        7610       Fantasy  \n",
       "2       12368     Adventure  \n",
       "4       22186        Action  \n",
       "5        4229     Adventure  "
      ]
     },
     "execution_count": 20,
     "metadata": {},
     "output_type": "execute_result"
    }
   ],
   "source": [
    "df_filtered[\"primary_genre\"].replace(genre_key, inplace=True)\n",
    "df_filtered.head()"
   ]
  },
  {
   "cell_type": "markdown",
   "metadata": {},
   "source": [
    "**For the last step before analysis, we'll change the type of `primary_genre` to categorical information.**"
   ]
  },
  {
   "cell_type": "code",
   "execution_count": 21,
   "metadata": {},
   "outputs": [],
   "source": [
    "df_filtered['primary_genre'] = df_filtered['primary_genre'].astype('category')"
   ]
  },
  {
   "cell_type": "markdown",
   "metadata": {},
   "source": [
    "### 2. The Numbers Database"
   ]
  },
  {
   "cell_type": "markdown",
   "metadata": {},
   "source": [
    "#### 2.1 Removing Unnecessary Columns & Filtering Data\n",
    "\n",
    "**Columns to drop:**\n",
    "- `id`\n",
    "    - Just a unique identifier, not relevant\n",
    "- `domestic gross`\n",
    "    - Since we're interested in appealing to an international market, worldwide gross is more relevant than domestic gross."
   ]
  },
  {
   "cell_type": "code",
   "execution_count": 15,
   "metadata": {},
   "outputs": [],
   "source": [
    "tn_df = tn_df.drop(['id', 'domestic_gross'], axis=1)"
   ]
  },
  {
   "cell_type": "markdown",
   "metadata": {},
   "source": [
    "**Columns to filter:**\n",
    "- `worldwide_gross`\n",
    "    - As a large company looking for a box office hit, we want only movies that have a worldwide gross value\n",
    "    - If the zero values indicate missing value, only 6.3% of the data is being dropped, within the 10% rule of thumb\n",
    "- `release_date`\n",
    "    - In line with The Movie Database, only current data (from 2010-2019) was included in this analysis."
   ]
  },
  {
   "cell_type": "markdown",
   "metadata": {},
   "source": [
    "#### Convert Strings of numbers in each column to Int type\n",
    "First define a function and then clean each column"
   ]
  },
  {
   "cell_type": "code",
   "execution_count": 10,
   "metadata": {},
   "outputs": [],
   "source": [
    "def clean_nums(column_title):\n",
    "    '''\n",
    "    Input a column title as a string to remove commas and dollar signs. Return the column as type int.\n",
    "    '''\n",
    "    tn_df[column_title].replace(',','', regex=True, inplace=True)\n",
    "    tn_df[column_title] = tn_df[column_title].map(lambda x: int(x.replace('$','')))\n",
    "\n",
    "    return tn_df"
   ]
  },
  {
   "cell_type": "code",
   "execution_count": 16,
   "metadata": {},
   "outputs": [
    {
     "ename": "AttributeError",
     "evalue": "'int' object has no attribute 'replace'",
     "output_type": "error",
     "traceback": [
      "\u001b[0;31m---------------------------------------------------------------------------\u001b[0m",
      "\u001b[0;31mAttributeError\u001b[0m                            Traceback (most recent call last)",
      "\u001b[0;32m<ipython-input-16-c707d02f8c8a>\u001b[0m in \u001b[0;36m<module>\u001b[0;34m\u001b[0m\n\u001b[0;32m----> 1\u001b[0;31m \u001b[0mclean_nums\u001b[0m\u001b[0;34m(\u001b[0m\u001b[0;34m'production_budget'\u001b[0m\u001b[0;34m)\u001b[0m\u001b[0;34m\u001b[0m\u001b[0;34m\u001b[0m\u001b[0m\n\u001b[0m\u001b[1;32m      2\u001b[0m \u001b[0mclean_nums\u001b[0m\u001b[0;34m(\u001b[0m\u001b[0;34m'domestic_gross'\u001b[0m\u001b[0;34m)\u001b[0m\u001b[0;34m\u001b[0m\u001b[0;34m\u001b[0m\u001b[0m\n\u001b[1;32m      3\u001b[0m \u001b[0mclean_nums\u001b[0m\u001b[0;34m(\u001b[0m\u001b[0;34m'worldwide_gross'\u001b[0m\u001b[0;34m)\u001b[0m\u001b[0;34m\u001b[0m\u001b[0;34m\u001b[0m\u001b[0m\n",
      "\u001b[0;32m<ipython-input-10-ed0dcf639e9f>\u001b[0m in \u001b[0;36mclean_nums\u001b[0;34m(column_title)\u001b[0m\n\u001b[1;32m      4\u001b[0m     '''\n\u001b[1;32m      5\u001b[0m     \u001b[0mtn_df\u001b[0m\u001b[0;34m[\u001b[0m\u001b[0mcolumn_title\u001b[0m\u001b[0;34m]\u001b[0m\u001b[0;34m.\u001b[0m\u001b[0mreplace\u001b[0m\u001b[0;34m(\u001b[0m\u001b[0;34m','\u001b[0m\u001b[0;34m,\u001b[0m\u001b[0;34m''\u001b[0m\u001b[0;34m,\u001b[0m \u001b[0mregex\u001b[0m\u001b[0;34m=\u001b[0m\u001b[0;32mTrue\u001b[0m\u001b[0;34m,\u001b[0m \u001b[0minplace\u001b[0m\u001b[0;34m=\u001b[0m\u001b[0;32mTrue\u001b[0m\u001b[0;34m)\u001b[0m\u001b[0;34m\u001b[0m\u001b[0;34m\u001b[0m\u001b[0m\n\u001b[0;32m----> 6\u001b[0;31m     \u001b[0mtn_df\u001b[0m\u001b[0;34m[\u001b[0m\u001b[0mcolumn_title\u001b[0m\u001b[0;34m]\u001b[0m \u001b[0;34m=\u001b[0m \u001b[0mtn_df\u001b[0m\u001b[0;34m[\u001b[0m\u001b[0mcolumn_title\u001b[0m\u001b[0;34m]\u001b[0m\u001b[0;34m.\u001b[0m\u001b[0mmap\u001b[0m\u001b[0;34m(\u001b[0m\u001b[0;32mlambda\u001b[0m \u001b[0mx\u001b[0m\u001b[0;34m:\u001b[0m \u001b[0mint\u001b[0m\u001b[0;34m(\u001b[0m\u001b[0mx\u001b[0m\u001b[0;34m.\u001b[0m\u001b[0mreplace\u001b[0m\u001b[0;34m(\u001b[0m\u001b[0;34m'$'\u001b[0m\u001b[0;34m,\u001b[0m\u001b[0;34m''\u001b[0m\u001b[0;34m)\u001b[0m\u001b[0;34m)\u001b[0m\u001b[0;34m)\u001b[0m\u001b[0;34m\u001b[0m\u001b[0;34m\u001b[0m\u001b[0m\n\u001b[0m\u001b[1;32m      7\u001b[0m \u001b[0;34m\u001b[0m\u001b[0m\n\u001b[1;32m      8\u001b[0m     \u001b[0;32mreturn\u001b[0m \u001b[0mtn_df\u001b[0m\u001b[0;34m\u001b[0m\u001b[0;34m\u001b[0m\u001b[0m\n",
      "\u001b[0;32m~/opt/anaconda3/envs/learn-env/lib/python3.8/site-packages/pandas/core/series.py\u001b[0m in \u001b[0;36mmap\u001b[0;34m(self, arg, na_action)\u001b[0m\n\u001b[1;32m   3968\u001b[0m         \u001b[0mdtype\u001b[0m\u001b[0;34m:\u001b[0m \u001b[0mobject\u001b[0m\u001b[0;34m\u001b[0m\u001b[0;34m\u001b[0m\u001b[0m\n\u001b[1;32m   3969\u001b[0m         \"\"\"\n\u001b[0;32m-> 3970\u001b[0;31m         \u001b[0mnew_values\u001b[0m \u001b[0;34m=\u001b[0m \u001b[0msuper\u001b[0m\u001b[0;34m(\u001b[0m\u001b[0;34m)\u001b[0m\u001b[0;34m.\u001b[0m\u001b[0m_map_values\u001b[0m\u001b[0;34m(\u001b[0m\u001b[0marg\u001b[0m\u001b[0;34m,\u001b[0m \u001b[0mna_action\u001b[0m\u001b[0;34m=\u001b[0m\u001b[0mna_action\u001b[0m\u001b[0;34m)\u001b[0m\u001b[0;34m\u001b[0m\u001b[0;34m\u001b[0m\u001b[0m\n\u001b[0m\u001b[1;32m   3971\u001b[0m         return self._constructor(new_values, index=self.index).__finalize__(\n\u001b[1;32m   3972\u001b[0m             \u001b[0mself\u001b[0m\u001b[0;34m,\u001b[0m \u001b[0mmethod\u001b[0m\u001b[0;34m=\u001b[0m\u001b[0;34m\"map\"\u001b[0m\u001b[0;34m\u001b[0m\u001b[0;34m\u001b[0m\u001b[0m\n",
      "\u001b[0;32m~/opt/anaconda3/envs/learn-env/lib/python3.8/site-packages/pandas/core/base.py\u001b[0m in \u001b[0;36m_map_values\u001b[0;34m(self, mapper, na_action)\u001b[0m\n\u001b[1;32m   1158\u001b[0m \u001b[0;34m\u001b[0m\u001b[0m\n\u001b[1;32m   1159\u001b[0m         \u001b[0;31m# mapper is a function\u001b[0m\u001b[0;34m\u001b[0m\u001b[0;34m\u001b[0m\u001b[0;34m\u001b[0m\u001b[0m\n\u001b[0;32m-> 1160\u001b[0;31m         \u001b[0mnew_values\u001b[0m \u001b[0;34m=\u001b[0m \u001b[0mmap_f\u001b[0m\u001b[0;34m(\u001b[0m\u001b[0mvalues\u001b[0m\u001b[0;34m,\u001b[0m \u001b[0mmapper\u001b[0m\u001b[0;34m)\u001b[0m\u001b[0;34m\u001b[0m\u001b[0;34m\u001b[0m\u001b[0m\n\u001b[0m\u001b[1;32m   1161\u001b[0m \u001b[0;34m\u001b[0m\u001b[0m\n\u001b[1;32m   1162\u001b[0m         \u001b[0;32mreturn\u001b[0m \u001b[0mnew_values\u001b[0m\u001b[0;34m\u001b[0m\u001b[0;34m\u001b[0m\u001b[0m\n",
      "\u001b[0;32mpandas/_libs/lib.pyx\u001b[0m in \u001b[0;36mpandas._libs.lib.map_infer\u001b[0;34m()\u001b[0m\n",
      "\u001b[0;32m<ipython-input-10-ed0dcf639e9f>\u001b[0m in \u001b[0;36m<lambda>\u001b[0;34m(x)\u001b[0m\n\u001b[1;32m      4\u001b[0m     '''\n\u001b[1;32m      5\u001b[0m     \u001b[0mtn_df\u001b[0m\u001b[0;34m[\u001b[0m\u001b[0mcolumn_title\u001b[0m\u001b[0;34m]\u001b[0m\u001b[0;34m.\u001b[0m\u001b[0mreplace\u001b[0m\u001b[0;34m(\u001b[0m\u001b[0;34m','\u001b[0m\u001b[0;34m,\u001b[0m\u001b[0;34m''\u001b[0m\u001b[0;34m,\u001b[0m \u001b[0mregex\u001b[0m\u001b[0;34m=\u001b[0m\u001b[0;32mTrue\u001b[0m\u001b[0;34m,\u001b[0m \u001b[0minplace\u001b[0m\u001b[0;34m=\u001b[0m\u001b[0;32mTrue\u001b[0m\u001b[0;34m)\u001b[0m\u001b[0;34m\u001b[0m\u001b[0;34m\u001b[0m\u001b[0m\n\u001b[0;32m----> 6\u001b[0;31m     \u001b[0mtn_df\u001b[0m\u001b[0;34m[\u001b[0m\u001b[0mcolumn_title\u001b[0m\u001b[0;34m]\u001b[0m \u001b[0;34m=\u001b[0m \u001b[0mtn_df\u001b[0m\u001b[0;34m[\u001b[0m\u001b[0mcolumn_title\u001b[0m\u001b[0;34m]\u001b[0m\u001b[0;34m.\u001b[0m\u001b[0mmap\u001b[0m\u001b[0;34m(\u001b[0m\u001b[0;32mlambda\u001b[0m \u001b[0mx\u001b[0m\u001b[0;34m:\u001b[0m \u001b[0mint\u001b[0m\u001b[0;34m(\u001b[0m\u001b[0mx\u001b[0m\u001b[0;34m.\u001b[0m\u001b[0mreplace\u001b[0m\u001b[0;34m(\u001b[0m\u001b[0;34m'$'\u001b[0m\u001b[0;34m,\u001b[0m\u001b[0;34m''\u001b[0m\u001b[0;34m)\u001b[0m\u001b[0;34m)\u001b[0m\u001b[0;34m)\u001b[0m\u001b[0;34m\u001b[0m\u001b[0;34m\u001b[0m\u001b[0m\n\u001b[0m\u001b[1;32m      7\u001b[0m \u001b[0;34m\u001b[0m\u001b[0m\n\u001b[1;32m      8\u001b[0m     \u001b[0;32mreturn\u001b[0m \u001b[0mtn_df\u001b[0m\u001b[0;34m\u001b[0m\u001b[0;34m\u001b[0m\u001b[0m\n",
      "\u001b[0;31mAttributeError\u001b[0m: 'int' object has no attribute 'replace'"
     ]
    }
   ],
   "source": [
    "clean_nums('production_budget')\n",
    "clean_nums('domestic_gross')\n",
    "clean_nums('worldwide_gross')"
   ]
  },
  {
   "cell_type": "markdown",
   "metadata": {},
   "source": [
    "**Dropping movies with zero values for Worldwide Gross**"
   ]
  },
  {
   "cell_type": "code",
   "execution_count": 17,
   "metadata": {},
   "outputs": [],
   "source": [
    "tn_df = tn_df[tn_df['worldwide_gross'] != 0]\n",
    "# tn_df.head()"
   ]
  },
  {
   "cell_type": "markdown",
   "metadata": {},
   "source": [
    "**Filtering dataset to only include movies released between 2010-2019**"
   ]
  },
  {
   "cell_type": "code",
   "execution_count": 13,
   "metadata": {},
   "outputs": [],
   "source": [
    "tn_df = tn_df[tn_df['release_date'] > pd.Timestamp(2010, 1, 1)]"
   ]
  },
  {
   "cell_type": "markdown",
   "metadata": {},
   "source": [
    "This leaves us with 1922 rows and 4 columns of usable data"
   ]
  },
  {
   "cell_type": "markdown",
   "metadata": {},
   "source": [
    "#### 2.2 Adding New Columns"
   ]
  },
  {
   "cell_type": "markdown",
   "metadata": {},
   "source": [
    "#### Calculate Net Profit and ROI as a new variable in dataset\n",
    "Net profit = worldwide gross - production budget\n",
    "\n",
    "ROI (return on investment) calculates the benefit of an investment relative to the cost, and is generally expressed as a percentage.\n",
    "\n",
    "ROI = (net profit/production budget) x 100%"
   ]
  },
  {
   "cell_type": "code",
   "execution_count": 31,
   "metadata": {},
   "outputs": [
    {
     "data": {
      "text/html": [
       "<div>\n",
       "<style scoped>\n",
       "    .dataframe tbody tr th:only-of-type {\n",
       "        vertical-align: middle;\n",
       "    }\n",
       "\n",
       "    .dataframe tbody tr th {\n",
       "        vertical-align: top;\n",
       "    }\n",
       "\n",
       "    .dataframe thead th {\n",
       "        text-align: right;\n",
       "    }\n",
       "</style>\n",
       "<table border=\"1\" class=\"dataframe\">\n",
       "  <thead>\n",
       "    <tr style=\"text-align: right;\">\n",
       "      <th></th>\n",
       "      <th>release_date</th>\n",
       "      <th>movie</th>\n",
       "      <th>production_budget</th>\n",
       "      <th>worldwide_gross</th>\n",
       "      <th>net_profit</th>\n",
       "      <th>budget_mils</th>\n",
       "      <th>profit_mils</th>\n",
       "      <th>budget_groups</th>\n",
       "      <th>roi</th>\n",
       "    </tr>\n",
       "  </thead>\n",
       "  <tbody>\n",
       "    <tr>\n",
       "      <th>1</th>\n",
       "      <td>2011-05-20</td>\n",
       "      <td>Pirates of the Caribbean: On Stranger Tides</td>\n",
       "      <td>410600000</td>\n",
       "      <td>1045663875</td>\n",
       "      <td>635063875</td>\n",
       "      <td>410.600</td>\n",
       "      <td>635.063875</td>\n",
       "      <td>High</td>\n",
       "      <td>154.667286</td>\n",
       "    </tr>\n",
       "    <tr>\n",
       "      <th>2</th>\n",
       "      <td>2019-06-07</td>\n",
       "      <td>Dark Phoenix</td>\n",
       "      <td>350000000</td>\n",
       "      <td>149762350</td>\n",
       "      <td>-200237650</td>\n",
       "      <td>350.000</td>\n",
       "      <td>-200.237650</td>\n",
       "      <td>High</td>\n",
       "      <td>-57.210757</td>\n",
       "    </tr>\n",
       "    <tr>\n",
       "      <th>3</th>\n",
       "      <td>2015-05-01</td>\n",
       "      <td>Avengers: Age of Ultron</td>\n",
       "      <td>330600000</td>\n",
       "      <td>1403013963</td>\n",
       "      <td>1072413963</td>\n",
       "      <td>330.600</td>\n",
       "      <td>1072.413963</td>\n",
       "      <td>High</td>\n",
       "      <td>324.384139</td>\n",
       "    </tr>\n",
       "    <tr>\n",
       "      <th>4</th>\n",
       "      <td>2017-12-15</td>\n",
       "      <td>Star Wars Ep. VIII: The Last Jedi</td>\n",
       "      <td>317000000</td>\n",
       "      <td>1316721747</td>\n",
       "      <td>999721747</td>\n",
       "      <td>317.000</td>\n",
       "      <td>999.721747</td>\n",
       "      <td>High</td>\n",
       "      <td>315.369636</td>\n",
       "    </tr>\n",
       "    <tr>\n",
       "      <th>5</th>\n",
       "      <td>2015-12-18</td>\n",
       "      <td>Star Wars Ep. VII: The Force Awakens</td>\n",
       "      <td>306000000</td>\n",
       "      <td>2053311220</td>\n",
       "      <td>1747311220</td>\n",
       "      <td>306.000</td>\n",
       "      <td>1747.311220</td>\n",
       "      <td>High</td>\n",
       "      <td>571.016739</td>\n",
       "    </tr>\n",
       "    <tr>\n",
       "      <th>...</th>\n",
       "      <td>...</td>\n",
       "      <td>...</td>\n",
       "      <td>...</td>\n",
       "      <td>...</td>\n",
       "      <td>...</td>\n",
       "      <td>...</td>\n",
       "      <td>...</td>\n",
       "      <td>...</td>\n",
       "      <td>...</td>\n",
       "    </tr>\n",
       "    <tr>\n",
       "      <th>5740</th>\n",
       "      <td>2010-10-15</td>\n",
       "      <td>Down Terrace</td>\n",
       "      <td>30000</td>\n",
       "      <td>9812</td>\n",
       "      <td>-20188</td>\n",
       "      <td>0.030</td>\n",
       "      <td>-0.020188</td>\n",
       "      <td>Low</td>\n",
       "      <td>-67.293333</td>\n",
       "    </tr>\n",
       "    <tr>\n",
       "      <th>5744</th>\n",
       "      <td>2017-01-27</td>\n",
       "      <td>Emily</td>\n",
       "      <td>27000</td>\n",
       "      <td>3547</td>\n",
       "      <td>-23453</td>\n",
       "      <td>0.027</td>\n",
       "      <td>-0.023453</td>\n",
       "      <td>Low</td>\n",
       "      <td>-86.862963</td>\n",
       "    </tr>\n",
       "    <tr>\n",
       "      <th>5748</th>\n",
       "      <td>2015-09-01</td>\n",
       "      <td>Exeter</td>\n",
       "      <td>25000</td>\n",
       "      <td>489792</td>\n",
       "      <td>464792</td>\n",
       "      <td>0.025</td>\n",
       "      <td>0.464792</td>\n",
       "      <td>Low</td>\n",
       "      <td>1859.168000</td>\n",
       "    </tr>\n",
       "    <tr>\n",
       "      <th>5760</th>\n",
       "      <td>2010-04-02</td>\n",
       "      <td>Breaking Upwards</td>\n",
       "      <td>15000</td>\n",
       "      <td>115592</td>\n",
       "      <td>100592</td>\n",
       "      <td>0.015</td>\n",
       "      <td>0.100592</td>\n",
       "      <td>Low</td>\n",
       "      <td>670.613333</td>\n",
       "    </tr>\n",
       "    <tr>\n",
       "      <th>5772</th>\n",
       "      <td>2012-01-13</td>\n",
       "      <td>Newlyweds</td>\n",
       "      <td>9000</td>\n",
       "      <td>4584</td>\n",
       "      <td>-4416</td>\n",
       "      <td>0.009</td>\n",
       "      <td>-0.004416</td>\n",
       "      <td>Low</td>\n",
       "      <td>-49.066667</td>\n",
       "    </tr>\n",
       "  </tbody>\n",
       "</table>\n",
       "<p>1922 rows × 9 columns</p>\n",
       "</div>"
      ],
      "text/plain": [
       "     release_date                                        movie  \\\n",
       "1      2011-05-20  Pirates of the Caribbean: On Stranger Tides   \n",
       "2      2019-06-07                                 Dark Phoenix   \n",
       "3      2015-05-01                      Avengers: Age of Ultron   \n",
       "4      2017-12-15            Star Wars Ep. VIII: The Last Jedi   \n",
       "5      2015-12-18         Star Wars Ep. VII: The Force Awakens   \n",
       "...           ...                                          ...   \n",
       "5740   2010-10-15                                 Down Terrace   \n",
       "5744   2017-01-27                                        Emily   \n",
       "5748   2015-09-01                                       Exeter   \n",
       "5760   2010-04-02                             Breaking Upwards   \n",
       "5772   2012-01-13                                    Newlyweds   \n",
       "\n",
       "      production_budget  worldwide_gross  net_profit  budget_mils  \\\n",
       "1             410600000       1045663875   635063875      410.600   \n",
       "2             350000000        149762350  -200237650      350.000   \n",
       "3             330600000       1403013963  1072413963      330.600   \n",
       "4             317000000       1316721747   999721747      317.000   \n",
       "5             306000000       2053311220  1747311220      306.000   \n",
       "...                 ...              ...         ...          ...   \n",
       "5740              30000             9812      -20188        0.030   \n",
       "5744              27000             3547      -23453        0.027   \n",
       "5748              25000           489792      464792        0.025   \n",
       "5760              15000           115592      100592        0.015   \n",
       "5772               9000             4584       -4416        0.009   \n",
       "\n",
       "      profit_mils budget_groups          roi  \n",
       "1      635.063875          High   154.667286  \n",
       "2     -200.237650          High   -57.210757  \n",
       "3     1072.413963          High   324.384139  \n",
       "4      999.721747          High   315.369636  \n",
       "5     1747.311220          High   571.016739  \n",
       "...           ...           ...          ...  \n",
       "5740    -0.020188           Low   -67.293333  \n",
       "5744    -0.023453           Low   -86.862963  \n",
       "5748     0.464792           Low  1859.168000  \n",
       "5760     0.100592           Low   670.613333  \n",
       "5772    -0.004416           Low   -49.066667  \n",
       "\n",
       "[1922 rows x 9 columns]"
      ]
     },
     "execution_count": 31,
     "metadata": {},
     "output_type": "execute_result"
    }
   ],
   "source": [
    "tn_df = tn_df.assign(net_profit = tn_df['worldwide_gross'] - tn_df['production_budget'])\n",
    "tn_df.head()\n",
    "\n",
    "tn_df['roi'] = tn_df['profit_mils']/tn_df['budget_mils']*100\n",
    "\n",
    "tn_df"
   ]
  },
  {
   "cell_type": "markdown",
   "metadata": {},
   "source": [
    "##### Convert numerical columns to be in millions for graph readability"
   ]
  },
  {
   "cell_type": "code",
   "execution_count": 30,
   "metadata": {},
   "outputs": [],
   "source": [
    "tn_df['budget_mils'] = tn_df['production_budget'] / 1000000\n",
    "tn_df['profit_mils'] = tn_df['net_profit']/1000000"
   ]
  },
  {
   "cell_type": "markdown",
   "metadata": {
    "heading_collapsed": true
   },
   "source": [
    "### Joining The Movies Database with The Numbers Database"
   ]
  },
  {
   "cell_type": "markdown",
   "metadata": {
    "hidden": true
   },
   "source": [
    "We decided to join the two databases so we could compare columns from each.\n",
    "\n",
    "Prep The Movies Database to join:"
   ]
  },
  {
   "cell_type": "code",
   "execution_count": 28,
   "metadata": {
    "hidden": true
   },
   "outputs": [
    {
     "data": {
      "text/html": [
       "<div>\n",
       "<style scoped>\n",
       "    .dataframe tbody tr th:only-of-type {\n",
       "        vertical-align: middle;\n",
       "    }\n",
       "\n",
       "    .dataframe tbody tr th {\n",
       "        vertical-align: top;\n",
       "    }\n",
       "\n",
       "    .dataframe thead th {\n",
       "        text-align: right;\n",
       "    }\n",
       "</style>\n",
       "<table border=\"1\" class=\"dataframe\">\n",
       "  <thead>\n",
       "    <tr style=\"text-align: right;\">\n",
       "      <th></th>\n",
       "      <th>release_date</th>\n",
       "      <th>title</th>\n",
       "      <th>vote_average</th>\n",
       "      <th>vote_count</th>\n",
       "      <th>primary_genre</th>\n",
       "    </tr>\n",
       "    <tr>\n",
       "      <th>movie</th>\n",
       "      <th></th>\n",
       "      <th></th>\n",
       "      <th></th>\n",
       "      <th></th>\n",
       "      <th></th>\n",
       "    </tr>\n",
       "  </thead>\n",
       "  <tbody>\n",
       "    <tr>\n",
       "      <th>Harry Potter and the Deathly Hallows: Part 1</th>\n",
       "      <td>2010-11-19</td>\n",
       "      <td>Harry Potter and the Deathly Hallows: Part 1</td>\n",
       "      <td>7.7</td>\n",
       "      <td>10788</td>\n",
       "      <td>Adventure</td>\n",
       "    </tr>\n",
       "  </tbody>\n",
       "</table>\n",
       "</div>"
      ],
      "text/plain": [
       "                                             release_date  \\\n",
       "movie                                                       \n",
       "Harry Potter and the Deathly Hallows: Part 1   2010-11-19   \n",
       "\n",
       "                                                                                     title  \\\n",
       "movie                                                                                        \n",
       "Harry Potter and the Deathly Hallows: Part 1  Harry Potter and the Deathly Hallows: Part 1   \n",
       "\n",
       "                                              vote_average  vote_count  \\\n",
       "movie                                                                    \n",
       "Harry Potter and the Deathly Hallows: Part 1           7.7       10788   \n",
       "\n",
       "                                             primary_genre  \n",
       "movie                                                       \n",
       "Harry Potter and the Deathly Hallows: Part 1     Adventure  "
      ]
     },
     "execution_count": 28,
     "metadata": {},
     "output_type": "execute_result"
    }
   ],
   "source": [
    "df_tmdb_mod = df_filtered\n",
    "df_tmdb_mod['movie'] = df_tmdb_mod['title']\n",
    "df_tmdb_mod = df_tmdb_mod.set_index('movie')\n",
    "df_tmdb_mod = df_tmdb_mod.drop('genre_ids', axis=1)\n",
    "df_tmdb_mod.head(1)"
   ]
  },
  {
   "cell_type": "markdown",
   "metadata": {
    "hidden": true
   },
   "source": [
    "Prep The Numbers Database to join:"
   ]
  },
  {
   "cell_type": "code",
   "execution_count": 29,
   "metadata": {
    "hidden": true
   },
   "outputs": [
    {
     "data": {
      "text/html": [
       "<div>\n",
       "<style scoped>\n",
       "    .dataframe tbody tr th:only-of-type {\n",
       "        vertical-align: middle;\n",
       "    }\n",
       "\n",
       "    .dataframe tbody tr th {\n",
       "        vertical-align: top;\n",
       "    }\n",
       "\n",
       "    .dataframe thead th {\n",
       "        text-align: right;\n",
       "    }\n",
       "</style>\n",
       "<table border=\"1\" class=\"dataframe\">\n",
       "  <thead>\n",
       "    <tr style=\"text-align: right;\">\n",
       "      <th></th>\n",
       "      <th>production_budget</th>\n",
       "      <th>domestic_gross</th>\n",
       "      <th>worldwide_gross</th>\n",
       "      <th>net_profit</th>\n",
       "      <th>budget_mils</th>\n",
       "      <th>profit_mils</th>\n",
       "    </tr>\n",
       "    <tr>\n",
       "      <th>movie</th>\n",
       "      <th></th>\n",
       "      <th></th>\n",
       "      <th></th>\n",
       "      <th></th>\n",
       "      <th></th>\n",
       "      <th></th>\n",
       "    </tr>\n",
       "  </thead>\n",
       "  <tbody>\n",
       "    <tr>\n",
       "      <th>Avatar</th>\n",
       "      <td>425000000</td>\n",
       "      <td>760507625</td>\n",
       "      <td>2776345279</td>\n",
       "      <td>2351345279</td>\n",
       "      <td>425.0</td>\n",
       "      <td>2351.345279</td>\n",
       "    </tr>\n",
       "  </tbody>\n",
       "</table>\n",
       "</div>"
      ],
      "text/plain": [
       "        production_budget  domestic_gross  worldwide_gross  net_profit  \\\n",
       "movie                                                                    \n",
       "Avatar          425000000       760507625       2776345279  2351345279   \n",
       "\n",
       "        budget_mils  profit_mils  \n",
       "movie                             \n",
       "Avatar        425.0  2351.345279  "
      ]
     },
     "execution_count": 29,
     "metadata": {},
     "output_type": "execute_result"
    }
   ],
   "source": [
    "df_tndb_mod = tn_df.set_index('movie')\n",
    "df_tndb_mod = df_tndb_mod.drop('release_date', axis=1)\n",
    "df_tndb_mod.head(1)"
   ]
  },
  {
   "cell_type": "markdown",
   "metadata": {
    "hidden": true
   },
   "source": [
    "Executing the join:"
   ]
  },
  {
   "cell_type": "code",
   "execution_count": 30,
   "metadata": {
    "hidden": true
   },
   "outputs": [
    {
     "data": {
      "text/html": [
       "<div>\n",
       "<style scoped>\n",
       "    .dataframe tbody tr th:only-of-type {\n",
       "        vertical-align: middle;\n",
       "    }\n",
       "\n",
       "    .dataframe tbody tr th {\n",
       "        vertical-align: top;\n",
       "    }\n",
       "\n",
       "    .dataframe thead th {\n",
       "        text-align: right;\n",
       "    }\n",
       "</style>\n",
       "<table border=\"1\" class=\"dataframe\">\n",
       "  <thead>\n",
       "    <tr style=\"text-align: right;\">\n",
       "      <th></th>\n",
       "      <th>release_date</th>\n",
       "      <th>title</th>\n",
       "      <th>vote_average</th>\n",
       "      <th>vote_count</th>\n",
       "      <th>primary_genre</th>\n",
       "      <th>production_budget</th>\n",
       "      <th>domestic_gross</th>\n",
       "      <th>worldwide_gross</th>\n",
       "      <th>net_profit</th>\n",
       "      <th>budget_mils</th>\n",
       "      <th>profit_mils</th>\n",
       "    </tr>\n",
       "    <tr>\n",
       "      <th>movie</th>\n",
       "      <th></th>\n",
       "      <th></th>\n",
       "      <th></th>\n",
       "      <th></th>\n",
       "      <th></th>\n",
       "      <th></th>\n",
       "      <th></th>\n",
       "      <th></th>\n",
       "      <th></th>\n",
       "      <th></th>\n",
       "      <th></th>\n",
       "    </tr>\n",
       "  </thead>\n",
       "  <tbody>\n",
       "    <tr>\n",
       "      <th>How to Train Your Dragon</th>\n",
       "      <td>2010-03-26</td>\n",
       "      <td>How to Train Your Dragon</td>\n",
       "      <td>7.7</td>\n",
       "      <td>7610</td>\n",
       "      <td>Fantasy</td>\n",
       "      <td>165000000</td>\n",
       "      <td>217581232</td>\n",
       "      <td>494870992</td>\n",
       "      <td>329870992</td>\n",
       "      <td>165.0</td>\n",
       "      <td>329.870992</td>\n",
       "    </tr>\n",
       "    <tr>\n",
       "      <th>Iron Man 2</th>\n",
       "      <td>2010-05-07</td>\n",
       "      <td>Iron Man 2</td>\n",
       "      <td>6.8</td>\n",
       "      <td>12368</td>\n",
       "      <td>Adventure</td>\n",
       "      <td>170000000</td>\n",
       "      <td>312433331</td>\n",
       "      <td>621156389</td>\n",
       "      <td>451156389</td>\n",
       "      <td>170.0</td>\n",
       "      <td>451.156389</td>\n",
       "    </tr>\n",
       "    <tr>\n",
       "      <th>Inception</th>\n",
       "      <td>2010-07-16</td>\n",
       "      <td>Inception</td>\n",
       "      <td>8.3</td>\n",
       "      <td>22186</td>\n",
       "      <td>Action</td>\n",
       "      <td>160000000</td>\n",
       "      <td>292576195</td>\n",
       "      <td>835524642</td>\n",
       "      <td>675524642</td>\n",
       "      <td>160.0</td>\n",
       "      <td>675.524642</td>\n",
       "    </tr>\n",
       "    <tr>\n",
       "      <th>Percy Jackson &amp; the Olympians: The Lightning Thief</th>\n",
       "      <td>2010-02-11</td>\n",
       "      <td>Percy Jackson &amp; the Olympians: The Lightning T...</td>\n",
       "      <td>6.1</td>\n",
       "      <td>4229</td>\n",
       "      <td>Adventure</td>\n",
       "      <td>95000000</td>\n",
       "      <td>88768303</td>\n",
       "      <td>223050874</td>\n",
       "      <td>128050874</td>\n",
       "      <td>95.0</td>\n",
       "      <td>128.050874</td>\n",
       "    </tr>\n",
       "    <tr>\n",
       "      <th>Toy Story 3</th>\n",
       "      <td>2010-06-17</td>\n",
       "      <td>Toy Story 3</td>\n",
       "      <td>7.7</td>\n",
       "      <td>8340</td>\n",
       "      <td>Animation</td>\n",
       "      <td>200000000</td>\n",
       "      <td>415004880</td>\n",
       "      <td>1068879522</td>\n",
       "      <td>868879522</td>\n",
       "      <td>200.0</td>\n",
       "      <td>868.879522</td>\n",
       "    </tr>\n",
       "    <tr>\n",
       "      <th>...</th>\n",
       "      <td>...</td>\n",
       "      <td>...</td>\n",
       "      <td>...</td>\n",
       "      <td>...</td>\n",
       "      <td>...</td>\n",
       "      <td>...</td>\n",
       "      <td>...</td>\n",
       "      <td>...</td>\n",
       "      <td>...</td>\n",
       "      <td>...</td>\n",
       "      <td>...</td>\n",
       "    </tr>\n",
       "    <tr>\n",
       "      <th>The 15:17 to Paris</th>\n",
       "      <td>2018-02-09</td>\n",
       "      <td>The 15:17 to Paris</td>\n",
       "      <td>5.3</td>\n",
       "      <td>799</td>\n",
       "      <td>Drama</td>\n",
       "      <td>30000000</td>\n",
       "      <td>36276286</td>\n",
       "      <td>56096200</td>\n",
       "      <td>26096200</td>\n",
       "      <td>30.0</td>\n",
       "      <td>26.096200</td>\n",
       "    </tr>\n",
       "    <tr>\n",
       "      <th>Book Club</th>\n",
       "      <td>2018-05-18</td>\n",
       "      <td>Book Club</td>\n",
       "      <td>6.0</td>\n",
       "      <td>301</td>\n",
       "      <td>Comedy</td>\n",
       "      <td>10000000</td>\n",
       "      <td>68566296</td>\n",
       "      <td>91113683</td>\n",
       "      <td>81113683</td>\n",
       "      <td>10.0</td>\n",
       "      <td>81.113683</td>\n",
       "    </tr>\n",
       "    <tr>\n",
       "      <th>Uncle Drew</th>\n",
       "      <td>2018-06-29</td>\n",
       "      <td>Uncle Drew</td>\n",
       "      <td>6.5</td>\n",
       "      <td>220</td>\n",
       "      <td>Comedy</td>\n",
       "      <td>18000000</td>\n",
       "      <td>42469946</td>\n",
       "      <td>46527161</td>\n",
       "      <td>28527161</td>\n",
       "      <td>18.0</td>\n",
       "      <td>28.527161</td>\n",
       "    </tr>\n",
       "    <tr>\n",
       "      <th>Gotti</th>\n",
       "      <td>2018-06-15</td>\n",
       "      <td>Gotti</td>\n",
       "      <td>5.2</td>\n",
       "      <td>231</td>\n",
       "      <td>Crime</td>\n",
       "      <td>10000000</td>\n",
       "      <td>4286367</td>\n",
       "      <td>6089100</td>\n",
       "      <td>-3910900</td>\n",
       "      <td>10.0</td>\n",
       "      <td>-3.910900</td>\n",
       "    </tr>\n",
       "    <tr>\n",
       "      <th>Proud Mary</th>\n",
       "      <td>2018-01-12</td>\n",
       "      <td>Proud Mary</td>\n",
       "      <td>5.5</td>\n",
       "      <td>259</td>\n",
       "      <td>Thriller</td>\n",
       "      <td>30000000</td>\n",
       "      <td>20868638</td>\n",
       "      <td>21709539</td>\n",
       "      <td>-8290461</td>\n",
       "      <td>30.0</td>\n",
       "      <td>-8.290461</td>\n",
       "    </tr>\n",
       "  </tbody>\n",
       "</table>\n",
       "<p>1424 rows × 11 columns</p>\n",
       "</div>"
      ],
      "text/plain": [
       "                                                   release_date  \\\n",
       "movie                                                             \n",
       "How to Train Your Dragon                             2010-03-26   \n",
       "Iron Man 2                                           2010-05-07   \n",
       "Inception                                            2010-07-16   \n",
       "Percy Jackson & the Olympians: The Lightning Thief   2010-02-11   \n",
       "Toy Story 3                                          2010-06-17   \n",
       "...                                                         ...   \n",
       "The 15:17 to Paris                                   2018-02-09   \n",
       "Book Club                                            2018-05-18   \n",
       "Uncle Drew                                           2018-06-29   \n",
       "Gotti                                                2018-06-15   \n",
       "Proud Mary                                           2018-01-12   \n",
       "\n",
       "                                                                                                title  \\\n",
       "movie                                                                                                   \n",
       "How to Train Your Dragon                                                     How to Train Your Dragon   \n",
       "Iron Man 2                                                                                 Iron Man 2   \n",
       "Inception                                                                                   Inception   \n",
       "Percy Jackson & the Olympians: The Lightning Thief  Percy Jackson & the Olympians: The Lightning T...   \n",
       "Toy Story 3                                                                               Toy Story 3   \n",
       "...                                                                                               ...   \n",
       "The 15:17 to Paris                                                                 The 15:17 to Paris   \n",
       "Book Club                                                                                   Book Club   \n",
       "Uncle Drew                                                                                 Uncle Drew   \n",
       "Gotti                                                                                           Gotti   \n",
       "Proud Mary                                                                                 Proud Mary   \n",
       "\n",
       "                                                    vote_average  vote_count  \\\n",
       "movie                                                                          \n",
       "How to Train Your Dragon                                     7.7        7610   \n",
       "Iron Man 2                                                   6.8       12368   \n",
       "Inception                                                    8.3       22186   \n",
       "Percy Jackson & the Olympians: The Lightning Thief           6.1        4229   \n",
       "Toy Story 3                                                  7.7        8340   \n",
       "...                                                          ...         ...   \n",
       "The 15:17 to Paris                                           5.3         799   \n",
       "Book Club                                                    6.0         301   \n",
       "Uncle Drew                                                   6.5         220   \n",
       "Gotti                                                        5.2         231   \n",
       "Proud Mary                                                   5.5         259   \n",
       "\n",
       "                                                   primary_genre  \\\n",
       "movie                                                              \n",
       "How to Train Your Dragon                                 Fantasy   \n",
       "Iron Man 2                                             Adventure   \n",
       "Inception                                                 Action   \n",
       "Percy Jackson & the Olympians: The Lightning Thief     Adventure   \n",
       "Toy Story 3                                            Animation   \n",
       "...                                                          ...   \n",
       "The 15:17 to Paris                                         Drama   \n",
       "Book Club                                                 Comedy   \n",
       "Uncle Drew                                                Comedy   \n",
       "Gotti                                                      Crime   \n",
       "Proud Mary                                              Thriller   \n",
       "\n",
       "                                                    production_budget  \\\n",
       "movie                                                                   \n",
       "How to Train Your Dragon                                    165000000   \n",
       "Iron Man 2                                                  170000000   \n",
       "Inception                                                   160000000   \n",
       "Percy Jackson & the Olympians: The Lightning Thief           95000000   \n",
       "Toy Story 3                                                 200000000   \n",
       "...                                                               ...   \n",
       "The 15:17 to Paris                                           30000000   \n",
       "Book Club                                                    10000000   \n",
       "Uncle Drew                                                   18000000   \n",
       "Gotti                                                        10000000   \n",
       "Proud Mary                                                   30000000   \n",
       "\n",
       "                                                    domestic_gross  \\\n",
       "movie                                                                \n",
       "How to Train Your Dragon                                 217581232   \n",
       "Iron Man 2                                               312433331   \n",
       "Inception                                                292576195   \n",
       "Percy Jackson & the Olympians: The Lightning Thief        88768303   \n",
       "Toy Story 3                                              415004880   \n",
       "...                                                            ...   \n",
       "The 15:17 to Paris                                        36276286   \n",
       "Book Club                                                 68566296   \n",
       "Uncle Drew                                                42469946   \n",
       "Gotti                                                      4286367   \n",
       "Proud Mary                                                20868638   \n",
       "\n",
       "                                                    worldwide_gross  \\\n",
       "movie                                                                 \n",
       "How to Train Your Dragon                                  494870992   \n",
       "Iron Man 2                                                621156389   \n",
       "Inception                                                 835524642   \n",
       "Percy Jackson & the Olympians: The Lightning Thief        223050874   \n",
       "Toy Story 3                                              1068879522   \n",
       "...                                                             ...   \n",
       "The 15:17 to Paris                                         56096200   \n",
       "Book Club                                                  91113683   \n",
       "Uncle Drew                                                 46527161   \n",
       "Gotti                                                       6089100   \n",
       "Proud Mary                                                 21709539   \n",
       "\n",
       "                                                    net_profit  budget_mils  \\\n",
       "movie                                                                         \n",
       "How to Train Your Dragon                             329870992        165.0   \n",
       "Iron Man 2                                           451156389        170.0   \n",
       "Inception                                            675524642        160.0   \n",
       "Percy Jackson & the Olympians: The Lightning Thief   128050874         95.0   \n",
       "Toy Story 3                                          868879522        200.0   \n",
       "...                                                        ...          ...   \n",
       "The 15:17 to Paris                                    26096200         30.0   \n",
       "Book Club                                             81113683         10.0   \n",
       "Uncle Drew                                            28527161         18.0   \n",
       "Gotti                                                 -3910900         10.0   \n",
       "Proud Mary                                            -8290461         30.0   \n",
       "\n",
       "                                                    profit_mils  \n",
       "movie                                                            \n",
       "How to Train Your Dragon                             329.870992  \n",
       "Iron Man 2                                           451.156389  \n",
       "Inception                                            675.524642  \n",
       "Percy Jackson & the Olympians: The Lightning Thief   128.050874  \n",
       "Toy Story 3                                          868.879522  \n",
       "...                                                         ...  \n",
       "The 15:17 to Paris                                    26.096200  \n",
       "Book Club                                             81.113683  \n",
       "Uncle Drew                                            28.527161  \n",
       "Gotti                                                 -3.910900  \n",
       "Proud Mary                                            -8.290461  \n",
       "\n",
       "[1424 rows x 11 columns]"
      ]
     },
     "execution_count": 30,
     "metadata": {},
     "output_type": "execute_result"
    }
   ],
   "source": [
    "df_tmdb_tn_innerjoin = df_tmdb_mod.join(df_tndb_mod, on='movie', how='inner', lsuffix='tmdb', rsuffix='tn')\n",
    "df_tmdb_tn_innerjoin"
   ]
  },
  {
   "cell_type": "markdown",
   "metadata": {
    "heading_collapsed": true
   },
   "source": [
    "### 3. IMDb\n",
    "#### 1.1 Merging Tables"
   ]
  },
  {
   "cell_type": "markdown",
   "metadata": {
    "hidden": true
   },
   "source": [
    "**We need to merge the `movie_ratings` table with the `movie_basics` table to get the full picture of our dataset.**\n",
    "\n",
    "The `movies_with_ratings` variable is created to store the merged dataframe."
   ]
  },
  {
   "cell_type": "code",
   "execution_count": 31,
   "metadata": {
    "hidden": true
   },
   "outputs": [
    {
     "data": {
      "text/html": [
       "<div>\n",
       "<style scoped>\n",
       "    .dataframe tbody tr th:only-of-type {\n",
       "        vertical-align: middle;\n",
       "    }\n",
       "\n",
       "    .dataframe tbody tr th {\n",
       "        vertical-align: top;\n",
       "    }\n",
       "\n",
       "    .dataframe thead th {\n",
       "        text-align: right;\n",
       "    }\n",
       "</style>\n",
       "<table border=\"1\" class=\"dataframe\">\n",
       "  <thead>\n",
       "    <tr style=\"text-align: right;\">\n",
       "      <th></th>\n",
       "      <th>movie_id</th>\n",
       "      <th>averagerating</th>\n",
       "      <th>numvotes</th>\n",
       "      <th>primary_title</th>\n",
       "      <th>original_title</th>\n",
       "      <th>start_year</th>\n",
       "      <th>runtime_minutes</th>\n",
       "      <th>genres</th>\n",
       "    </tr>\n",
       "  </thead>\n",
       "  <tbody>\n",
       "    <tr>\n",
       "      <th>0</th>\n",
       "      <td>tt10356526</td>\n",
       "      <td>8.3</td>\n",
       "      <td>31</td>\n",
       "      <td>Laiye Je Yaarian</td>\n",
       "      <td>Laiye Je Yaarian</td>\n",
       "      <td>2019</td>\n",
       "      <td>117.0</td>\n",
       "      <td>Romance</td>\n",
       "    </tr>\n",
       "    <tr>\n",
       "      <th>1</th>\n",
       "      <td>tt10384606</td>\n",
       "      <td>8.9</td>\n",
       "      <td>559</td>\n",
       "      <td>Borderless</td>\n",
       "      <td>Borderless</td>\n",
       "      <td>2019</td>\n",
       "      <td>87.0</td>\n",
       "      <td>Documentary</td>\n",
       "    </tr>\n",
       "    <tr>\n",
       "      <th>2</th>\n",
       "      <td>tt1042974</td>\n",
       "      <td>6.4</td>\n",
       "      <td>20</td>\n",
       "      <td>Just Inès</td>\n",
       "      <td>Just Inès</td>\n",
       "      <td>2010</td>\n",
       "      <td>90.0</td>\n",
       "      <td>Drama</td>\n",
       "    </tr>\n",
       "    <tr>\n",
       "      <th>3</th>\n",
       "      <td>tt1043726</td>\n",
       "      <td>4.2</td>\n",
       "      <td>50352</td>\n",
       "      <td>The Legend of Hercules</td>\n",
       "      <td>The Legend of Hercules</td>\n",
       "      <td>2014</td>\n",
       "      <td>99.0</td>\n",
       "      <td>Action,Adventure,Fantasy</td>\n",
       "    </tr>\n",
       "    <tr>\n",
       "      <th>4</th>\n",
       "      <td>tt1060240</td>\n",
       "      <td>6.5</td>\n",
       "      <td>21</td>\n",
       "      <td>Até Onde?</td>\n",
       "      <td>Até Onde?</td>\n",
       "      <td>2011</td>\n",
       "      <td>73.0</td>\n",
       "      <td>Mystery,Thriller</td>\n",
       "    </tr>\n",
       "  </tbody>\n",
       "</table>\n",
       "</div>"
      ],
      "text/plain": [
       "     movie_id  averagerating  numvotes           primary_title  \\\n",
       "0  tt10356526            8.3        31        Laiye Je Yaarian   \n",
       "1  tt10384606            8.9       559              Borderless   \n",
       "2   tt1042974            6.4        20               Just Inès   \n",
       "3   tt1043726            4.2     50352  The Legend of Hercules   \n",
       "4   tt1060240            6.5        21               Até Onde?   \n",
       "\n",
       "           original_title  start_year  runtime_minutes  \\\n",
       "0        Laiye Je Yaarian        2019            117.0   \n",
       "1              Borderless        2019             87.0   \n",
       "2               Just Inès        2010             90.0   \n",
       "3  The Legend of Hercules        2014             99.0   \n",
       "4               Até Onde?        2011             73.0   \n",
       "\n",
       "                     genres  \n",
       "0                   Romance  \n",
       "1               Documentary  \n",
       "2                     Drama  \n",
       "3  Action,Adventure,Fantasy  \n",
       "4          Mystery,Thriller  "
      ]
     },
     "execution_count": 31,
     "metadata": {},
     "output_type": "execute_result"
    }
   ],
   "source": [
    "movies_with_ratings = pd.merge(movie_ratings, movie_basics, left_on='movie_id', right_on='movie_id')\n",
    "movies_with_ratings.head()"
   ]
  },
  {
   "cell_type": "markdown",
   "metadata": {
    "hidden": true
   },
   "source": [
    "#### 1.2 Removing Unnecessary Columns & Filtering Data\n",
    "**Columns to drop: original_title, genres**"
   ]
  },
  {
   "cell_type": "code",
   "execution_count": 32,
   "metadata": {
    "hidden": true
   },
   "outputs": [
    {
     "data": {
      "text/html": [
       "<div>\n",
       "<style scoped>\n",
       "    .dataframe tbody tr th:only-of-type {\n",
       "        vertical-align: middle;\n",
       "    }\n",
       "\n",
       "    .dataframe tbody tr th {\n",
       "        vertical-align: top;\n",
       "    }\n",
       "\n",
       "    .dataframe thead th {\n",
       "        text-align: right;\n",
       "    }\n",
       "</style>\n",
       "<table border=\"1\" class=\"dataframe\">\n",
       "  <thead>\n",
       "    <tr style=\"text-align: right;\">\n",
       "      <th></th>\n",
       "      <th>movie_id</th>\n",
       "      <th>averagerating</th>\n",
       "      <th>numvotes</th>\n",
       "      <th>primary_title</th>\n",
       "      <th>start_year</th>\n",
       "      <th>runtime_minutes</th>\n",
       "    </tr>\n",
       "  </thead>\n",
       "  <tbody>\n",
       "    <tr>\n",
       "      <th>0</th>\n",
       "      <td>tt10356526</td>\n",
       "      <td>8.3</td>\n",
       "      <td>31</td>\n",
       "      <td>Laiye Je Yaarian</td>\n",
       "      <td>2019</td>\n",
       "      <td>117.0</td>\n",
       "    </tr>\n",
       "    <tr>\n",
       "      <th>1</th>\n",
       "      <td>tt10384606</td>\n",
       "      <td>8.9</td>\n",
       "      <td>559</td>\n",
       "      <td>Borderless</td>\n",
       "      <td>2019</td>\n",
       "      <td>87.0</td>\n",
       "    </tr>\n",
       "    <tr>\n",
       "      <th>2</th>\n",
       "      <td>tt1042974</td>\n",
       "      <td>6.4</td>\n",
       "      <td>20</td>\n",
       "      <td>Just Inès</td>\n",
       "      <td>2010</td>\n",
       "      <td>90.0</td>\n",
       "    </tr>\n",
       "    <tr>\n",
       "      <th>3</th>\n",
       "      <td>tt1043726</td>\n",
       "      <td>4.2</td>\n",
       "      <td>50352</td>\n",
       "      <td>The Legend of Hercules</td>\n",
       "      <td>2014</td>\n",
       "      <td>99.0</td>\n",
       "    </tr>\n",
       "    <tr>\n",
       "      <th>4</th>\n",
       "      <td>tt1060240</td>\n",
       "      <td>6.5</td>\n",
       "      <td>21</td>\n",
       "      <td>Até Onde?</td>\n",
       "      <td>2011</td>\n",
       "      <td>73.0</td>\n",
       "    </tr>\n",
       "  </tbody>\n",
       "</table>\n",
       "</div>"
      ],
      "text/plain": [
       "     movie_id  averagerating  numvotes           primary_title  start_year  \\\n",
       "0  tt10356526            8.3        31        Laiye Je Yaarian        2019   \n",
       "1  tt10384606            8.9       559              Borderless        2019   \n",
       "2   tt1042974            6.4        20               Just Inès        2010   \n",
       "3   tt1043726            4.2     50352  The Legend of Hercules        2014   \n",
       "4   tt1060240            6.5        21               Até Onde?        2011   \n",
       "\n",
       "   runtime_minutes  \n",
       "0            117.0  \n",
       "1             87.0  \n",
       "2             90.0  \n",
       "3             99.0  \n",
       "4             73.0  "
      ]
     },
     "execution_count": 32,
     "metadata": {},
     "output_type": "execute_result"
    }
   ],
   "source": [
    "movies_with_ratings_clean = movies_with_ratings.drop(['original_title', 'genres'], axis=1)\n",
    "movies_with_ratings_clean.head()"
   ]
  },
  {
   "cell_type": "markdown",
   "metadata": {
    "hidden": true
   },
   "source": [
    "**Columns to filter:**\n",
    "- `numvotes`\n",
    "    - We only want to rely on the average rating in our analysis if a movie has a sufficient number of votes that went into that average rating.  \n",
    "    - For this dataset, we are dropping any movies that have a vote count of less than the median (49)."
   ]
  },
  {
   "cell_type": "markdown",
   "metadata": {
    "hidden": true
   },
   "source": [
    "Find the median number of votes in the remaining data set"
   ]
  },
  {
   "cell_type": "code",
   "execution_count": 33,
   "metadata": {
    "hidden": true
   },
   "outputs": [
    {
     "data": {
      "text/plain": [
       "49.0"
      ]
     },
     "execution_count": 33,
     "metadata": {},
     "output_type": "execute_result"
    }
   ],
   "source": [
    "median_votes = movies_with_ratings_clean['numvotes'].median()\n",
    "median_votes"
   ]
  },
  {
   "cell_type": "markdown",
   "metadata": {
    "hidden": true
   },
   "source": [
    "Drop movies with number of votes less than the median"
   ]
  },
  {
   "cell_type": "code",
   "execution_count": 34,
   "metadata": {
    "hidden": true
   },
   "outputs": [
    {
     "data": {
      "text/html": [
       "<div>\n",
       "<style scoped>\n",
       "    .dataframe tbody tr th:only-of-type {\n",
       "        vertical-align: middle;\n",
       "    }\n",
       "\n",
       "    .dataframe tbody tr th {\n",
       "        vertical-align: top;\n",
       "    }\n",
       "\n",
       "    .dataframe thead th {\n",
       "        text-align: right;\n",
       "    }\n",
       "</style>\n",
       "<table border=\"1\" class=\"dataframe\">\n",
       "  <thead>\n",
       "    <tr style=\"text-align: right;\">\n",
       "      <th></th>\n",
       "      <th>movie_id</th>\n",
       "      <th>averagerating</th>\n",
       "      <th>numvotes</th>\n",
       "      <th>primary_title</th>\n",
       "      <th>start_year</th>\n",
       "      <th>runtime_minutes</th>\n",
       "    </tr>\n",
       "  </thead>\n",
       "  <tbody>\n",
       "    <tr>\n",
       "      <th>1</th>\n",
       "      <td>tt10384606</td>\n",
       "      <td>8.9</td>\n",
       "      <td>559</td>\n",
       "      <td>Borderless</td>\n",
       "      <td>2019</td>\n",
       "      <td>87.0</td>\n",
       "    </tr>\n",
       "    <tr>\n",
       "      <th>3</th>\n",
       "      <td>tt1043726</td>\n",
       "      <td>4.2</td>\n",
       "      <td>50352</td>\n",
       "      <td>The Legend of Hercules</td>\n",
       "      <td>2014</td>\n",
       "      <td>99.0</td>\n",
       "    </tr>\n",
       "    <tr>\n",
       "      <th>5</th>\n",
       "      <td>tt1069246</td>\n",
       "      <td>6.2</td>\n",
       "      <td>326</td>\n",
       "      <td>Habana Eva</td>\n",
       "      <td>2010</td>\n",
       "      <td>106.0</td>\n",
       "    </tr>\n",
       "    <tr>\n",
       "      <th>6</th>\n",
       "      <td>tt1094666</td>\n",
       "      <td>7.0</td>\n",
       "      <td>1613</td>\n",
       "      <td>The Hammer</td>\n",
       "      <td>2010</td>\n",
       "      <td>108.0</td>\n",
       "    </tr>\n",
       "    <tr>\n",
       "      <th>7</th>\n",
       "      <td>tt1130982</td>\n",
       "      <td>6.4</td>\n",
       "      <td>571</td>\n",
       "      <td>The Night Clerk</td>\n",
       "      <td>2011</td>\n",
       "      <td>104.0</td>\n",
       "    </tr>\n",
       "  </tbody>\n",
       "</table>\n",
       "</div>"
      ],
      "text/plain": [
       "     movie_id  averagerating  numvotes           primary_title  start_year  \\\n",
       "1  tt10384606            8.9       559              Borderless        2019   \n",
       "3   tt1043726            4.2     50352  The Legend of Hercules        2014   \n",
       "5   tt1069246            6.2       326              Habana Eva        2010   \n",
       "6   tt1094666            7.0      1613              The Hammer        2010   \n",
       "7   tt1130982            6.4       571         The Night Clerk        2011   \n",
       "\n",
       "   runtime_minutes  \n",
       "1             87.0  \n",
       "3             99.0  \n",
       "5            106.0  \n",
       "6            108.0  \n",
       "7            104.0  "
      ]
     },
     "execution_count": 34,
     "metadata": {},
     "output_type": "execute_result"
    }
   ],
   "source": [
    "movies_over_median_votes = movies_with_ratings_clean.loc[movies_with_ratings_clean['numvotes']>median_votes]\n",
    "movies_over_median_votes.head()"
   ]
  },
  {
   "cell_type": "markdown",
   "metadata": {
    "hidden": true
   },
   "source": [
    "\n",
    "We are now left with the dataset `movies_over_median_votes` that includes ~37K movies."
   ]
  },
  {
   "cell_type": "markdown",
   "metadata": {},
   "source": [
    "## Data Modeling\n",
    "Describe and justify the process for analyzing or modeling the data.\n",
    "\n",
    "***\n",
    "Questions to consider:\n",
    "* How did you analyze or model the data?\n",
    "* How did you iterate on your initial approach to make it better?\n",
    "* Why are these choices appropriate given the data and the business problem?\n",
    "***"
   ]
  },
  {
   "cell_type": "markdown",
   "metadata": {},
   "source": [
    "### 1: The MovieDB (TMDB)"
   ]
  },
  {
   "cell_type": "markdown",
   "metadata": {},
   "source": [
    "### 2: The Numbers (TN)"
   ]
  },
  {
   "cell_type": "markdown",
   "metadata": {},
   "source": [
    "First, we used a scatter plot and Pearson's correlation to examine the relationship between production budget and global net profit."
   ]
  },
  {
   "cell_type": "markdown",
   "metadata": {},
   "source": [
    "#### Relationship between Production Budget and Global Net Profit"
   ]
  },
  {
   "cell_type": "code",
   "execution_count": 22,
   "metadata": {},
   "outputs": [
    {
     "data": {
      "image/png": "[encoded data removed]",
      "text/plain": [
       "<Figure size 1008x576 with 1 Axes>"
      ]
     },
     "metadata": {},
     "output_type": "display_data"
    }
   ],
   "source": [
    "sns.set_theme(context='notebook', style='white', palette='deep', font='sans-serif', font_scale=1.25, color_codes=True, rc={'figure.figsize':(14,8)})\n",
    "\n",
    "plot = sns.scatterplot(x='budget_mils', y='profit_mils', data=tn_df)\n",
    "plt.axvline(0, color='black')\n",
    "plt.axhline(0, color='black')\n",
    "\n",
    "plot.set_title('Profit by Budget')\n",
    "plot.set_xlabel('Production Budget (in millions of USD)', rotation=0, labelpad=15)\n",
    "plot.set_ylabel('Global Profit (in millions of USD)', rotation=90, labelpad=15);\n",
    "\n",
    "plt.show()"
   ]
  },
  {
   "cell_type": "code",
   "execution_count": 24,
   "metadata": {},
   "outputs": [
    {
     "name": "stdout",
     "output_type": "stream",
     "text": [
      "r = 0.67\n"
     ]
    }
   ],
   "source": [
    "r_budget_profit = tn_df.corr()['production_budget']['net_profit']\n",
    "\n",
    "print(\"r = \" + str(round(r_budget_profit, 2)))"
   ]
  },
  {
   "cell_type": "markdown",
   "metadata": {},
   "source": [
    "- Our scatter plot and Pearson's correlation (r = 0.67) suggests a moderately strong relationship between production budget and profit. \n",
    "\n",
    "\n",
    "- From the scatterplot, we determined that high-budget films are high-risk, high-reward. While there is a general positive relationship between budget and profit, there is more variability among higher-budget films. \n",
    "\n",
    "\n",
    "- Since Microsoft wants to increase their likelihood of producing movies that are box office successes, this brought us to the question: is it worth the risk to invest in a few high-budget movies, or better to invest in many low-budget movies?"
   ]
  },
  {
   "cell_type": "markdown",
   "metadata": {},
   "source": [
    "##### Budget-Profit Relationship in Low, Medium and High Budget Movies"
   ]
  },
  {
   "cell_type": "markdown",
   "metadata": {},
   "source": [
    "- Economic researchers define \"low\" \"medium\" and \"high\" budget movies in Hollywood as the following (Kuehn & Lampe, 2021; https://papers.ssrn.com/sol3/papers.cfm?abstract_id=3751648):\n",
    "  - Low = 0 - 20 mil, \n",
    "  - Medium = 20 - 100 mil\n",
    "  - High = 100+ mil\n",
    "  \n",
    "- Below, we group the dataset into \"Low\" \"Medium\" and \"High\" budget movies based on the above cutoffs:"
   ]
  },
  {
   "cell_type": "code",
   "execution_count": 26,
   "metadata": {},
   "outputs": [
    {
     "data": {
      "text/html": [
       "<div>\n",
       "<style scoped>\n",
       "    .dataframe tbody tr th:only-of-type {\n",
       "        vertical-align: middle;\n",
       "    }\n",
       "\n",
       "    .dataframe tbody tr th {\n",
       "        vertical-align: top;\n",
       "    }\n",
       "\n",
       "    .dataframe thead th {\n",
       "        text-align: right;\n",
       "    }\n",
       "</style>\n",
       "<table border=\"1\" class=\"dataframe\">\n",
       "  <thead>\n",
       "    <tr style=\"text-align: right;\">\n",
       "      <th></th>\n",
       "      <th>release_date</th>\n",
       "      <th>movie</th>\n",
       "      <th>production_budget</th>\n",
       "      <th>worldwide_gross</th>\n",
       "      <th>net_profit</th>\n",
       "      <th>budget_mils</th>\n",
       "      <th>profit_mils</th>\n",
       "      <th>budget_groups</th>\n",
       "    </tr>\n",
       "  </thead>\n",
       "  <tbody>\n",
       "    <tr>\n",
       "      <th>1</th>\n",
       "      <td>2011-05-20</td>\n",
       "      <td>Pirates of the Caribbean: On Stranger Tides</td>\n",
       "      <td>410600000</td>\n",
       "      <td>1045663875</td>\n",
       "      <td>635063875</td>\n",
       "      <td>410.600</td>\n",
       "      <td>635.063875</td>\n",
       "      <td>High</td>\n",
       "    </tr>\n",
       "    <tr>\n",
       "      <th>2</th>\n",
       "      <td>2019-06-07</td>\n",
       "      <td>Dark Phoenix</td>\n",
       "      <td>350000000</td>\n",
       "      <td>149762350</td>\n",
       "      <td>-200237650</td>\n",
       "      <td>350.000</td>\n",
       "      <td>-200.237650</td>\n",
       "      <td>High</td>\n",
       "    </tr>\n",
       "    <tr>\n",
       "      <th>3</th>\n",
       "      <td>2015-05-01</td>\n",
       "      <td>Avengers: Age of Ultron</td>\n",
       "      <td>330600000</td>\n",
       "      <td>1403013963</td>\n",
       "      <td>1072413963</td>\n",
       "      <td>330.600</td>\n",
       "      <td>1072.413963</td>\n",
       "      <td>High</td>\n",
       "    </tr>\n",
       "    <tr>\n",
       "      <th>4</th>\n",
       "      <td>2017-12-15</td>\n",
       "      <td>Star Wars Ep. VIII: The Last Jedi</td>\n",
       "      <td>317000000</td>\n",
       "      <td>1316721747</td>\n",
       "      <td>999721747</td>\n",
       "      <td>317.000</td>\n",
       "      <td>999.721747</td>\n",
       "      <td>High</td>\n",
       "    </tr>\n",
       "    <tr>\n",
       "      <th>5</th>\n",
       "      <td>2015-12-18</td>\n",
       "      <td>Star Wars Ep. VII: The Force Awakens</td>\n",
       "      <td>306000000</td>\n",
       "      <td>2053311220</td>\n",
       "      <td>1747311220</td>\n",
       "      <td>306.000</td>\n",
       "      <td>1747.311220</td>\n",
       "      <td>High</td>\n",
       "    </tr>\n",
       "    <tr>\n",
       "      <th>...</th>\n",
       "      <td>...</td>\n",
       "      <td>...</td>\n",
       "      <td>...</td>\n",
       "      <td>...</td>\n",
       "      <td>...</td>\n",
       "      <td>...</td>\n",
       "      <td>...</td>\n",
       "      <td>...</td>\n",
       "    </tr>\n",
       "    <tr>\n",
       "      <th>5740</th>\n",
       "      <td>2010-10-15</td>\n",
       "      <td>Down Terrace</td>\n",
       "      <td>30000</td>\n",
       "      <td>9812</td>\n",
       "      <td>-20188</td>\n",
       "      <td>0.030</td>\n",
       "      <td>-0.020188</td>\n",
       "      <td>Low</td>\n",
       "    </tr>\n",
       "    <tr>\n",
       "      <th>5744</th>\n",
       "      <td>2017-01-27</td>\n",
       "      <td>Emily</td>\n",
       "      <td>27000</td>\n",
       "      <td>3547</td>\n",
       "      <td>-23453</td>\n",
       "      <td>0.027</td>\n",
       "      <td>-0.023453</td>\n",
       "      <td>Low</td>\n",
       "    </tr>\n",
       "    <tr>\n",
       "      <th>5748</th>\n",
       "      <td>2015-09-01</td>\n",
       "      <td>Exeter</td>\n",
       "      <td>25000</td>\n",
       "      <td>489792</td>\n",
       "      <td>464792</td>\n",
       "      <td>0.025</td>\n",
       "      <td>0.464792</td>\n",
       "      <td>Low</td>\n",
       "    </tr>\n",
       "    <tr>\n",
       "      <th>5760</th>\n",
       "      <td>2010-04-02</td>\n",
       "      <td>Breaking Upwards</td>\n",
       "      <td>15000</td>\n",
       "      <td>115592</td>\n",
       "      <td>100592</td>\n",
       "      <td>0.015</td>\n",
       "      <td>0.100592</td>\n",
       "      <td>Low</td>\n",
       "    </tr>\n",
       "    <tr>\n",
       "      <th>5772</th>\n",
       "      <td>2012-01-13</td>\n",
       "      <td>Newlyweds</td>\n",
       "      <td>9000</td>\n",
       "      <td>4584</td>\n",
       "      <td>-4416</td>\n",
       "      <td>0.009</td>\n",
       "      <td>-0.004416</td>\n",
       "      <td>Low</td>\n",
       "    </tr>\n",
       "  </tbody>\n",
       "</table>\n",
       "<p>1922 rows × 8 columns</p>\n",
       "</div>"
      ],
      "text/plain": [
       "     release_date                                        movie  \\\n",
       "1      2011-05-20  Pirates of the Caribbean: On Stranger Tides   \n",
       "2      2019-06-07                                 Dark Phoenix   \n",
       "3      2015-05-01                      Avengers: Age of Ultron   \n",
       "4      2017-12-15            Star Wars Ep. VIII: The Last Jedi   \n",
       "5      2015-12-18         Star Wars Ep. VII: The Force Awakens   \n",
       "...           ...                                          ...   \n",
       "5740   2010-10-15                                 Down Terrace   \n",
       "5744   2017-01-27                                        Emily   \n",
       "5748   2015-09-01                                       Exeter   \n",
       "5760   2010-04-02                             Breaking Upwards   \n",
       "5772   2012-01-13                                    Newlyweds   \n",
       "\n",
       "      production_budget  worldwide_gross  net_profit  budget_mils  \\\n",
       "1             410600000       1045663875   635063875      410.600   \n",
       "2             350000000        149762350  -200237650      350.000   \n",
       "3             330600000       1403013963  1072413963      330.600   \n",
       "4             317000000       1316721747   999721747      317.000   \n",
       "5             306000000       2053311220  1747311220      306.000   \n",
       "...                 ...              ...         ...          ...   \n",
       "5740              30000             9812      -20188        0.030   \n",
       "5744              27000             3547      -23453        0.027   \n",
       "5748              25000           489792      464792        0.025   \n",
       "5760              15000           115592      100592        0.015   \n",
       "5772               9000             4584       -4416        0.009   \n",
       "\n",
       "      profit_mils budget_groups  \n",
       "1      635.063875          High  \n",
       "2     -200.237650          High  \n",
       "3     1072.413963          High  \n",
       "4      999.721747          High  \n",
       "5     1747.311220          High  \n",
       "...           ...           ...  \n",
       "5740    -0.020188           Low  \n",
       "5744    -0.023453           Low  \n",
       "5748     0.464792           Low  \n",
       "5760     0.100592           Low  \n",
       "5772    -0.004416           Low  \n",
       "\n",
       "[1922 rows x 8 columns]"
      ]
     },
     "execution_count": 26,
     "metadata": {},
     "output_type": "execute_result"
    }
   ],
   "source": [
    "labels = [\"Low\", \"Medium\", \"High\"]\n",
    "\n",
    "tn_df['budget_groups'] = pd.cut(tn_df['budget_mils'], bins=[0,20,100,500],include_lowest=True, labels=labels)\n",
    "\n",
    "tn_df"
   ]
  },
  {
   "cell_type": "markdown",
   "metadata": {},
   "source": [
    "Now, we investigate which budget group has the best ROI: Low, Medium, or High-budget films"
   ]
  },
  {
   "cell_type": "code",
   "execution_count": 32,
   "metadata": {},
   "outputs": [
    {
     "data": {
      "image/png": "[encoded data removed]",
      "text/plain": [
       "<Figure size 1008x576 with 1 Axes>"
      ]
     },
     "metadata": {},
     "output_type": "display_data"
    }
   ],
   "source": [
    "roi_bar = sns.barplot(x ='budget_groups', y = 'roi', data = tn_df, errwidth=0)\n",
    "\n",
    "ax = roi_bar\n",
    "\n",
    "ax.set_xlabel(\"Budget Category\", rotation=0, labelpad=15)\n",
    "ax.set_ylabel(\"ROI (%)\", rotation=90, labelpad=15)\n",
    "ax.set_title('Average ROI by Budget Categories')\n",
    "\n",
    "#annotate axis = seaborn axis\n",
    "for p in ax.patches:\n",
    "    ax.annotate(\"%.2f\" % p.get_height(), (p.get_x() + p.get_width() / 2., p.get_height()),\n",
    "                ha='center', va='center', fontsize=13, color='black', xytext=(0, 20),\n",
    "                textcoords='offset points');"
   ]
  },
  {
   "cell_type": "markdown",
   "metadata": {},
   "source": [
    "### TMDB & TNDB Joined"
   ]
  },
  {
   "cell_type": "code",
   "execution_count": 35,
   "metadata": {},
   "outputs": [
    {
     "name": "stderr",
     "output_type": "stream",
     "text": [
      "posx and posy should be finite values\n",
      "posx and posy should be finite values\n"
     ]
    },
    {
     "data": {
      "image/png": "[encoded data removed]",
      "text/plain": [
       "<Figure size 1440x864 with 1 Axes>"
      ]
     },
     "metadata": {
      "needs_background": "light"
     },
     "output_type": "display_data"
    }
   ],
   "source": [
    "yjoin = df_tmdb_tn_innerjoin.groupby(['primary_genre']).mean().sort_values(by='profit_mils', ascending=False)\n",
    "xjoin = list(df_tmdb_tn_innerjoin.groupby(['primary_genre']).mean().sort_values(by='profit_mils', ascending=False).index)\n",
    "fig2, axj = plt.subplots(figsize=(20, 12))\n",
    "sns.set(style=\"whitegrid\", color_codes=True)\n",
    "sns.barplot(x=xjoin, y=yjoin['profit_mils'], saturation=.4, palette='blend:#EDA,#7AB')\n",
    "\n",
    "axj.set_title('Average Net Profit by Genre')\n",
    "axj.set_xlabel('Movie Genre Categories')\n",
    "axj.set_ylabel('Net Profit (MM)')\n",
    "\n",
    "\n",
    "for loc, label in enumerate((yjoin['profit_mils'])):\n",
    "    axj.text(loc, label+.15, str(round(label, ndigits=0)), ha='center');"
   ]
  },
  {
   "cell_type": "markdown",
   "metadata": {},
   "source": [
    "### 3. IMDb"
   ]
  },
  {
   "cell_type": "markdown",
   "metadata": {},
   "source": [
    "#### Runtime minute analysis"
   ]
  },
  {
   "cell_type": "markdown",
   "metadata": {},
   "source": [
    "We want to determine if there is a viewer preference between the number of runtime minutes for a movie and the average rating viewers give it.  As you can see from the cell below, we still have some movies that do not have runtime_minutes.  As such, we will drop those records.  "
   ]
  },
  {
   "cell_type": "code",
   "execution_count": 36,
   "metadata": {},
   "outputs": [
    {
     "name": "stdout",
     "output_type": "stream",
     "text": [
      "<class 'pandas.core.frame.DataFrame'>\n",
      "Int64Index: 36824 entries, 1 to 73855\n",
      "Data columns (total 6 columns):\n",
      " #   Column           Non-Null Count  Dtype  \n",
      "---  ------           --------------  -----  \n",
      " 0   movie_id         36824 non-null  object \n",
      " 1   averagerating    36824 non-null  float64\n",
      " 2   numvotes         36824 non-null  int64  \n",
      " 3   primary_title    36824 non-null  object \n",
      " 4   start_year       36824 non-null  int64  \n",
      " 5   runtime_minutes  35367 non-null  float64\n",
      "dtypes: float64(2), int64(2), object(2)\n",
      "memory usage: 2.0+ MB\n"
     ]
    }
   ],
   "source": [
    "main_data = movies_over_median_votes\n",
    "main_data.info()"
   ]
  },
  {
   "cell_type": "markdown",
   "metadata": {},
   "source": [
    "**Drop the movies with no runtime minutes**"
   ]
  },
  {
   "cell_type": "code",
   "execution_count": 37,
   "metadata": {},
   "outputs": [
    {
     "data": {
      "text/html": [
       "<div>\n",
       "<style scoped>\n",
       "    .dataframe tbody tr th:only-of-type {\n",
       "        vertical-align: middle;\n",
       "    }\n",
       "\n",
       "    .dataframe tbody tr th {\n",
       "        vertical-align: top;\n",
       "    }\n",
       "\n",
       "    .dataframe thead th {\n",
       "        text-align: right;\n",
       "    }\n",
       "</style>\n",
       "<table border=\"1\" class=\"dataframe\">\n",
       "  <thead>\n",
       "    <tr style=\"text-align: right;\">\n",
       "      <th></th>\n",
       "      <th>movie_id</th>\n",
       "      <th>averagerating</th>\n",
       "      <th>numvotes</th>\n",
       "      <th>primary_title</th>\n",
       "      <th>start_year</th>\n",
       "      <th>runtime_minutes</th>\n",
       "    </tr>\n",
       "  </thead>\n",
       "  <tbody>\n",
       "    <tr>\n",
       "      <th>1</th>\n",
       "      <td>tt10384606</td>\n",
       "      <td>8.9</td>\n",
       "      <td>559</td>\n",
       "      <td>Borderless</td>\n",
       "      <td>2019</td>\n",
       "      <td>87.0</td>\n",
       "    </tr>\n",
       "    <tr>\n",
       "      <th>3</th>\n",
       "      <td>tt1043726</td>\n",
       "      <td>4.2</td>\n",
       "      <td>50352</td>\n",
       "      <td>The Legend of Hercules</td>\n",
       "      <td>2014</td>\n",
       "      <td>99.0</td>\n",
       "    </tr>\n",
       "    <tr>\n",
       "      <th>5</th>\n",
       "      <td>tt1069246</td>\n",
       "      <td>6.2</td>\n",
       "      <td>326</td>\n",
       "      <td>Habana Eva</td>\n",
       "      <td>2010</td>\n",
       "      <td>106.0</td>\n",
       "    </tr>\n",
       "    <tr>\n",
       "      <th>6</th>\n",
       "      <td>tt1094666</td>\n",
       "      <td>7.0</td>\n",
       "      <td>1613</td>\n",
       "      <td>The Hammer</td>\n",
       "      <td>2010</td>\n",
       "      <td>108.0</td>\n",
       "    </tr>\n",
       "    <tr>\n",
       "      <th>7</th>\n",
       "      <td>tt1130982</td>\n",
       "      <td>6.4</td>\n",
       "      <td>571</td>\n",
       "      <td>The Night Clerk</td>\n",
       "      <td>2011</td>\n",
       "      <td>104.0</td>\n",
       "    </tr>\n",
       "  </tbody>\n",
       "</table>\n",
       "</div>"
      ],
      "text/plain": [
       "     movie_id  averagerating  numvotes           primary_title  start_year  \\\n",
       "1  tt10384606            8.9       559              Borderless        2019   \n",
       "3   tt1043726            4.2     50352  The Legend of Hercules        2014   \n",
       "5   tt1069246            6.2       326              Habana Eva        2010   \n",
       "6   tt1094666            7.0      1613              The Hammer        2010   \n",
       "7   tt1130982            6.4       571         The Night Clerk        2011   \n",
       "\n",
       "   runtime_minutes  \n",
       "1             87.0  \n",
       "3             99.0  \n",
       "5            106.0  \n",
       "6            108.0  \n",
       "7            104.0  "
      ]
     },
     "execution_count": 37,
     "metadata": {},
     "output_type": "execute_result"
    }
   ],
   "source": [
    "# Drop movies with runtime_minutes of n/a\n",
    "main_data_dropna = main_data.dropna(subset=['runtime_minutes'])\n",
    "main_data_dropna.head()"
   ]
  },
  {
   "cell_type": "markdown",
   "metadata": {},
   "source": [
    "Now that we have dropped the rows with n/a for runtime_minutes, we have a dataset of 35K movies remaining. \n",
    "\n",
    "For the next step, we are further narrowing down the dataset to only the highest rated movies (> 8.0) in order to see if those top rated movies mostly fall within a certain range of runtime minutes.  For this analysis, we are using a histogram.  "
   ]
  },
  {
   "cell_type": "code",
   "execution_count": 38,
   "metadata": {},
   "outputs": [
    {
     "data": {
      "text/html": [
       "<div>\n",
       "<style scoped>\n",
       "    .dataframe tbody tr th:only-of-type {\n",
       "        vertical-align: middle;\n",
       "    }\n",
       "\n",
       "    .dataframe tbody tr th {\n",
       "        vertical-align: top;\n",
       "    }\n",
       "\n",
       "    .dataframe thead th {\n",
       "        text-align: right;\n",
       "    }\n",
       "</style>\n",
       "<table border=\"1\" class=\"dataframe\">\n",
       "  <thead>\n",
       "    <tr style=\"text-align: right;\">\n",
       "      <th></th>\n",
       "      <th>movie_id</th>\n",
       "      <th>averagerating</th>\n",
       "      <th>numvotes</th>\n",
       "      <th>primary_title</th>\n",
       "      <th>start_year</th>\n",
       "      <th>runtime_minutes</th>\n",
       "    </tr>\n",
       "  </thead>\n",
       "  <tbody>\n",
       "    <tr>\n",
       "      <th>1</th>\n",
       "      <td>tt10384606</td>\n",
       "      <td>8.9</td>\n",
       "      <td>559</td>\n",
       "      <td>Borderless</td>\n",
       "      <td>2019</td>\n",
       "      <td>87.0</td>\n",
       "    </tr>\n",
       "    <tr>\n",
       "      <th>110</th>\n",
       "      <td>tt1537385</td>\n",
       "      <td>8.0</td>\n",
       "      <td>53</td>\n",
       "      <td>Annabelle &amp; Bear</td>\n",
       "      <td>2010</td>\n",
       "      <td>100.0</td>\n",
       "    </tr>\n",
       "    <tr>\n",
       "      <th>193</th>\n",
       "      <td>tt1663202</td>\n",
       "      <td>8.0</td>\n",
       "      <td>621193</td>\n",
       "      <td>The Revenant</td>\n",
       "      <td>2015</td>\n",
       "      <td>156.0</td>\n",
       "    </tr>\n",
       "    <tr>\n",
       "      <th>225</th>\n",
       "      <td>tt1709657</td>\n",
       "      <td>8.1</td>\n",
       "      <td>75</td>\n",
       "      <td>Far Marfa</td>\n",
       "      <td>2013</td>\n",
       "      <td>86.0</td>\n",
       "    </tr>\n",
       "    <tr>\n",
       "      <th>258</th>\n",
       "      <td>tt1740117</td>\n",
       "      <td>8.7</td>\n",
       "      <td>60</td>\n",
       "      <td>Toryboy the Movie</td>\n",
       "      <td>2010</td>\n",
       "      <td>90.0</td>\n",
       "    </tr>\n",
       "    <tr>\n",
       "      <th>...</th>\n",
       "      <td>...</td>\n",
       "      <td>...</td>\n",
       "      <td>...</td>\n",
       "      <td>...</td>\n",
       "      <td>...</td>\n",
       "      <td>...</td>\n",
       "    </tr>\n",
       "    <tr>\n",
       "      <th>73775</th>\n",
       "      <td>tt8601284</td>\n",
       "      <td>8.1</td>\n",
       "      <td>54</td>\n",
       "      <td>Lada Kamenski</td>\n",
       "      <td>2018</td>\n",
       "      <td>71.0</td>\n",
       "    </tr>\n",
       "    <tr>\n",
       "      <th>73780</th>\n",
       "      <td>tt8718580</td>\n",
       "      <td>9.7</td>\n",
       "      <td>639</td>\n",
       "      <td>Eghantham</td>\n",
       "      <td>2018</td>\n",
       "      <td>125.0</td>\n",
       "    </tr>\n",
       "    <tr>\n",
       "      <th>73790</th>\n",
       "      <td>tt8907960</td>\n",
       "      <td>8.6</td>\n",
       "      <td>78</td>\n",
       "      <td>Naduve Antaravirali</td>\n",
       "      <td>2018</td>\n",
       "      <td>108.0</td>\n",
       "    </tr>\n",
       "    <tr>\n",
       "      <th>73792</th>\n",
       "      <td>tt8948790</td>\n",
       "      <td>9.0</td>\n",
       "      <td>1778</td>\n",
       "      <td>Jersey</td>\n",
       "      <td>2019</td>\n",
       "      <td>157.0</td>\n",
       "    </tr>\n",
       "    <tr>\n",
       "      <th>73803</th>\n",
       "      <td>tt9055926</td>\n",
       "      <td>8.6</td>\n",
       "      <td>135</td>\n",
       "      <td>National Theatre Live: King Lear</td>\n",
       "      <td>2018</td>\n",
       "      <td>227.0</td>\n",
       "    </tr>\n",
       "  </tbody>\n",
       "</table>\n",
       "<p>1727 rows × 6 columns</p>\n",
       "</div>"
      ],
      "text/plain": [
       "         movie_id  averagerating  numvotes                     primary_title  \\\n",
       "1      tt10384606            8.9       559                        Borderless   \n",
       "110     tt1537385            8.0        53                  Annabelle & Bear   \n",
       "193     tt1663202            8.0    621193                      The Revenant   \n",
       "225     tt1709657            8.1        75                         Far Marfa   \n",
       "258     tt1740117            8.7        60                 Toryboy the Movie   \n",
       "...           ...            ...       ...                               ...   \n",
       "73775   tt8601284            8.1        54                     Lada Kamenski   \n",
       "73780   tt8718580            9.7       639                         Eghantham   \n",
       "73790   tt8907960            8.6        78               Naduve Antaravirali   \n",
       "73792   tt8948790            9.0      1778                            Jersey   \n",
       "73803   tt9055926            8.6       135  National Theatre Live: King Lear   \n",
       "\n",
       "       start_year  runtime_minutes  \n",
       "1            2019             87.0  \n",
       "110          2010            100.0  \n",
       "193          2015            156.0  \n",
       "225          2013             86.0  \n",
       "258          2010             90.0  \n",
       "...           ...              ...  \n",
       "73775        2018             71.0  \n",
       "73780        2018            125.0  \n",
       "73790        2018            108.0  \n",
       "73792        2019            157.0  \n",
       "73803        2018            227.0  \n",
       "\n",
       "[1727 rows x 6 columns]"
      ]
     },
     "execution_count": 38,
     "metadata": {},
     "output_type": "execute_result"
    }
   ],
   "source": [
    "main_data_dropna_best_rated = main_data_dropna.loc[(main_data_dropna['averagerating'] >= 8.0) & (main_data_dropna['runtime_minutes'] < 250)]\n",
    "main_data_dropna_best_rated"
   ]
  },
  {
   "cell_type": "code",
   "execution_count": 39,
   "metadata": {},
   "outputs": [
    {
     "data": {
      "image/png": "[encoded data removed]",
      "text/plain": [
       "<Figure size 432x288 with 1 Axes>"
      ]
     },
     "metadata": {},
     "output_type": "display_data"
    }
   ],
   "source": [
    "sns.set_style('darkgrid')\n",
    "hist = sns.histplot(main_data_dropna_best_rated['runtime_minutes'], bins=20)\n",
    "hist = hist.set(xlabel='Run Time Minutes', ylabel='Movie count', title='Movie Length of the Highest Rated Movies (> 8.0)')"
   ]
  },
  {
   "cell_type": "markdown",
   "metadata": {},
   "source": [
    "## Evaluation\n",
    "Evaluate how well your work solves the stated business problem.\n",
    "\n",
    "***\n",
    "Questions to consider:\n",
    "* How do you interpret the results?\n",
    "* How well does your model fit your data? How much better is this than your baseline model?\n",
    "* How confident are you that your results would generalize beyond the data you have?\n",
    "* How confident are you that this model would benefit the business if put into use?\n",
    "***"
   ]
  },
  {
   "cell_type": "markdown",
   "metadata": {},
   "source": [
    "## Conclusions\n",
    "Provide your conclusions about the work you've done, including any limitations or next steps.\n",
    "\n",
    "***\n",
    "Questions to consider:\n",
    "* What would you recommend the business do as a result of this work?\n",
    "* What are some reasons why your analysis might not fully solve the business problem?\n",
    "* What else could you do in the future to improve this project?\n",
    "***"
   ]
  },
  {
   "cell_type": "markdown",
   "metadata": {},
   "source": [
    "### 1: The MovieDB (TMDB)"
   ]
  },
  {
   "cell_type": "markdown",
   "metadata": {},
   "source": [
    "### 2: The Numbers (TN)"
   ]
  },
  {
   "cell_type": "markdown",
   "metadata": {},
   "source": [
    "### 3. IMDb"
   ]
  },
  {
   "cell_type": "markdown",
   "metadata": {},
   "source": [
    "- As demonstrated in our histogram comparing movie length to movie rating, there were more higher rated movies in the 90-110 minute range than any other movie length.  This would indicate a viewer preference for movies with this length, and therefore we would recommend making movies with this length. \n",
    "- In the future, we could add to this analysis a comparison of gross revenue generated by each movie to movie length to see if movies of this length generate more dollars as well as higher ratings."
   ]
  }
 ],
 "metadata": {
  "kernelspec": {
   "display_name": "Python 3",
   "language": "python",
   "name": "python3"
  },
  "language_info": {
   "codemirror_mode": {
    "name": "ipython",
    "version": 3
   },
   "file_extension": ".py",
   "mimetype": "text/x-python",
   "name": "python",
   "nbconvert_exporter": "python",
   "pygments_lexer": "ipython3",
   "version": "3.8.5"
  },
  "toc": {
   "base_numbering": 1,
   "nav_menu": {},
   "number_sections": true,
   "sideBar": true,
   "skip_h1_title": false,
   "title_cell": "Table of Contents",
   "title_sidebar": "Contents",
   "toc_cell": false,
   "toc_position": {},
   "toc_section_display": true,
   "toc_window_display": false
  }
 },
 "nbformat": 4,
 "nbformat_minor": 4
}
