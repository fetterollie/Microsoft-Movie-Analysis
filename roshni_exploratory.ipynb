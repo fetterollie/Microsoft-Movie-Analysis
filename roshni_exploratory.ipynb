{
 "cells": [
  {
   "cell_type": "markdown",
   "metadata": {},
   "source": [
    "Final Project Submission"
   ]
  },
  {
   "cell_type": "markdown",
   "metadata": {},
   "source": [
    "Please fill out:\n",
    "* Student name: \n",
    "* Student pace: self paced / part time / full time\n",
    "* Scheduled project review date/time: \n",
    "* Instructor name: \n",
    "* Blog post URL:"
   ]
  },
  {
   "cell_type": "markdown",
   "metadata": {},
   "source": [
    "Roshni's Scratch Notebook"
   ]
  },
  {
   "cell_type": "markdown",
   "metadata": {},
   "source": [
    "# I. Cleaning The Numbers Dataset"
   ]
  },
  {
   "cell_type": "markdown",
   "metadata": {},
   "source": [
    "## 1. Import packages & data"
   ]
  },
  {
   "cell_type": "code",
   "execution_count": 1,
   "metadata": {},
   "outputs": [],
   "source": [
    "import pandas as pd\n",
    "import numpy as np\n",
    "import matplotlib.pyplot as plt\n",
    "import seaborn as sns\n",
    "%matplotlib inline\n",
    "\n",
    "tn_df = pd.read_csv('zippedData/tn.movie_budgets.csv.gz', parse_dates=['release_date'])"
   ]
  },
  {
   "cell_type": "markdown",
   "metadata": {},
   "source": [
    "## 2. Remove unnecessary column (ID)"
   ]
  },
  {
   "cell_type": "code",
   "execution_count": 2,
   "metadata": {},
   "outputs": [],
   "source": [
    "tn_df = tn_df.drop('id', axis=1)\n",
    "tn_df = tn_df.drop('domestic_gross', axis = 1)"
   ]
  },
  {
   "cell_type": "markdown",
   "metadata": {},
   "source": [
    "## 3. Convert Number Variables to Int type"
   ]
  },
  {
   "cell_type": "code",
   "execution_count": 4,
   "metadata": {},
   "outputs": [
    {
     "data": {
      "text/html": [
       "<div>\n",
       "<style scoped>\n",
       "    .dataframe tbody tr th:only-of-type {\n",
       "        vertical-align: middle;\n",
       "    }\n",
       "\n",
       "    .dataframe tbody tr th {\n",
       "        vertical-align: top;\n",
       "    }\n",
       "\n",
       "    .dataframe thead th {\n",
       "        text-align: right;\n",
       "    }\n",
       "</style>\n",
       "<table border=\"1\" class=\"dataframe\">\n",
       "  <thead>\n",
       "    <tr style=\"text-align: right;\">\n",
       "      <th></th>\n",
       "      <th>release_date</th>\n",
       "      <th>movie</th>\n",
       "      <th>production_budget</th>\n",
       "      <th>worldwide_gross</th>\n",
       "    </tr>\n",
       "  </thead>\n",
       "  <tbody>\n",
       "    <tr>\n",
       "      <th>0</th>\n",
       "      <td>2009-12-18</td>\n",
       "      <td>Avatar</td>\n",
       "      <td>425000000</td>\n",
       "      <td>2776345279</td>\n",
       "    </tr>\n",
       "    <tr>\n",
       "      <th>1</th>\n",
       "      <td>2011-05-20</td>\n",
       "      <td>Pirates of the Caribbean: On Stranger Tides</td>\n",
       "      <td>410600000</td>\n",
       "      <td>1045663875</td>\n",
       "    </tr>\n",
       "    <tr>\n",
       "      <th>2</th>\n",
       "      <td>2019-06-07</td>\n",
       "      <td>Dark Phoenix</td>\n",
       "      <td>350000000</td>\n",
       "      <td>149762350</td>\n",
       "    </tr>\n",
       "    <tr>\n",
       "      <th>3</th>\n",
       "      <td>2015-05-01</td>\n",
       "      <td>Avengers: Age of Ultron</td>\n",
       "      <td>330600000</td>\n",
       "      <td>1403013963</td>\n",
       "    </tr>\n",
       "    <tr>\n",
       "      <th>4</th>\n",
       "      <td>2017-12-15</td>\n",
       "      <td>Star Wars Ep. VIII: The Last Jedi</td>\n",
       "      <td>317000000</td>\n",
       "      <td>1316721747</td>\n",
       "    </tr>\n",
       "    <tr>\n",
       "      <th>...</th>\n",
       "      <td>...</td>\n",
       "      <td>...</td>\n",
       "      <td>...</td>\n",
       "      <td>...</td>\n",
       "    </tr>\n",
       "    <tr>\n",
       "      <th>5777</th>\n",
       "      <td>2018-12-31</td>\n",
       "      <td>Red 11</td>\n",
       "      <td>7000</td>\n",
       "      <td>0</td>\n",
       "    </tr>\n",
       "    <tr>\n",
       "      <th>5778</th>\n",
       "      <td>1999-04-02</td>\n",
       "      <td>Following</td>\n",
       "      <td>6000</td>\n",
       "      <td>240495</td>\n",
       "    </tr>\n",
       "    <tr>\n",
       "      <th>5779</th>\n",
       "      <td>2005-07-13</td>\n",
       "      <td>Return to the Land of Wonders</td>\n",
       "      <td>5000</td>\n",
       "      <td>1338</td>\n",
       "    </tr>\n",
       "    <tr>\n",
       "      <th>5780</th>\n",
       "      <td>2015-09-29</td>\n",
       "      <td>A Plague So Pleasant</td>\n",
       "      <td>1400</td>\n",
       "      <td>0</td>\n",
       "    </tr>\n",
       "    <tr>\n",
       "      <th>5781</th>\n",
       "      <td>2005-08-05</td>\n",
       "      <td>My Date With Drew</td>\n",
       "      <td>1100</td>\n",
       "      <td>181041</td>\n",
       "    </tr>\n",
       "  </tbody>\n",
       "</table>\n",
       "<p>5782 rows × 4 columns</p>\n",
       "</div>"
      ],
      "text/plain": [
       "     release_date                                        movie  \\\n",
       "0      2009-12-18                                       Avatar   \n",
       "1      2011-05-20  Pirates of the Caribbean: On Stranger Tides   \n",
       "2      2019-06-07                                 Dark Phoenix   \n",
       "3      2015-05-01                      Avengers: Age of Ultron   \n",
       "4      2017-12-15            Star Wars Ep. VIII: The Last Jedi   \n",
       "...           ...                                          ...   \n",
       "5777   2018-12-31                                       Red 11   \n",
       "5778   1999-04-02                                    Following   \n",
       "5779   2005-07-13                Return to the Land of Wonders   \n",
       "5780   2015-09-29                         A Plague So Pleasant   \n",
       "5781   2005-08-05                            My Date With Drew   \n",
       "\n",
       "      production_budget  worldwide_gross  \n",
       "0             425000000       2776345279  \n",
       "1             410600000       1045663875  \n",
       "2             350000000        149762350  \n",
       "3             330600000       1403013963  \n",
       "4             317000000       1316721747  \n",
       "...                 ...              ...  \n",
       "5777               7000                0  \n",
       "5778               6000           240495  \n",
       "5779               5000             1338  \n",
       "5780               1400                0  \n",
       "5781               1100           181041  \n",
       "\n",
       "[5782 rows x 4 columns]"
      ]
     },
     "execution_count": 4,
     "metadata": {},
     "output_type": "execute_result"
    }
   ],
   "source": [
    "tn_df['production_budget'].replace(',','', regex=True, inplace=True)\n",
    "tn_df['production_budget'] = tn_df['production_budget'].map(lambda x: x.replace('$',''))\n",
    "\n",
    "tn_df['worldwide_gross'].replace(',','', regex=True, inplace=True)\n",
    "tn_df['worldwide_gross'] = tn_df['worldwide_gross'].map(lambda x: x.replace('$',''))\n",
    "\n",
    "tn_df['production_budget'] = tn_df['production_budget'].astype(int)\n",
    "tn_df['worldwide_gross'] = tn_df['worldwide_gross'].astype(int)\n",
    "\n",
    "tn_df"
   ]
  },
  {
   "cell_type": "markdown",
   "metadata": {},
   "source": [
    "## 4. Excluding Worldwide Gross == 0 \n",
    "- Worldwide Gross of 0 indicates that either the data is missing data or the movie was never released in theaters."
   ]
  },
  {
   "cell_type": "code",
   "execution_count": 5,
   "metadata": {},
   "outputs": [
    {
     "name": "stdout",
     "output_type": "stream",
     "text": [
      "Excluding worldwide gross of $0 would remove 6.3 percent of datapoints\n"
     ]
    },
    {
     "data": {
      "text/html": [
       "<div>\n",
       "<style scoped>\n",
       "    .dataframe tbody tr th:only-of-type {\n",
       "        vertical-align: middle;\n",
       "    }\n",
       "\n",
       "    .dataframe tbody tr th {\n",
       "        vertical-align: top;\n",
       "    }\n",
       "\n",
       "    .dataframe thead th {\n",
       "        text-align: right;\n",
       "    }\n",
       "</style>\n",
       "<table border=\"1\" class=\"dataframe\">\n",
       "  <thead>\n",
       "    <tr style=\"text-align: right;\">\n",
       "      <th></th>\n",
       "      <th>release_date</th>\n",
       "      <th>movie</th>\n",
       "      <th>production_budget</th>\n",
       "      <th>worldwide_gross</th>\n",
       "    </tr>\n",
       "  </thead>\n",
       "  <tbody>\n",
       "    <tr>\n",
       "      <th>0</th>\n",
       "      <td>2009-12-18</td>\n",
       "      <td>Avatar</td>\n",
       "      <td>425000000</td>\n",
       "      <td>2776345279</td>\n",
       "    </tr>\n",
       "    <tr>\n",
       "      <th>1</th>\n",
       "      <td>2011-05-20</td>\n",
       "      <td>Pirates of the Caribbean: On Stranger Tides</td>\n",
       "      <td>410600000</td>\n",
       "      <td>1045663875</td>\n",
       "    </tr>\n",
       "    <tr>\n",
       "      <th>2</th>\n",
       "      <td>2019-06-07</td>\n",
       "      <td>Dark Phoenix</td>\n",
       "      <td>350000000</td>\n",
       "      <td>149762350</td>\n",
       "    </tr>\n",
       "    <tr>\n",
       "      <th>3</th>\n",
       "      <td>2015-05-01</td>\n",
       "      <td>Avengers: Age of Ultron</td>\n",
       "      <td>330600000</td>\n",
       "      <td>1403013963</td>\n",
       "    </tr>\n",
       "    <tr>\n",
       "      <th>4</th>\n",
       "      <td>2017-12-15</td>\n",
       "      <td>Star Wars Ep. VIII: The Last Jedi</td>\n",
       "      <td>317000000</td>\n",
       "      <td>1316721747</td>\n",
       "    </tr>\n",
       "    <tr>\n",
       "      <th>...</th>\n",
       "      <td>...</td>\n",
       "      <td>...</td>\n",
       "      <td>...</td>\n",
       "      <td>...</td>\n",
       "    </tr>\n",
       "    <tr>\n",
       "      <th>5775</th>\n",
       "      <td>2006-05-26</td>\n",
       "      <td>Cavite</td>\n",
       "      <td>7000</td>\n",
       "      <td>71644</td>\n",
       "    </tr>\n",
       "    <tr>\n",
       "      <th>5776</th>\n",
       "      <td>2004-12-31</td>\n",
       "      <td>The Mongol King</td>\n",
       "      <td>7000</td>\n",
       "      <td>900</td>\n",
       "    </tr>\n",
       "    <tr>\n",
       "      <th>5778</th>\n",
       "      <td>1999-04-02</td>\n",
       "      <td>Following</td>\n",
       "      <td>6000</td>\n",
       "      <td>240495</td>\n",
       "    </tr>\n",
       "    <tr>\n",
       "      <th>5779</th>\n",
       "      <td>2005-07-13</td>\n",
       "      <td>Return to the Land of Wonders</td>\n",
       "      <td>5000</td>\n",
       "      <td>1338</td>\n",
       "    </tr>\n",
       "    <tr>\n",
       "      <th>5781</th>\n",
       "      <td>2005-08-05</td>\n",
       "      <td>My Date With Drew</td>\n",
       "      <td>1100</td>\n",
       "      <td>181041</td>\n",
       "    </tr>\n",
       "  </tbody>\n",
       "</table>\n",
       "<p>5415 rows × 4 columns</p>\n",
       "</div>"
      ],
      "text/plain": [
       "     release_date                                        movie  \\\n",
       "0      2009-12-18                                       Avatar   \n",
       "1      2011-05-20  Pirates of the Caribbean: On Stranger Tides   \n",
       "2      2019-06-07                                 Dark Phoenix   \n",
       "3      2015-05-01                      Avengers: Age of Ultron   \n",
       "4      2017-12-15            Star Wars Ep. VIII: The Last Jedi   \n",
       "...           ...                                          ...   \n",
       "5775   2006-05-26                                       Cavite   \n",
       "5776   2004-12-31                              The Mongol King   \n",
       "5778   1999-04-02                                    Following   \n",
       "5779   2005-07-13                Return to the Land of Wonders   \n",
       "5781   2005-08-05                            My Date With Drew   \n",
       "\n",
       "      production_budget  worldwide_gross  \n",
       "0             425000000       2776345279  \n",
       "1             410600000       1045663875  \n",
       "2             350000000        149762350  \n",
       "3             330600000       1403013963  \n",
       "4             317000000       1316721747  \n",
       "...                 ...              ...  \n",
       "5775               7000            71644  \n",
       "5776               7000              900  \n",
       "5778               6000           240495  \n",
       "5779               5000             1338  \n",
       "5781               1100           181041  \n",
       "\n",
       "[5415 rows x 4 columns]"
      ]
     },
     "execution_count": 5,
     "metadata": {},
     "output_type": "execute_result"
    }
   ],
   "source": [
    "print(\"Excluding worldwide gross of $0 would remove \" + str(round((1 - 5415/5781)*100, 1)) + \" percent of datapoints\")\n",
    "\n",
    "#Less than 10% of data is being removed, which meets the rule of thumb\n",
    "\n",
    "\n",
    "tn_df = tn_df[tn_df['worldwide_gross'] != 0]\n",
    "\n",
    "tn_df"
   ]
  },
  {
   "cell_type": "markdown",
   "metadata": {},
   "source": [
    "## 5. Calculate Net Profit as a new variable in dataset"
   ]
  },
  {
   "cell_type": "code",
   "execution_count": 6,
   "metadata": {},
   "outputs": [
    {
     "data": {
      "text/html": [
       "<div>\n",
       "<style scoped>\n",
       "    .dataframe tbody tr th:only-of-type {\n",
       "        vertical-align: middle;\n",
       "    }\n",
       "\n",
       "    .dataframe tbody tr th {\n",
       "        vertical-align: top;\n",
       "    }\n",
       "\n",
       "    .dataframe thead th {\n",
       "        text-align: right;\n",
       "    }\n",
       "</style>\n",
       "<table border=\"1\" class=\"dataframe\">\n",
       "  <thead>\n",
       "    <tr style=\"text-align: right;\">\n",
       "      <th></th>\n",
       "      <th>release_date</th>\n",
       "      <th>movie</th>\n",
       "      <th>production_budget</th>\n",
       "      <th>worldwide_gross</th>\n",
       "      <th>net_profit</th>\n",
       "    </tr>\n",
       "  </thead>\n",
       "  <tbody>\n",
       "    <tr>\n",
       "      <th>0</th>\n",
       "      <td>2009-12-18</td>\n",
       "      <td>Avatar</td>\n",
       "      <td>425000000</td>\n",
       "      <td>2776345279</td>\n",
       "      <td>2351345279</td>\n",
       "    </tr>\n",
       "    <tr>\n",
       "      <th>1</th>\n",
       "      <td>2011-05-20</td>\n",
       "      <td>Pirates of the Caribbean: On Stranger Tides</td>\n",
       "      <td>410600000</td>\n",
       "      <td>1045663875</td>\n",
       "      <td>635063875</td>\n",
       "    </tr>\n",
       "    <tr>\n",
       "      <th>2</th>\n",
       "      <td>2019-06-07</td>\n",
       "      <td>Dark Phoenix</td>\n",
       "      <td>350000000</td>\n",
       "      <td>149762350</td>\n",
       "      <td>-200237650</td>\n",
       "    </tr>\n",
       "    <tr>\n",
       "      <th>3</th>\n",
       "      <td>2015-05-01</td>\n",
       "      <td>Avengers: Age of Ultron</td>\n",
       "      <td>330600000</td>\n",
       "      <td>1403013963</td>\n",
       "      <td>1072413963</td>\n",
       "    </tr>\n",
       "    <tr>\n",
       "      <th>4</th>\n",
       "      <td>2017-12-15</td>\n",
       "      <td>Star Wars Ep. VIII: The Last Jedi</td>\n",
       "      <td>317000000</td>\n",
       "      <td>1316721747</td>\n",
       "      <td>999721747</td>\n",
       "    </tr>\n",
       "    <tr>\n",
       "      <th>...</th>\n",
       "      <td>...</td>\n",
       "      <td>...</td>\n",
       "      <td>...</td>\n",
       "      <td>...</td>\n",
       "      <td>...</td>\n",
       "    </tr>\n",
       "    <tr>\n",
       "      <th>5775</th>\n",
       "      <td>2006-05-26</td>\n",
       "      <td>Cavite</td>\n",
       "      <td>7000</td>\n",
       "      <td>71644</td>\n",
       "      <td>64644</td>\n",
       "    </tr>\n",
       "    <tr>\n",
       "      <th>5776</th>\n",
       "      <td>2004-12-31</td>\n",
       "      <td>The Mongol King</td>\n",
       "      <td>7000</td>\n",
       "      <td>900</td>\n",
       "      <td>-6100</td>\n",
       "    </tr>\n",
       "    <tr>\n",
       "      <th>5778</th>\n",
       "      <td>1999-04-02</td>\n",
       "      <td>Following</td>\n",
       "      <td>6000</td>\n",
       "      <td>240495</td>\n",
       "      <td>234495</td>\n",
       "    </tr>\n",
       "    <tr>\n",
       "      <th>5779</th>\n",
       "      <td>2005-07-13</td>\n",
       "      <td>Return to the Land of Wonders</td>\n",
       "      <td>5000</td>\n",
       "      <td>1338</td>\n",
       "      <td>-3662</td>\n",
       "    </tr>\n",
       "    <tr>\n",
       "      <th>5781</th>\n",
       "      <td>2005-08-05</td>\n",
       "      <td>My Date With Drew</td>\n",
       "      <td>1100</td>\n",
       "      <td>181041</td>\n",
       "      <td>179941</td>\n",
       "    </tr>\n",
       "  </tbody>\n",
       "</table>\n",
       "<p>5415 rows × 5 columns</p>\n",
       "</div>"
      ],
      "text/plain": [
       "     release_date                                        movie  \\\n",
       "0      2009-12-18                                       Avatar   \n",
       "1      2011-05-20  Pirates of the Caribbean: On Stranger Tides   \n",
       "2      2019-06-07                                 Dark Phoenix   \n",
       "3      2015-05-01                      Avengers: Age of Ultron   \n",
       "4      2017-12-15            Star Wars Ep. VIII: The Last Jedi   \n",
       "...           ...                                          ...   \n",
       "5775   2006-05-26                                       Cavite   \n",
       "5776   2004-12-31                              The Mongol King   \n",
       "5778   1999-04-02                                    Following   \n",
       "5779   2005-07-13                Return to the Land of Wonders   \n",
       "5781   2005-08-05                            My Date With Drew   \n",
       "\n",
       "      production_budget  worldwide_gross  net_profit  \n",
       "0             425000000       2776345279  2351345279  \n",
       "1             410600000       1045663875   635063875  \n",
       "2             350000000        149762350  -200237650  \n",
       "3             330600000       1403013963  1072413963  \n",
       "4             317000000       1316721747   999721747  \n",
       "...                 ...              ...         ...  \n",
       "5775               7000            71644       64644  \n",
       "5776               7000              900       -6100  \n",
       "5778               6000           240495      234495  \n",
       "5779               5000             1338       -3662  \n",
       "5781               1100           181041      179941  \n",
       "\n",
       "[5415 rows x 5 columns]"
      ]
     },
     "execution_count": 6,
     "metadata": {},
     "output_type": "execute_result"
    }
   ],
   "source": [
    "# Net profit = worldwide gross - production budget\n",
    "\n",
    "\n",
    "tn_df = tn_df.assign(net_profit = tn_df['worldwide_gross'] - tn_df['production_budget'])\n",
    "\n",
    "tn_df"
   ]
  },
  {
   "cell_type": "markdown",
   "metadata": {},
   "source": [
    "## 6. Convert Gross, Profit & Budget to \"in millions\" to make graphs more readable"
   ]
  },
  {
   "cell_type": "code",
   "execution_count": 7,
   "metadata": {},
   "outputs": [],
   "source": [
    "tn_df['budget_mils'] = tn_df['production_budget'] / 1000000\n",
    "tn_df['profit_mils'] = tn_df['net_profit']/1000000\n",
    "tn_df['worldwide_gross_mils'] = tn_df['worldwide_gross']/1000000"
   ]
  },
  {
   "cell_type": "markdown",
   "metadata": {},
   "source": [
    "# II. Relationship between Production Budget and Global Net Profit"
   ]
  },
  {
   "cell_type": "code",
   "execution_count": 91,
   "metadata": {},
   "outputs": [
    {
     "data": {
      "image/png": "[encoded data removed]",
      "text/plain": [
       "<Figure size 1008x576 with 1 Axes>"
      ]
     },
     "metadata": {},
     "output_type": "display_data"
    }
   ],
   "source": [
    "sns.set_theme(context='notebook', style='dark', palette='deep', font='sans-serif', font_scale=1.25, color_codes=True, rc={'figure.figsize':(14,8)})\n",
    "\n",
    "plot = sns.scatterplot(x='budget_mils', y='profit_mils', data=tn_df)\n",
    "plt.axvline(0, color='black')\n",
    "plt.axhline(0, color='black')\n",
    "\n",
    "plot.set_title('Profit by Budget')\n",
    "plot.set_xlabel('Production Budget (in millions of USD)', rotation=0, labelpad=15)\n",
    "plot.set_ylabel('Global Profit (in millions of USD)', rotation=90, labelpad=15);\n",
    "\n",
    "plt.show()"
   ]
  },
  {
   "cell_type": "markdown",
   "metadata": {},
   "source": [
    "### Examining Correlation"
   ]
  },
  {
   "cell_type": "code",
   "execution_count": 94,
   "metadata": {},
   "outputs": [
    {
     "name": "stdout",
     "output_type": "stream",
     "text": [
      "r = 0.61\n"
     ]
    }
   ],
   "source": [
    "r_budget_profit = tn_df.corr()['production_budget']['net_profit']\n",
    "\n",
    "print(\"r = \" + str(round(r_budget_profit, 2)))"
   ]
  },
  {
   "cell_type": "markdown",
   "metadata": {},
   "source": [
    "- Our scatter plot and Pearson's correlation (r = 0.61) suggests a moderately strong relationship between production budget and profit. \n",
    "\n",
    "- From the scatterplot, we determined that high-budget films are high-risk, high-reward. While there is a general positive relationship between budget and profit, there is more variability among higher-budget films. \n",
    "\n",
    "- This brought us to the question: is it worth the risk to invest in high-budget movies, or better to invest in more low-budget movies?"
   ]
  },
  {
   "cell_type": "markdown",
   "metadata": {},
   "source": [
    "# III. Budget-Profit Relationship in Low, Medium and High Budget Movies"
   ]
  },
  {
   "cell_type": "markdown",
   "metadata": {},
   "source": [
    "- Economic researchers define \"low\" \"medium\" and \"high\" budget movies in Hollywood as the following (Kuehn & Lampe, 2021; https://papers.ssrn.com/sol3/papers.cfm?abstract_id=3751648):\n",
    "  - Low = 0 - 20 mil, \n",
    "  - Medium = 20 - 100 mil\n",
    "  - High = 100+ mil\n",
    "  \n",
    "- Below, we group the dataset into \"Low\" \"Medium\" and \"High\" budget movies based on the above cutoffs:"
   ]
  },
  {
   "cell_type": "code",
   "execution_count": 21,
   "metadata": {},
   "outputs": [
    {
     "data": {
      "text/plain": [
       "6.0"
      ]
     },
     "execution_count": 21,
     "metadata": {},
     "output_type": "execute_result"
    }
   ],
   "source": [
    "np.percentile(tn_df['budget_mils'], 25)"
   ]
  },
  {
   "cell_type": "code",
   "execution_count": 25,
   "metadata": {},
   "outputs": [
    {
     "data": {
      "text/html": [
       "<div>\n",
       "<style scoped>\n",
       "    .dataframe tbody tr th:only-of-type {\n",
       "        vertical-align: middle;\n",
       "    }\n",
       "\n",
       "    .dataframe tbody tr th {\n",
       "        vertical-align: top;\n",
       "    }\n",
       "\n",
       "    .dataframe thead th {\n",
       "        text-align: right;\n",
       "    }\n",
       "</style>\n",
       "<table border=\"1\" class=\"dataframe\">\n",
       "  <thead>\n",
       "    <tr style=\"text-align: right;\">\n",
       "      <th></th>\n",
       "      <th>release_date</th>\n",
       "      <th>movie</th>\n",
       "      <th>production_budget</th>\n",
       "      <th>worldwide_gross</th>\n",
       "      <th>net_profit</th>\n",
       "      <th>budget_mils</th>\n",
       "      <th>profit_mils</th>\n",
       "      <th>worldwide_gross_mils</th>\n",
       "      <th>budget_groups</th>\n",
       "      <th>roi</th>\n",
       "    </tr>\n",
       "  </thead>\n",
       "  <tbody>\n",
       "    <tr>\n",
       "      <th>0</th>\n",
       "      <td>2009-12-18</td>\n",
       "      <td>Avatar</td>\n",
       "      <td>425000000</td>\n",
       "      <td>2776345279</td>\n",
       "      <td>2351345279</td>\n",
       "      <td>425.0000</td>\n",
       "      <td>2351.345279</td>\n",
       "      <td>2776.345279</td>\n",
       "      <td>High</td>\n",
       "      <td>5.532577</td>\n",
       "    </tr>\n",
       "    <tr>\n",
       "      <th>1</th>\n",
       "      <td>2011-05-20</td>\n",
       "      <td>Pirates of the Caribbean: On Stranger Tides</td>\n",
       "      <td>410600000</td>\n",
       "      <td>1045663875</td>\n",
       "      <td>635063875</td>\n",
       "      <td>410.6000</td>\n",
       "      <td>635.063875</td>\n",
       "      <td>1045.663875</td>\n",
       "      <td>High</td>\n",
       "      <td>1.546673</td>\n",
       "    </tr>\n",
       "    <tr>\n",
       "      <th>2</th>\n",
       "      <td>2019-06-07</td>\n",
       "      <td>Dark Phoenix</td>\n",
       "      <td>350000000</td>\n",
       "      <td>149762350</td>\n",
       "      <td>-200237650</td>\n",
       "      <td>350.0000</td>\n",
       "      <td>-200.237650</td>\n",
       "      <td>149.762350</td>\n",
       "      <td>High</td>\n",
       "      <td>-0.572108</td>\n",
       "    </tr>\n",
       "    <tr>\n",
       "      <th>3</th>\n",
       "      <td>2015-05-01</td>\n",
       "      <td>Avengers: Age of Ultron</td>\n",
       "      <td>330600000</td>\n",
       "      <td>1403013963</td>\n",
       "      <td>1072413963</td>\n",
       "      <td>330.6000</td>\n",
       "      <td>1072.413963</td>\n",
       "      <td>1403.013963</td>\n",
       "      <td>High</td>\n",
       "      <td>3.243841</td>\n",
       "    </tr>\n",
       "    <tr>\n",
       "      <th>4</th>\n",
       "      <td>2017-12-15</td>\n",
       "      <td>Star Wars Ep. VIII: The Last Jedi</td>\n",
       "      <td>317000000</td>\n",
       "      <td>1316721747</td>\n",
       "      <td>999721747</td>\n",
       "      <td>317.0000</td>\n",
       "      <td>999.721747</td>\n",
       "      <td>1316.721747</td>\n",
       "      <td>High</td>\n",
       "      <td>3.153696</td>\n",
       "    </tr>\n",
       "    <tr>\n",
       "      <th>...</th>\n",
       "      <td>...</td>\n",
       "      <td>...</td>\n",
       "      <td>...</td>\n",
       "      <td>...</td>\n",
       "      <td>...</td>\n",
       "      <td>...</td>\n",
       "      <td>...</td>\n",
       "      <td>...</td>\n",
       "      <td>...</td>\n",
       "      <td>...</td>\n",
       "    </tr>\n",
       "    <tr>\n",
       "      <th>5775</th>\n",
       "      <td>2006-05-26</td>\n",
       "      <td>Cavite</td>\n",
       "      <td>7000</td>\n",
       "      <td>71644</td>\n",
       "      <td>64644</td>\n",
       "      <td>0.0070</td>\n",
       "      <td>0.064644</td>\n",
       "      <td>0.071644</td>\n",
       "      <td>Low</td>\n",
       "      <td>9.234857</td>\n",
       "    </tr>\n",
       "    <tr>\n",
       "      <th>5776</th>\n",
       "      <td>2004-12-31</td>\n",
       "      <td>The Mongol King</td>\n",
       "      <td>7000</td>\n",
       "      <td>900</td>\n",
       "      <td>-6100</td>\n",
       "      <td>0.0070</td>\n",
       "      <td>-0.006100</td>\n",
       "      <td>0.000900</td>\n",
       "      <td>Low</td>\n",
       "      <td>-0.871429</td>\n",
       "    </tr>\n",
       "    <tr>\n",
       "      <th>5778</th>\n",
       "      <td>1999-04-02</td>\n",
       "      <td>Following</td>\n",
       "      <td>6000</td>\n",
       "      <td>240495</td>\n",
       "      <td>234495</td>\n",
       "      <td>0.0060</td>\n",
       "      <td>0.234495</td>\n",
       "      <td>0.240495</td>\n",
       "      <td>Low</td>\n",
       "      <td>39.082500</td>\n",
       "    </tr>\n",
       "    <tr>\n",
       "      <th>5779</th>\n",
       "      <td>2005-07-13</td>\n",
       "      <td>Return to the Land of Wonders</td>\n",
       "      <td>5000</td>\n",
       "      <td>1338</td>\n",
       "      <td>-3662</td>\n",
       "      <td>0.0050</td>\n",
       "      <td>-0.003662</td>\n",
       "      <td>0.001338</td>\n",
       "      <td>Low</td>\n",
       "      <td>-0.732400</td>\n",
       "    </tr>\n",
       "    <tr>\n",
       "      <th>5781</th>\n",
       "      <td>2005-08-05</td>\n",
       "      <td>My Date With Drew</td>\n",
       "      <td>1100</td>\n",
       "      <td>181041</td>\n",
       "      <td>179941</td>\n",
       "      <td>0.0011</td>\n",
       "      <td>0.179941</td>\n",
       "      <td>0.181041</td>\n",
       "      <td>Low</td>\n",
       "      <td>163.582727</td>\n",
       "    </tr>\n",
       "  </tbody>\n",
       "</table>\n",
       "<p>5415 rows × 10 columns</p>\n",
       "</div>"
      ],
      "text/plain": [
       "     release_date                                        movie  \\\n",
       "0      2009-12-18                                       Avatar   \n",
       "1      2011-05-20  Pirates of the Caribbean: On Stranger Tides   \n",
       "2      2019-06-07                                 Dark Phoenix   \n",
       "3      2015-05-01                      Avengers: Age of Ultron   \n",
       "4      2017-12-15            Star Wars Ep. VIII: The Last Jedi   \n",
       "...           ...                                          ...   \n",
       "5775   2006-05-26                                       Cavite   \n",
       "5776   2004-12-31                              The Mongol King   \n",
       "5778   1999-04-02                                    Following   \n",
       "5779   2005-07-13                Return to the Land of Wonders   \n",
       "5781   2005-08-05                            My Date With Drew   \n",
       "\n",
       "      production_budget  worldwide_gross  net_profit  budget_mils  \\\n",
       "0             425000000       2776345279  2351345279     425.0000   \n",
       "1             410600000       1045663875   635063875     410.6000   \n",
       "2             350000000        149762350  -200237650     350.0000   \n",
       "3             330600000       1403013963  1072413963     330.6000   \n",
       "4             317000000       1316721747   999721747     317.0000   \n",
       "...                 ...              ...         ...          ...   \n",
       "5775               7000            71644       64644       0.0070   \n",
       "5776               7000              900       -6100       0.0070   \n",
       "5778               6000           240495      234495       0.0060   \n",
       "5779               5000             1338       -3662       0.0050   \n",
       "5781               1100           181041      179941       0.0011   \n",
       "\n",
       "      profit_mils  worldwide_gross_mils budget_groups         roi  \n",
       "0     2351.345279           2776.345279          High    5.532577  \n",
       "1      635.063875           1045.663875          High    1.546673  \n",
       "2     -200.237650            149.762350          High   -0.572108  \n",
       "3     1072.413963           1403.013963          High    3.243841  \n",
       "4      999.721747           1316.721747          High    3.153696  \n",
       "...           ...                   ...           ...         ...  \n",
       "5775     0.064644              0.071644           Low    9.234857  \n",
       "5776    -0.006100              0.000900           Low   -0.871429  \n",
       "5778     0.234495              0.240495           Low   39.082500  \n",
       "5779    -0.003662              0.001338           Low   -0.732400  \n",
       "5781     0.179941              0.181041           Low  163.582727  \n",
       "\n",
       "[5415 rows x 10 columns]"
      ]
     },
     "execution_count": 25,
     "metadata": {},
     "output_type": "execute_result"
    }
   ],
   "source": [
    "labels = [\"Low\", \"Medium\", \"High\"]\n",
    "\n",
    "tn_df['budget_groups'] = pd.cut(tn_df['budget_mils'], bins=[0,20,100,500],include_lowest=True, labels=labels)\n",
    "\n",
    "tn_df"
   ]
  },
  {
   "cell_type": "markdown",
   "metadata": {},
   "source": [
    "## Investigating ROI based on different budget levels:"
   ]
  },
  {
   "cell_type": "markdown",
   "metadata": {},
   "source": [
    "- ROI (return on investment) show the efficiency of an investment as a percentage\n",
    "\n",
    "- ROI = (profit - cost)/cost * 100%"
   ]
  },
  {
   "cell_type": "code",
   "execution_count": 78,
   "metadata": {
    "scrolled": true
   },
   "outputs": [
    {
     "data": {
      "text/html": [
       "<div>\n",
       "<style scoped>\n",
       "    .dataframe tbody tr th:only-of-type {\n",
       "        vertical-align: middle;\n",
       "    }\n",
       "\n",
       "    .dataframe tbody tr th {\n",
       "        vertical-align: top;\n",
       "    }\n",
       "\n",
       "    .dataframe thead th {\n",
       "        text-align: right;\n",
       "    }\n",
       "</style>\n",
       "<table border=\"1\" class=\"dataframe\">\n",
       "  <thead>\n",
       "    <tr style=\"text-align: right;\">\n",
       "      <th></th>\n",
       "      <th>release_date</th>\n",
       "      <th>movie</th>\n",
       "      <th>production_budget</th>\n",
       "      <th>worldwide_gross</th>\n",
       "      <th>net_profit</th>\n",
       "      <th>budget_mils</th>\n",
       "      <th>profit_mils</th>\n",
       "      <th>worldwide_gross_mils</th>\n",
       "      <th>budget_groups</th>\n",
       "      <th>roi</th>\n",
       "    </tr>\n",
       "  </thead>\n",
       "  <tbody>\n",
       "    <tr>\n",
       "      <th>0</th>\n",
       "      <td>2009-12-18</td>\n",
       "      <td>Avatar</td>\n",
       "      <td>425000000</td>\n",
       "      <td>2776345279</td>\n",
       "      <td>2351345279</td>\n",
       "      <td>425.0000</td>\n",
       "      <td>2351.345279</td>\n",
       "      <td>2776.345279</td>\n",
       "      <td>High</td>\n",
       "      <td>553.257713</td>\n",
       "    </tr>\n",
       "    <tr>\n",
       "      <th>1</th>\n",
       "      <td>2011-05-20</td>\n",
       "      <td>Pirates of the Caribbean: On Stranger Tides</td>\n",
       "      <td>410600000</td>\n",
       "      <td>1045663875</td>\n",
       "      <td>635063875</td>\n",
       "      <td>410.6000</td>\n",
       "      <td>635.063875</td>\n",
       "      <td>1045.663875</td>\n",
       "      <td>High</td>\n",
       "      <td>154.667286</td>\n",
       "    </tr>\n",
       "    <tr>\n",
       "      <th>2</th>\n",
       "      <td>2019-06-07</td>\n",
       "      <td>Dark Phoenix</td>\n",
       "      <td>350000000</td>\n",
       "      <td>149762350</td>\n",
       "      <td>-200237650</td>\n",
       "      <td>350.0000</td>\n",
       "      <td>-200.237650</td>\n",
       "      <td>149.762350</td>\n",
       "      <td>High</td>\n",
       "      <td>-57.210757</td>\n",
       "    </tr>\n",
       "    <tr>\n",
       "      <th>3</th>\n",
       "      <td>2015-05-01</td>\n",
       "      <td>Avengers: Age of Ultron</td>\n",
       "      <td>330600000</td>\n",
       "      <td>1403013963</td>\n",
       "      <td>1072413963</td>\n",
       "      <td>330.6000</td>\n",
       "      <td>1072.413963</td>\n",
       "      <td>1403.013963</td>\n",
       "      <td>High</td>\n",
       "      <td>324.384139</td>\n",
       "    </tr>\n",
       "    <tr>\n",
       "      <th>4</th>\n",
       "      <td>2017-12-15</td>\n",
       "      <td>Star Wars Ep. VIII: The Last Jedi</td>\n",
       "      <td>317000000</td>\n",
       "      <td>1316721747</td>\n",
       "      <td>999721747</td>\n",
       "      <td>317.0000</td>\n",
       "      <td>999.721747</td>\n",
       "      <td>1316.721747</td>\n",
       "      <td>High</td>\n",
       "      <td>315.369636</td>\n",
       "    </tr>\n",
       "    <tr>\n",
       "      <th>...</th>\n",
       "      <td>...</td>\n",
       "      <td>...</td>\n",
       "      <td>...</td>\n",
       "      <td>...</td>\n",
       "      <td>...</td>\n",
       "      <td>...</td>\n",
       "      <td>...</td>\n",
       "      <td>...</td>\n",
       "      <td>...</td>\n",
       "      <td>...</td>\n",
       "    </tr>\n",
       "    <tr>\n",
       "      <th>5775</th>\n",
       "      <td>2006-05-26</td>\n",
       "      <td>Cavite</td>\n",
       "      <td>7000</td>\n",
       "      <td>71644</td>\n",
       "      <td>64644</td>\n",
       "      <td>0.0070</td>\n",
       "      <td>0.064644</td>\n",
       "      <td>0.071644</td>\n",
       "      <td>Low</td>\n",
       "      <td>923.485714</td>\n",
       "    </tr>\n",
       "    <tr>\n",
       "      <th>5776</th>\n",
       "      <td>2004-12-31</td>\n",
       "      <td>The Mongol King</td>\n",
       "      <td>7000</td>\n",
       "      <td>900</td>\n",
       "      <td>-6100</td>\n",
       "      <td>0.0070</td>\n",
       "      <td>-0.006100</td>\n",
       "      <td>0.000900</td>\n",
       "      <td>Low</td>\n",
       "      <td>-87.142857</td>\n",
       "    </tr>\n",
       "    <tr>\n",
       "      <th>5778</th>\n",
       "      <td>1999-04-02</td>\n",
       "      <td>Following</td>\n",
       "      <td>6000</td>\n",
       "      <td>240495</td>\n",
       "      <td>234495</td>\n",
       "      <td>0.0060</td>\n",
       "      <td>0.234495</td>\n",
       "      <td>0.240495</td>\n",
       "      <td>Low</td>\n",
       "      <td>3908.250000</td>\n",
       "    </tr>\n",
       "    <tr>\n",
       "      <th>5779</th>\n",
       "      <td>2005-07-13</td>\n",
       "      <td>Return to the Land of Wonders</td>\n",
       "      <td>5000</td>\n",
       "      <td>1338</td>\n",
       "      <td>-3662</td>\n",
       "      <td>0.0050</td>\n",
       "      <td>-0.003662</td>\n",
       "      <td>0.001338</td>\n",
       "      <td>Low</td>\n",
       "      <td>-73.240000</td>\n",
       "    </tr>\n",
       "    <tr>\n",
       "      <th>5781</th>\n",
       "      <td>2005-08-05</td>\n",
       "      <td>My Date With Drew</td>\n",
       "      <td>1100</td>\n",
       "      <td>181041</td>\n",
       "      <td>179941</td>\n",
       "      <td>0.0011</td>\n",
       "      <td>0.179941</td>\n",
       "      <td>0.181041</td>\n",
       "      <td>Low</td>\n",
       "      <td>16358.272727</td>\n",
       "    </tr>\n",
       "  </tbody>\n",
       "</table>\n",
       "<p>5415 rows × 10 columns</p>\n",
       "</div>"
      ],
      "text/plain": [
       "     release_date                                        movie  \\\n",
       "0      2009-12-18                                       Avatar   \n",
       "1      2011-05-20  Pirates of the Caribbean: On Stranger Tides   \n",
       "2      2019-06-07                                 Dark Phoenix   \n",
       "3      2015-05-01                      Avengers: Age of Ultron   \n",
       "4      2017-12-15            Star Wars Ep. VIII: The Last Jedi   \n",
       "...           ...                                          ...   \n",
       "5775   2006-05-26                                       Cavite   \n",
       "5776   2004-12-31                              The Mongol King   \n",
       "5778   1999-04-02                                    Following   \n",
       "5779   2005-07-13                Return to the Land of Wonders   \n",
       "5781   2005-08-05                            My Date With Drew   \n",
       "\n",
       "      production_budget  worldwide_gross  net_profit  budget_mils  \\\n",
       "0             425000000       2776345279  2351345279     425.0000   \n",
       "1             410600000       1045663875   635063875     410.6000   \n",
       "2             350000000        149762350  -200237650     350.0000   \n",
       "3             330600000       1403013963  1072413963     330.6000   \n",
       "4             317000000       1316721747   999721747     317.0000   \n",
       "...                 ...              ...         ...          ...   \n",
       "5775               7000            71644       64644       0.0070   \n",
       "5776               7000              900       -6100       0.0070   \n",
       "5778               6000           240495      234495       0.0060   \n",
       "5779               5000             1338       -3662       0.0050   \n",
       "5781               1100           181041      179941       0.0011   \n",
       "\n",
       "      profit_mils  worldwide_gross_mils budget_groups           roi  \n",
       "0     2351.345279           2776.345279          High    553.257713  \n",
       "1      635.063875           1045.663875          High    154.667286  \n",
       "2     -200.237650            149.762350          High    -57.210757  \n",
       "3     1072.413963           1403.013963          High    324.384139  \n",
       "4      999.721747           1316.721747          High    315.369636  \n",
       "...           ...                   ...           ...           ...  \n",
       "5775     0.064644              0.071644           Low    923.485714  \n",
       "5776    -0.006100              0.000900           Low    -87.142857  \n",
       "5778     0.234495              0.240495           Low   3908.250000  \n",
       "5779    -0.003662              0.001338           Low    -73.240000  \n",
       "5781     0.179941              0.181041           Low  16358.272727  \n",
       "\n",
       "[5415 rows x 10 columns]"
      ]
     },
     "execution_count": 78,
     "metadata": {},
     "output_type": "execute_result"
    }
   ],
   "source": [
    "tn_df['roi'] = tn_df['profit_mils']/tn_df['budget_mils']*100\n",
    "\n",
    "tn_df"
   ]
  },
  {
   "cell_type": "markdown",
   "metadata": {},
   "source": [
    "## Comparing ROI between budget groups:"
   ]
  },
  {
   "cell_type": "code",
   "execution_count": 82,
   "metadata": {},
   "outputs": [
    {
     "data": {
      "image/png": "[encoded data removed]",
      "text/plain": [
       "<Figure size 1008x576 with 1 Axes>"
      ]
     },
     "metadata": {},
     "output_type": "display_data"
    }
   ],
   "source": [
    "sns.set_theme(context='notebook', style='dark', palette='deep', font='sans-serif', font_scale=1.5, color_codes=True, rc={'figure.figsize':(14,8)})\n",
    "\n",
    "\n",
    "\n",
    "roi_bar = sns.barplot(x ='budget_groups', y = 'roi', data = tn_df, errwidth=0)\n",
    "\n",
    "ax = roi_bar\n",
    "\n",
    "ax.set_xlabel(\"Budget Category\", rotation=0, labelpad=15)\n",
    "ax.set_ylabel(\"ROI (%)\", rotation=90, labelpad=15)\n",
    "ax.set_title('Average ROI by Budget Categories')\n",
    "\n",
    "#annotate axis = seaborn axis\n",
    "for p in ax.patches:\n",
    "    ax.annotate(\"%.2f\" % p.get_height(), (p.get_x() + p.get_width() / 2., p.get_height()),\n",
    "                ha='center', va='center', fontsize=13, color='black', xytext=(0, 20),\n",
    "                textcoords='offset points');\n"
   ]
  },
  {
   "cell_type": "markdown",
   "metadata": {},
   "source": [
    "The return on investment (ROI) is highest for low-budget films"
   ]
  },
  {
   "cell_type": "markdown",
   "metadata": {},
   "source": [
    "# Other Scratch Work"
   ]
  },
  {
   "cell_type": "markdown",
   "metadata": {
    "heading_collapsed": true
   },
   "source": [
    "## First Dataset Explorations:"
   ]
  },
  {
   "cell_type": "markdown",
   "metadata": {
    "heading_collapsed": true,
    "hidden": true
   },
   "source": [
    "### 1. \"Rotten Tomatoes: Movie Info\" Dataset"
   ]
  },
  {
   "cell_type": "markdown",
   "metadata": {
    "heading_collapsed": true,
    "hidden": true
   },
   "source": [
    "#### Main Takeaways:\n",
    "\n",
    "##### Potential Predictor Variables\n",
    " 1. MPAA Rating\n",
    " 2. Genre\n",
    " 3. Director\n",
    " 4. Writer\n",
    " 5. Theater Date (month released/time of month?)\n",
    " 6. Runtime\n",
    "\n",
    "##### Potential Outcome Variable\n",
    " 1. Box_Office\n",
    " - Seems to be 1st weekend collection in US only? \n",
    " - Probably not the best source to use\n",
    " \n",
    " 2. Currency (only USD, useless)\n",
    " \n",
    "##### Connector Variables\n",
    " 1. id"
   ]
  },
  {
   "cell_type": "markdown",
   "metadata": {
    "hidden": true
   },
   "source": [
    "#### Methodology"
   ]
  },
  {
   "cell_type": "markdown",
   "metadata": {
    "heading_collapsed": true,
    "hidden": true
   },
   "source": [
    "###### Import Data & View First 5 Rows"
   ]
  },
  {
   "cell_type": "code",
   "execution_count": null,
   "metadata": {
    "hidden": true
   },
   "outputs": [],
   "source": [
    "rt_df.head()"
   ]
  },
  {
   "cell_type": "markdown",
   "metadata": {
    "heading_collapsed": true,
    "hidden": true
   },
   "source": [
    "###### Examine Columns/Variables of Interest"
   ]
  },
  {
   "cell_type": "code",
   "execution_count": null,
   "metadata": {
    "hidden": true
   },
   "outputs": [],
   "source": [
    "rt_movie_info_df.info()"
   ]
  },
  {
   "cell_type": "markdown",
   "metadata": {
    "hidden": true
   },
   "source": [
    "- Movie title is not included in this database, just ID.\n",
    " - So much missing data!!! (more on that below)"
   ]
  },
  {
   "cell_type": "markdown",
   "metadata": {
    "heading_collapsed": true,
    "hidden": true
   },
   "source": [
    "###### Missing Data: 10% Rule"
   ]
  },
  {
   "cell_type": "code",
   "execution_count": null,
   "metadata": {
    "hidden": true
   },
   "outputs": [],
   "source": [
    "# Columns that have more than 10% of data missing:\n",
    "\n",
    "print(1560*10/100) \n",
    "\n",
    "#156 Missing, 1404 Present\n",
    "\n",
    "((rt_df.isna().sum())>156)\n",
    "\n",
    "#Director, Writer, Theater_Date, DVD_Date, Currency, Box_Office, Studio"
   ]
  },
  {
   "cell_type": "markdown",
   "metadata": {
    "heading_collapsed": true,
    "hidden": true
   },
   "source": [
    "###### Descriptive Statistics"
   ]
  },
  {
   "cell_type": "markdown",
   "metadata": {
    "hidden": true
   },
   "source": [
    "- Numeric variables: Box_Office, Runtime\n",
    "- Categorical variables: the rest\n",
    "- Theater_Date --> convert to DateTime if interesting"
   ]
  },
  {
   "cell_type": "code",
   "execution_count": null,
   "metadata": {
    "hidden": true
   },
   "outputs": [],
   "source": [
    "rt_df['rating'].value_counts(normalize = True)* 100"
   ]
  },
  {
   "cell_type": "code",
   "execution_count": null,
   "metadata": {
    "hidden": true
   },
   "outputs": [],
   "source": [
    "rt_df['genre'].value_counts(normalize = True) * 100\n",
    "\n",
    "#299 different Genres! will have to parse through & convert to lists to use?"
   ]
  },
  {
   "cell_type": "code",
   "execution_count": null,
   "metadata": {
    "hidden": true
   },
   "outputs": [],
   "source": [
    "rt_df['runtime'].value_counts()\n",
    "\n",
    "# need to get rid of minutes, need to convert to int"
   ]
  },
  {
   "cell_type": "code",
   "execution_count": null,
   "metadata": {
    "hidden": true
   },
   "outputs": [],
   "source": [
    "#Unique movies in dataset:\n",
    "\n",
    "len(rt_df['id'].value_counts())"
   ]
  },
  {
   "cell_type": "markdown",
   "metadata": {
    "hidden": true
   },
   "source": [
    "<br>"
   ]
  },
  {
   "cell_type": "markdown",
   "metadata": {
    "hidden": true
   },
   "source": [
    "### 2. Rotten Tomatoes: Reviews Dataset"
   ]
  },
  {
   "cell_type": "markdown",
   "metadata": {
    "hidden": true
   },
   "source": [
    "##### Dataset Info"
   ]
  },
  {
   "cell_type": "code",
   "execution_count": null,
   "metadata": {
    "hidden": true
   },
   "outputs": [],
   "source": [
    "\n",
    "\n",
    "\n",
    "rt_movie_df = pd.read_csv('zippedData/rt.movie_info.tsv.gz', sep = '\\t')\n",
    "\n",
    "rt_review_df = pd.read_csv('zippedData/rt.reviews.tsv.gz', sep = '\\t', encoding = 'unicode_escape', error_bad_lines=False)\n",
    "\n",
    "rt_review_df.info()"
   ]
  },
  {
   "cell_type": "markdown",
   "metadata": {
    "hidden": true
   },
   "source": [
    "##### Missing Data 10% rule:"
   ]
  },
  {
   "cell_type": "code",
   "execution_count": null,
   "metadata": {
    "hidden": true,
    "scrolled": true
   },
   "outputs": [],
   "source": [
    "#10%: Missing data > 5443\n",
    "\n",
    "((rt_review_df.isna().sum())>5443)\n",
    "\n",
    "# Rating"
   ]
  },
  {
   "cell_type": "markdown",
   "metadata": {
    "hidden": true
   },
   "source": [
    "##### How many unique movies are represented in this dataset?"
   ]
  },
  {
   "cell_type": "code",
   "execution_count": null,
   "metadata": {
    "hidden": true
   },
   "outputs": [],
   "source": [
    "len(rt_review_df['id'].value_counts()) # 1135"
   ]
  },
  {
   "cell_type": "markdown",
   "metadata": {
    "hidden": true
   },
   "source": [
    "- 1135 movies in this dataset vs. 1560 movies in \"Movie Info\" dataset?\n",
    "\n",
    "- Missing review data on **325 movies**?"
   ]
  },
  {
   "cell_type": "markdown",
   "metadata": {
    "hidden": true
   },
   "source": [
    "##### Descriptive Statistics\n",
    "\n",
    "**Categorical Variables**: Fresh, Critic, Top_Critic\n",
    "\n",
    "**Numeric Variables**: Rating (needs to be converted to int & standardized)"
   ]
  },
  {
   "cell_type": "code",
   "execution_count": null,
   "metadata": {
    "hidden": true
   },
   "outputs": [],
   "source": [
    "rt_rev_df['rating'].value_counts()"
   ]
  },
  {
   "cell_type": "code",
   "execution_count": null,
   "metadata": {
    "hidden": true
   },
   "outputs": [],
   "source": [
    "rt_rev_df['fresh'].value_counts()"
   ]
  },
  {
   "cell_type": "code",
   "execution_count": null,
   "metadata": {
    "hidden": true
   },
   "outputs": [],
   "source": [
    "rt_rev_df['top_critic'].value_counts()"
   ]
  },
  {
   "cell_type": "markdown",
   "metadata": {
    "hidden": true
   },
   "source": [
    "<br>"
   ]
  },
  {
   "cell_type": "markdown",
   "metadata": {
    "hidden": true
   },
   "source": [
    "### 3. The Numbers Database"
   ]
  },
  {
   "cell_type": "markdown",
   "metadata": {
    "hidden": true
   },
   "source": [
    "#### Main Takeaways\n",
    "\n",
    "##### Potential Variables of Interest:\n",
    "1. Release Date\n",
    "2. Production Budget\n",
    "\n",
    "##### Outcome Variables:\n",
    "1. Domestic Gross\n",
    "2. Worldwide Gross\n",
    "3. Production Budget (if we want to look at net profits)\n",
    "\n",
    "##### Connector Variables:\n",
    "1. Movie Name\n",
    "\n",
    "##### Variable Definitions:\n",
    "1. Domestic Gross = total box office collections in US & Canada\n",
    "2. Worldwide Gross = total box office collections everywhere\n",
    "3. Net Profit (to be calculated) = Worldwide Gross - Production Budget"
   ]
  },
  {
   "cell_type": "markdown",
   "metadata": {
    "heading_collapsed": true,
    "hidden": true
   },
   "source": [
    "#### Methodology"
   ]
  },
  {
   "cell_type": "markdown",
   "metadata": {
    "hidden": true
   },
   "source": [
    "##### Imports, First 5 Rows & Last 5 Rows"
   ]
  },
  {
   "cell_type": "code",
   "execution_count": null,
   "metadata": {
    "hidden": true
   },
   "outputs": [],
   "source": [
    "\n",
    "tn_df.head()"
   ]
  },
  {
   "cell_type": "code",
   "execution_count": null,
   "metadata": {
    "hidden": true
   },
   "outputs": [],
   "source": [
    "tn_df.tail()"
   ]
  },
  {
   "cell_type": "markdown",
   "metadata": {
    "heading_collapsed": true,
    "hidden": true
   },
   "source": [
    "###### Questions:\n",
    "1. How does a movie gross nothing? Should we exclude?"
   ]
  },
  {
   "cell_type": "markdown",
   "metadata": {
    "hidden": true
   },
   "source": [
    "##### Dataset Info"
   ]
  },
  {
   "cell_type": "code",
   "execution_count": null,
   "metadata": {
    "hidden": true
   },
   "outputs": [],
   "source": [
    "tn_df.info()"
   ]
  },
  {
   "cell_type": "markdown",
   "metadata": {
    "hidden": true
   },
   "source": [
    "- No missing data! \n",
    "\n",
    "- All **object type**"
   ]
  },
  {
   "cell_type": "markdown",
   "metadata": {},
   "source": [
    "## Takeaways from Tues AM Meeting"
   ]
  },
  {
   "cell_type": "markdown",
   "metadata": {},
   "source": [
    "- First priority: The Numbers Dataset\n",
    "- Second priority: Rotten Tomatoes (too messy; similar data available in The Movies Database)"
   ]
  },
  {
   "cell_type": "markdown",
   "metadata": {},
   "source": [
    "#### Next Steps (using The Numbers Dataset)"
   ]
  },
  {
   "cell_type": "markdown",
   "metadata": {},
   "source": [
    "1. Explore if ID can be used as a connecting variable\n",
    "2. Convert Production_Budget, Domestic_Gross, Worldwide_Gross to int\n",
    "3. Calculate Net Profit\n",
    "4. **Scatter Plot: Production Budget vs. Net Profit **\n",
    "5. Convert Release_Date to DateTime Object\n",
    "6. Calculate Quarter, Month, Time of Month (early/mid/late?)\n",
    "7. Explore correlations between time & profit"
   ]
  },
  {
   "cell_type": "markdown",
   "metadata": {},
   "source": [
    "### 1. Exploring ID Further: Is this a connecting variable?"
   ]
  },
  {
   "cell_type": "code",
   "execution_count": null,
   "metadata": {},
   "outputs": [],
   "source": [
    "tn_df['id'].value_counts()"
   ]
  },
  {
   "cell_type": "markdown",
   "metadata": {},
   "source": [
    " - ID not a unique identifier, seems to just be the last 2 digits of the original index"
   ]
  },
  {
   "cell_type": "code",
   "execution_count": null,
   "metadata": {},
   "outputs": [],
   "source": [
    "tn_df.describe()"
   ]
  },
  {
   "cell_type": "markdown",
   "metadata": {},
   "source": [
    "### 4. Scatterplot: Production Budget by Worldwide Net Profit"
   ]
  },
  {
   "cell_type": "code",
   "execution_count": null,
   "metadata": {},
   "outputs": [],
   "source": []
  },
  {
   "cell_type": "code",
   "execution_count": null,
   "metadata": {},
   "outputs": [],
   "source": []
  },
  {
   "cell_type": "markdown",
   "metadata": {},
   "source": [
    "## Comparing the Average Profit for Low, Medium & High Budget Films:"
   ]
  },
  {
   "cell_type": "code",
   "execution_count": 29,
   "metadata": {},
   "outputs": [
    {
     "data": {
      "image/png": "[encoded data removed]",
      "text/plain": [
       "<Figure size 864x576 with 1 Axes>"
      ]
     },
     "metadata": {},
     "output_type": "display_data"
    }
   ],
   "source": [
    "sns.set(rc={'figure.figsize':(12,8)})\n",
    "\n",
    "sns.barplot(data = tn_df, x = tn_df['budget_groups'], y = tn_df['profit_mils'], errwidth=0).set(xlabel = 'Budget Groups', ylabel ='Net Profit (in millions)', title='Average Net Profit by Budget Category');\n",
    "\n"
   ]
  },
  {
   "cell_type": "code",
   "execution_count": null,
   "metadata": {},
   "outputs": [],
   "source": []
  }
 ],
 "metadata": {
  "kernelspec": {
   "display_name": "Python 3",
   "language": "python",
   "name": "python3"
  },
  "language_info": {
   "codemirror_mode": {
    "name": "ipython",
    "version": 3
   },
   "file_extension": ".py",
   "mimetype": "text/x-python",
   "name": "python",
   "nbconvert_exporter": "python",
   "pygments_lexer": "ipython3",
   "version": "3.8.5"
  },
  "toc": {
   "base_numbering": 1,
   "nav_menu": {},
   "number_sections": true,
   "sideBar": true,
   "skip_h1_title": false,
   "title_cell": "Table of Contents",
   "title_sidebar": "Contents",
   "toc_cell": false,
   "toc_position": {},
   "toc_section_display": true,
   "toc_window_display": false
  }
 },
 "nbformat": 4,
 "nbformat_minor": 2
}
