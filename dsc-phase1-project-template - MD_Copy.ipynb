{
 "cells": [
  {
   "cell_type": "markdown",
   "metadata": {},
   "source": [
    "![example](images/director_shot.jpeg)"
   ]
  },
  {
   "cell_type": "markdown",
   "metadata": {},
   "source": [
    "# Current Movie Trends Analysis for Microsoft Studios\n",
    "\n",
    "**Authors:** Jonathan, Matt, Nate, Roshni\n",
    "***"
   ]
  },
  {
   "cell_type": "markdown",
   "metadata": {},
   "source": [
    "## Overview\n",
    "\n",
    "A one-paragraph overview of the project, including the business problem, data, methods, results and recommendations.\n",
    "\n",
    "\"This project analyzes multiple movie databases containing datapoints across thousands of movies. Descriptive analysis of budget, runtime, genre, and rating data shows that certain types of movies typically outperform others. Microsoft's new movie studio can use this analysis to guide movie production decisions. We found **x info about budget**, movies that have a rating of **x** and above typically have a runtime in the 85-110 min range, and documentaries to be the genre with the highest average review.\"\n",
    "\n",
    "* **Which methods did we use?**\n",
    "\n",
    "* **What are the recommendations?**"
   ]
  },
  {
   "cell_type": "markdown",
   "metadata": {},
   "source": [
    "## Business Problem\n",
    "\n",
    "Summary of the business problem you are trying to solve, and the data questions that you plan to answer to solve them.\n",
    "\n",
    "\"Microsoft may be able to make an educated decision for deciding the criteria of their first film by using data from other movie releases. Doing so will give their movie the greatest likelihood of being a box office success.\n",
    "\n",
    "Using data from IMDB, TheMovieDB, and The Numbers, we describe patterns across budget decisions, movie runtime and genre decisions, and movie ratings. We chose this data to highlight expected budget costs and movie genres for movies that have been voted as the highest rated by viewers.\"\n",
    "\n",
    "***\n",
    "Questions to consider:\n",
    "* What are the business's pain points related to this project?\n",
    "* How did you pick the data analysis question(s) that you did?\n",
    "* Why are these questions important from a business perspective?\n",
    "***"
   ]
  },
  {
   "cell_type": "markdown",
   "metadata": {},
   "source": [
    "## Data Understanding\n",
    "\n",
    "Data for this analysis is taken from 3 of the largest online movie databases with datapoints on hundreds of thousands of movies. Below, we further break down the sources and relevant information from each.\n",
    "\n",
    "***\n",
    "Questions to consider:\n",
    "* Where did the data come from, and how do they relate to the data analysis questions?\n",
    "* What do the data represent? Who is in the sample and what variables are included?\n",
    "* What is the target variable?\n",
    "* What are the properties of the variables you intend to use?\n",
    "***"
   ]
  },
  {
   "cell_type": "code",
   "execution_count": 1,
   "metadata": {},
   "outputs": [],
   "source": [
    "# Import standard packages\n",
    "import pandas as pd\n",
    "import numpy as np\n",
    "import matplotlib.pyplot as plt\n",
    "import seaborn as sns\n",
    "\n",
    "%matplotlib inline"
   ]
  },
  {
   "cell_type": "markdown",
   "metadata": {},
   "source": [
    "### 1: The MovieDB (TMDB)"
   ]
  },
  {
   "cell_type": "markdown",
   "metadata": {},
   "source": [
    "TMDB dataset comprises of records on 26,517 movies and includes 9 columns of datapoints on each movie. The target data includes release date and genre where the genre codes are ordered by relevance."
   ]
  },
  {
   "cell_type": "code",
   "execution_count": 2,
   "metadata": {},
   "outputs": [],
   "source": [
    "df_tmdb = pd.read_csv('./zippedData/tmdb.movies.csv.gz', index_col = 0, parse_dates=['release_date'])"
   ]
  },
  {
   "cell_type": "code",
   "execution_count": 3,
   "metadata": {},
   "outputs": [
    {
     "data": {
      "text/html": [
       "<div>\n",
       "<style scoped>\n",
       "    .dataframe tbody tr th:only-of-type {\n",
       "        vertical-align: middle;\n",
       "    }\n",
       "\n",
       "    .dataframe tbody tr th {\n",
       "        vertical-align: top;\n",
       "    }\n",
       "\n",
       "    .dataframe thead th {\n",
       "        text-align: right;\n",
       "    }\n",
       "</style>\n",
       "<table border=\"1\" class=\"dataframe\">\n",
       "  <thead>\n",
       "    <tr style=\"text-align: right;\">\n",
       "      <th></th>\n",
       "      <th>genre_ids</th>\n",
       "      <th>id</th>\n",
       "      <th>original_language</th>\n",
       "      <th>original_title</th>\n",
       "      <th>popularity</th>\n",
       "      <th>release_date</th>\n",
       "      <th>title</th>\n",
       "      <th>vote_average</th>\n",
       "      <th>vote_count</th>\n",
       "    </tr>\n",
       "  </thead>\n",
       "  <tbody>\n",
       "    <tr>\n",
       "      <th>0</th>\n",
       "      <td>[12, 14, 10751]</td>\n",
       "      <td>12444</td>\n",
       "      <td>en</td>\n",
       "      <td>Harry Potter and the Deathly Hallows: Part 1</td>\n",
       "      <td>33.533</td>\n",
       "      <td>2010-11-19</td>\n",
       "      <td>Harry Potter and the Deathly Hallows: Part 1</td>\n",
       "      <td>7.7</td>\n",
       "      <td>10788</td>\n",
       "    </tr>\n",
       "    <tr>\n",
       "      <th>1</th>\n",
       "      <td>[14, 12, 16, 10751]</td>\n",
       "      <td>10191</td>\n",
       "      <td>en</td>\n",
       "      <td>How to Train Your Dragon</td>\n",
       "      <td>28.734</td>\n",
       "      <td>2010-03-26</td>\n",
       "      <td>How to Train Your Dragon</td>\n",
       "      <td>7.7</td>\n",
       "      <td>7610</td>\n",
       "    </tr>\n",
       "    <tr>\n",
       "      <th>2</th>\n",
       "      <td>[12, 28, 878]</td>\n",
       "      <td>10138</td>\n",
       "      <td>en</td>\n",
       "      <td>Iron Man 2</td>\n",
       "      <td>28.515</td>\n",
       "      <td>2010-05-07</td>\n",
       "      <td>Iron Man 2</td>\n",
       "      <td>6.8</td>\n",
       "      <td>12368</td>\n",
       "    </tr>\n",
       "  </tbody>\n",
       "</table>\n",
       "</div>"
      ],
      "text/plain": [
       "             genre_ids     id original_language  \\\n",
       "0      [12, 14, 10751]  12444                en   \n",
       "1  [14, 12, 16, 10751]  10191                en   \n",
       "2        [12, 28, 878]  10138                en   \n",
       "\n",
       "                                 original_title  popularity release_date  \\\n",
       "0  Harry Potter and the Deathly Hallows: Part 1      33.533   2010-11-19   \n",
       "1                      How to Train Your Dragon      28.734   2010-03-26   \n",
       "2                                    Iron Man 2      28.515   2010-05-07   \n",
       "\n",
       "                                          title  vote_average  vote_count  \n",
       "0  Harry Potter and the Deathly Hallows: Part 1           7.7       10788  \n",
       "1                      How to Train Your Dragon           7.7        7610  \n",
       "2                                    Iron Man 2           6.8       12368  "
      ]
     },
     "execution_count": 3,
     "metadata": {},
     "output_type": "execute_result"
    }
   ],
   "source": [
    "df_tmdb.head(3)"
   ]
  },
  {
   "cell_type": "markdown",
   "metadata": {},
   "source": [
    "### 2: The Numbers (TN)"
   ]
  },
  {
   "cell_type": "markdown",
   "metadata": {},
   "source": [
    "The Numbers (TN) dataset comprises of records on *5,782 movies, with 6 columns of datapoints on each movie. The target data includes production budget and worldwide gross revenue.*"
   ]
  },
  {
   "cell_type": "code",
   "execution_count": 4,
   "metadata": {},
   "outputs": [],
   "source": [
    "tn_df = pd.read_csv('zippedData/tn.movie_budgets.csv.gz', parse_dates=['release_date'])"
   ]
  },
  {
   "cell_type": "code",
   "execution_count": 5,
   "metadata": {},
   "outputs": [
    {
     "data": {
      "text/html": [
       "<div>\n",
       "<style scoped>\n",
       "    .dataframe tbody tr th:only-of-type {\n",
       "        vertical-align: middle;\n",
       "    }\n",
       "\n",
       "    .dataframe tbody tr th {\n",
       "        vertical-align: top;\n",
       "    }\n",
       "\n",
       "    .dataframe thead th {\n",
       "        text-align: right;\n",
       "    }\n",
       "</style>\n",
       "<table border=\"1\" class=\"dataframe\">\n",
       "  <thead>\n",
       "    <tr style=\"text-align: right;\">\n",
       "      <th></th>\n",
       "      <th>id</th>\n",
       "      <th>release_date</th>\n",
       "      <th>movie</th>\n",
       "      <th>production_budget</th>\n",
       "      <th>domestic_gross</th>\n",
       "      <th>worldwide_gross</th>\n",
       "    </tr>\n",
       "  </thead>\n",
       "  <tbody>\n",
       "    <tr>\n",
       "      <th>0</th>\n",
       "      <td>1</td>\n",
       "      <td>2009-12-18</td>\n",
       "      <td>Avatar</td>\n",
       "      <td>$425,000,000</td>\n",
       "      <td>$760,507,625</td>\n",
       "      <td>$2,776,345,279</td>\n",
       "    </tr>\n",
       "    <tr>\n",
       "      <th>1</th>\n",
       "      <td>2</td>\n",
       "      <td>2011-05-20</td>\n",
       "      <td>Pirates of the Caribbean: On Stranger Tides</td>\n",
       "      <td>$410,600,000</td>\n",
       "      <td>$241,063,875</td>\n",
       "      <td>$1,045,663,875</td>\n",
       "    </tr>\n",
       "    <tr>\n",
       "      <th>2</th>\n",
       "      <td>3</td>\n",
       "      <td>2019-06-07</td>\n",
       "      <td>Dark Phoenix</td>\n",
       "      <td>$350,000,000</td>\n",
       "      <td>$42,762,350</td>\n",
       "      <td>$149,762,350</td>\n",
       "    </tr>\n",
       "  </tbody>\n",
       "</table>\n",
       "</div>"
      ],
      "text/plain": [
       "   id release_date                                        movie  \\\n",
       "0   1   2009-12-18                                       Avatar   \n",
       "1   2   2011-05-20  Pirates of the Caribbean: On Stranger Tides   \n",
       "2   3   2019-06-07                                 Dark Phoenix   \n",
       "\n",
       "  production_budget domestic_gross worldwide_gross  \n",
       "0      $425,000,000   $760,507,625  $2,776,345,279  \n",
       "1      $410,600,000   $241,063,875  $1,045,663,875  \n",
       "2      $350,000,000    $42,762,350    $149,762,350  "
      ]
     },
     "execution_count": 5,
     "metadata": {},
     "output_type": "execute_result"
    }
   ],
   "source": [
    "tn_df.head(3)"
   ]
  },
  {
   "cell_type": "markdown",
   "metadata": {
    "heading_collapsed": true
   },
   "source": [
    "### 3: IMDB"
   ]
  },
  {
   "cell_type": "markdown",
   "metadata": {
    "hidden": true
   },
   "source": [
    "IMDB dataset comprises of multiple tables containing various information about movies. The two tables of interest are: `movie_basics` and `movie_ratings`.\n",
    "\n",
    "The `movie_basics` table includes movie titles, release year, and genres. The `movie_ratings` table includes average movie rating and number of votes. The primary key for both tables is `movie_id`.\n",
    "\n",
    "Target data include runtime minutes and average rating."
   ]
  },
  {
   "cell_type": "markdown",
   "metadata": {
    "hidden": true
   },
   "source": [
    "**NOTE:** In order to run this notebook, you will need to download the necessary data file. A zipped version of the file can be downloaded: [here](https://github.com/fetterollie/Microsoft-Movie-Analysis/raw/main/zippedData/im.db.zip).\n",
    "\n",
    "1) Download the zipped file into a folder called 'zippedData' within the same folder that this notebook is located. Once this zip file is in located in the zippedData folder, you can run the following cell to unzip it."
   ]
  },
  {
   "cell_type": "code",
   "execution_count": 6,
   "metadata": {
    "hidden": true
   },
   "outputs": [],
   "source": [
    "import zipfile\n",
    "with zipfile.ZipFile('zippedData/im.db.zip', 'r') as zip_ref:\n",
    "    zip_ref.extractall('zippedData')"
   ]
  },
  {
   "cell_type": "markdown",
   "metadata": {
    "hidden": true
   },
   "source": [
    "2) Run the following cell to confirm that the database file has been downloaded and unzipped to the correct folder:"
   ]
  },
  {
   "cell_type": "code",
   "execution_count": 7,
   "metadata": {
    "hidden": true
   },
   "outputs": [
    {
     "name": "stdout",
     "output_type": "stream",
     "text": [
      "You have successfully downloaded and unzipped the database file.  Please proceed.\n"
     ]
    }
   ],
   "source": [
    "from os.path import exists\n",
    "file_exists = exists('zippedData/im.db')\n",
    "if file_exists:\n",
    "    print(\"You have successfully downloaded and unzipped the database file.  Please proceed.\")\n",
    "else:\n",
    "    print(\"The database file was not found.  Please ensure that the database file has been downloaded and unzipped into the 'zippedData' folder located in the folder that this Jupyter notebook resides.\")"
   ]
  },
  {
   "cell_type": "markdown",
   "metadata": {
    "hidden": true
   },
   "source": [
    "3) Next, we want to open up the database and examine the database tables."
   ]
  },
  {
   "cell_type": "code",
   "execution_count": 8,
   "metadata": {
    "hidden": true
   },
   "outputs": [
    {
     "data": {
      "text/html": [
       "<div>\n",
       "<style scoped>\n",
       "    .dataframe tbody tr th:only-of-type {\n",
       "        vertical-align: middle;\n",
       "    }\n",
       "\n",
       "    .dataframe tbody tr th {\n",
       "        vertical-align: top;\n",
       "    }\n",
       "\n",
       "    .dataframe thead th {\n",
       "        text-align: right;\n",
       "    }\n",
       "</style>\n",
       "<table border=\"1\" class=\"dataframe\">\n",
       "  <thead>\n",
       "    <tr style=\"text-align: right;\">\n",
       "      <th></th>\n",
       "      <th>type</th>\n",
       "      <th>name</th>\n",
       "      <th>tbl_name</th>\n",
       "      <th>rootpage</th>\n",
       "      <th>sql</th>\n",
       "    </tr>\n",
       "  </thead>\n",
       "  <tbody>\n",
       "    <tr>\n",
       "      <th>0</th>\n",
       "      <td>table</td>\n",
       "      <td>movie_basics</td>\n",
       "      <td>movie_basics</td>\n",
       "      <td>2</td>\n",
       "      <td>CREATE TABLE \"movie_basics\" (\\n\"movie_id\" TEXT...</td>\n",
       "    </tr>\n",
       "    <tr>\n",
       "      <th>1</th>\n",
       "      <td>table</td>\n",
       "      <td>directors</td>\n",
       "      <td>directors</td>\n",
       "      <td>3</td>\n",
       "      <td>CREATE TABLE \"directors\" (\\n\"movie_id\" TEXT,\\n...</td>\n",
       "    </tr>\n",
       "    <tr>\n",
       "      <th>2</th>\n",
       "      <td>table</td>\n",
       "      <td>known_for</td>\n",
       "      <td>known_for</td>\n",
       "      <td>4</td>\n",
       "      <td>CREATE TABLE \"known_for\" (\\n\"person_id\" TEXT,\\...</td>\n",
       "    </tr>\n",
       "    <tr>\n",
       "      <th>3</th>\n",
       "      <td>table</td>\n",
       "      <td>movie_akas</td>\n",
       "      <td>movie_akas</td>\n",
       "      <td>5</td>\n",
       "      <td>CREATE TABLE \"movie_akas\" (\\n\"movie_id\" TEXT,\\...</td>\n",
       "    </tr>\n",
       "    <tr>\n",
       "      <th>4</th>\n",
       "      <td>table</td>\n",
       "      <td>movie_ratings</td>\n",
       "      <td>movie_ratings</td>\n",
       "      <td>6</td>\n",
       "      <td>CREATE TABLE \"movie_ratings\" (\\n\"movie_id\" TEX...</td>\n",
       "    </tr>\n",
       "    <tr>\n",
       "      <th>5</th>\n",
       "      <td>table</td>\n",
       "      <td>persons</td>\n",
       "      <td>persons</td>\n",
       "      <td>7</td>\n",
       "      <td>CREATE TABLE \"persons\" (\\n\"person_id\" TEXT,\\n ...</td>\n",
       "    </tr>\n",
       "    <tr>\n",
       "      <th>6</th>\n",
       "      <td>table</td>\n",
       "      <td>principals</td>\n",
       "      <td>principals</td>\n",
       "      <td>8</td>\n",
       "      <td>CREATE TABLE \"principals\" (\\n\"movie_id\" TEXT,\\...</td>\n",
       "    </tr>\n",
       "    <tr>\n",
       "      <th>7</th>\n",
       "      <td>table</td>\n",
       "      <td>writers</td>\n",
       "      <td>writers</td>\n",
       "      <td>9</td>\n",
       "      <td>CREATE TABLE \"writers\" (\\n\"movie_id\" TEXT,\\n  ...</td>\n",
       "    </tr>\n",
       "  </tbody>\n",
       "</table>\n",
       "</div>"
      ],
      "text/plain": [
       "    type           name       tbl_name  rootpage  \\\n",
       "0  table   movie_basics   movie_basics         2   \n",
       "1  table      directors      directors         3   \n",
       "2  table      known_for      known_for         4   \n",
       "3  table     movie_akas     movie_akas         5   \n",
       "4  table  movie_ratings  movie_ratings         6   \n",
       "5  table        persons        persons         7   \n",
       "6  table     principals     principals         8   \n",
       "7  table        writers        writers         9   \n",
       "\n",
       "                                                 sql  \n",
       "0  CREATE TABLE \"movie_basics\" (\\n\"movie_id\" TEXT...  \n",
       "1  CREATE TABLE \"directors\" (\\n\"movie_id\" TEXT,\\n...  \n",
       "2  CREATE TABLE \"known_for\" (\\n\"person_id\" TEXT,\\...  \n",
       "3  CREATE TABLE \"movie_akas\" (\\n\"movie_id\" TEXT,\\...  \n",
       "4  CREATE TABLE \"movie_ratings\" (\\n\"movie_id\" TEX...  \n",
       "5  CREATE TABLE \"persons\" (\\n\"person_id\" TEXT,\\n ...  \n",
       "6  CREATE TABLE \"principals\" (\\n\"movie_id\" TEXT,\\...  \n",
       "7  CREATE TABLE \"writers\" (\\n\"movie_id\" TEXT,\\n  ...  "
      ]
     },
     "execution_count": 8,
     "metadata": {},
     "output_type": "execute_result"
    }
   ],
   "source": [
    "import sqlite3\n",
    "\n",
    "con = sqlite3.connect('zippedData/im.db')\n",
    "query = \"\"\"  SELECT * FROM sqlite_master  \"\"\"\n",
    "tables = pd.read_sql(query, con)\n",
    "tables"
   ]
  },
  {
   "cell_type": "markdown",
   "metadata": {
    "hidden": true
   },
   "source": [
    "#### Viewing the tables of interest:"
   ]
  },
  {
   "cell_type": "markdown",
   "metadata": {
    "hidden": true
   },
   "source": [
    "Movie basics Table:"
   ]
  },
  {
   "cell_type": "code",
   "execution_count": 9,
   "metadata": {
    "hidden": true
   },
   "outputs": [
    {
     "data": {
      "text/html": [
       "<div>\n",
       "<style scoped>\n",
       "    .dataframe tbody tr th:only-of-type {\n",
       "        vertical-align: middle;\n",
       "    }\n",
       "\n",
       "    .dataframe tbody tr th {\n",
       "        vertical-align: top;\n",
       "    }\n",
       "\n",
       "    .dataframe thead th {\n",
       "        text-align: right;\n",
       "    }\n",
       "</style>\n",
       "<table border=\"1\" class=\"dataframe\">\n",
       "  <thead>\n",
       "    <tr style=\"text-align: right;\">\n",
       "      <th></th>\n",
       "      <th>movie_id</th>\n",
       "      <th>primary_title</th>\n",
       "      <th>original_title</th>\n",
       "      <th>start_year</th>\n",
       "      <th>runtime_minutes</th>\n",
       "      <th>genres</th>\n",
       "    </tr>\n",
       "  </thead>\n",
       "  <tbody>\n",
       "    <tr>\n",
       "      <th>0</th>\n",
       "      <td>tt0063540</td>\n",
       "      <td>Sunghursh</td>\n",
       "      <td>Sunghursh</td>\n",
       "      <td>2013</td>\n",
       "      <td>175.0</td>\n",
       "      <td>Action,Crime,Drama</td>\n",
       "    </tr>\n",
       "    <tr>\n",
       "      <th>1</th>\n",
       "      <td>tt0066787</td>\n",
       "      <td>One Day Before the Rainy Season</td>\n",
       "      <td>Ashad Ka Ek Din</td>\n",
       "      <td>2019</td>\n",
       "      <td>114.0</td>\n",
       "      <td>Biography,Drama</td>\n",
       "    </tr>\n",
       "    <tr>\n",
       "      <th>2</th>\n",
       "      <td>tt0069049</td>\n",
       "      <td>The Other Side of the Wind</td>\n",
       "      <td>The Other Side of the Wind</td>\n",
       "      <td>2018</td>\n",
       "      <td>122.0</td>\n",
       "      <td>Drama</td>\n",
       "    </tr>\n",
       "  </tbody>\n",
       "</table>\n",
       "</div>"
      ],
      "text/plain": [
       "    movie_id                    primary_title              original_title  \\\n",
       "0  tt0063540                        Sunghursh                   Sunghursh   \n",
       "1  tt0066787  One Day Before the Rainy Season             Ashad Ka Ek Din   \n",
       "2  tt0069049       The Other Side of the Wind  The Other Side of the Wind   \n",
       "\n",
       "   start_year  runtime_minutes              genres  \n",
       "0        2013            175.0  Action,Crime,Drama  \n",
       "1        2019            114.0     Biography,Drama  \n",
       "2        2018            122.0               Drama  "
      ]
     },
     "execution_count": 9,
     "metadata": {},
     "output_type": "execute_result"
    }
   ],
   "source": [
    "query = \"\"\"  SELECT * FROM movie_basics  \"\"\"\n",
    "movie_basics = pd.read_sql(query, con)\n",
    "movie_basics.head(3)"
   ]
  },
  {
   "cell_type": "markdown",
   "metadata": {
    "hidden": true
   },
   "source": [
    "Movie Ratings Table:"
   ]
  },
  {
   "cell_type": "code",
   "execution_count": 10,
   "metadata": {
    "hidden": true
   },
   "outputs": [
    {
     "data": {
      "text/html": [
       "<div>\n",
       "<style scoped>\n",
       "    .dataframe tbody tr th:only-of-type {\n",
       "        vertical-align: middle;\n",
       "    }\n",
       "\n",
       "    .dataframe tbody tr th {\n",
       "        vertical-align: top;\n",
       "    }\n",
       "\n",
       "    .dataframe thead th {\n",
       "        text-align: right;\n",
       "    }\n",
       "</style>\n",
       "<table border=\"1\" class=\"dataframe\">\n",
       "  <thead>\n",
       "    <tr style=\"text-align: right;\">\n",
       "      <th></th>\n",
       "      <th>movie_id</th>\n",
       "      <th>averagerating</th>\n",
       "      <th>numvotes</th>\n",
       "    </tr>\n",
       "  </thead>\n",
       "  <tbody>\n",
       "    <tr>\n",
       "      <th>0</th>\n",
       "      <td>tt10356526</td>\n",
       "      <td>8.3</td>\n",
       "      <td>31</td>\n",
       "    </tr>\n",
       "    <tr>\n",
       "      <th>1</th>\n",
       "      <td>tt10384606</td>\n",
       "      <td>8.9</td>\n",
       "      <td>559</td>\n",
       "    </tr>\n",
       "    <tr>\n",
       "      <th>2</th>\n",
       "      <td>tt1042974</td>\n",
       "      <td>6.4</td>\n",
       "      <td>20</td>\n",
       "    </tr>\n",
       "  </tbody>\n",
       "</table>\n",
       "</div>"
      ],
      "text/plain": [
       "     movie_id  averagerating  numvotes\n",
       "0  tt10356526            8.3        31\n",
       "1  tt10384606            8.9       559\n",
       "2   tt1042974            6.4        20"
      ]
     },
     "execution_count": 10,
     "metadata": {},
     "output_type": "execute_result"
    }
   ],
   "source": [
    "query = \"\"\"  SELECT * FROM movie_ratings  \"\"\"\n",
    "movie_ratings = pd.read_sql(query, con)\n",
    "movie_ratings.head(3)"
   ]
  },
  {
   "cell_type": "markdown",
   "metadata": {},
   "source": [
    "## Data Preparation\n",
    "\n",
    "Using three sources of data for this analysis required multiple strategies for cleaning our data. Below, we discuss our process and reasoning for each set.\n",
    "\n",
    "***\n",
    "Questions to consider:\n",
    "* Were there variables you dropped or created?\n",
    "* How did you address missing values or outliers?\n",
    "* Why are these choices appropriate given the data and the business problem?\n",
    "***"
   ]
  },
  {
   "cell_type": "markdown",
   "metadata": {
    "heading_collapsed": true
   },
   "source": [
    "### 1. The Movies Database\n",
    "#### 1.1 Removing Unnecessary Columns & Filtering Data\n",
    "**Columns to drop:**\n",
    "- `popularity`\n",
    "   - Popularity is based on current website popularity, not how well the movie performed when released or how it was reviewed\n",
    "        - https://developers.themoviedb.org/3/getting-started/popularity\n",
    "    \n",
    "- `id`\n",
    "    - Just a unique identifier, not relevant\n",
    "\n",
    "- `original_title`\n",
    "    - There are two columns for title, we will keep the final title column"
   ]
  },
  {
   "cell_type": "markdown",
   "metadata": {
    "hidden": true
   },
   "source": [
    "The `df_cleaning` variable is created to store the dataframe after dropping the columns."
   ]
  },
  {
   "cell_type": "code",
   "execution_count": 11,
   "metadata": {
    "hidden": true
   },
   "outputs": [],
   "source": [
    "df_cleaning = df_tmdb.drop(['popularity', 'id', 'original_title'], axis=1)"
   ]
  },
  {
   "cell_type": "markdown",
   "metadata": {
    "hidden": true
   },
   "source": [
    "**Columns to filter:**\n",
    "- `original_language`\n",
    "    - Microsoft would make the language in english as the company is based out of the USA\n",
    "    \n",
    "- `vote_Count`\n",
    "    - Microsoft is only interested in a successful movie\n",
    "    - It can be reasonably assumed that movies with fewer votes are less successful\n",
    "    - We are dropping any count values below the mean\n",
    "    \n",
    "- `release_date`\n",
    "    - Microsoft is interested in current data trends\n",
    "        - We will limit the data to the last 10 years of available data (2010-2019)"
   ]
  },
  {
   "cell_type": "markdown",
   "metadata": {
    "hidden": true
   },
   "source": [
    "The `df_filtered` variable is created to store the cleaned and filtered dataframe."
   ]
  },
  {
   "cell_type": "markdown",
   "metadata": {
    "hidden": true
   },
   "source": [
    "**Removing non-English language films.**"
   ]
  },
  {
   "cell_type": "code",
   "execution_count": 12,
   "metadata": {
    "hidden": true
   },
   "outputs": [],
   "source": [
    "df_filtered = df_cleaning[df_cleaning['original_language'] == 'en']\n",
    "df_filtered = df_filtered.drop('original_language', axis=1)"
   ]
  },
  {
   "cell_type": "markdown",
   "metadata": {
    "hidden": true
   },
   "source": [
    "**Drop Certain Movies**\n",
    "\n",
    "Dropping movies with a vote count below 200 votes.\n",
    "(We chose this value as it is roughly the average of the number of votes in the dataset)"
   ]
  },
  {
   "cell_type": "code",
   "execution_count": 13,
   "metadata": {
    "hidden": true
   },
   "outputs": [
    {
     "data": {
      "text/plain": [
       "count    23291.000000\n",
       "mean       209.307887\n",
       "std       1016.214512\n",
       "min          1.000000\n",
       "25%          1.000000\n",
       "50%          4.000000\n",
       "75%         24.000000\n",
       "max      22186.000000\n",
       "Name: vote_count, dtype: float64"
      ]
     },
     "execution_count": 13,
     "metadata": {},
     "output_type": "execute_result"
    }
   ],
   "source": [
    "df_filtered['vote_count'].describe()"
   ]
  },
  {
   "cell_type": "code",
   "execution_count": 14,
   "metadata": {
    "hidden": true
   },
   "outputs": [],
   "source": [
    "df_filtered = df_filtered[df_filtered['vote_count'] > 200]"
   ]
  },
  {
   "cell_type": "markdown",
   "metadata": {
    "hidden": true
   },
   "source": [
    "Limiting the number of movies to those released in 2010 and after."
   ]
  },
  {
   "cell_type": "code",
   "execution_count": 15,
   "metadata": {
    "hidden": true
   },
   "outputs": [],
   "source": [
    "df_filtered = df_filtered[df_filtered['release_date'] > pd.Timestamp(2010, 1, 1)]"
   ]
  },
  {
   "cell_type": "markdown",
   "metadata": {
    "hidden": true
   },
   "source": [
    "We are left with the table `df_filtered` that has 2318 rows and 5 columns of relevant information"
   ]
  },
  {
   "cell_type": "markdown",
   "metadata": {
    "hidden": true
   },
   "source": [
    "#### 1.2 Converting the Data"
   ]
  },
  {
   "cell_type": "markdown",
   "metadata": {
    "hidden": true
   },
   "source": [
    "**Making sense of the genre_ids**\n",
    "\n",
    "We can see that the genre ID's are in order of best fit rather than numerical or alphabetical order\n",
    "- For index 0: `genre_ids` = [12, 14, 10751]\n",
    "- For index 1: `genre_ids` = [14, 12, 16, 10751]\n",
    "\n",
    "We will take the primary `genre_ids` from the list to isolate the most relevant genre."
   ]
  },
  {
   "cell_type": "markdown",
   "metadata": {
    "hidden": true
   },
   "source": [
    "**Determining the data type for genre_ids**\n",
    "\n",
    "Checking the type of data for genre_ids below. Goal is to create new columns with primary and secondary genres."
   ]
  },
  {
   "cell_type": "code",
   "execution_count": 16,
   "metadata": {
    "hidden": true
   },
   "outputs": [
    {
     "name": "stdout",
     "output_type": "stream",
     "text": [
      "[12, 14, 10751]\n",
      "<class 'str'>\n"
     ]
    }
   ],
   "source": [
    "print(df_filtered['genre_ids'][0])\n",
    "print(type(df_filtered['genre_ids'][0]))"
   ]
  },
  {
   "cell_type": "markdown",
   "metadata": {
    "hidden": true
   },
   "source": [
    "**Created a for-loop that runs through each row of the column** `genre_ids`\n",
    "\n",
    "The data in `genre_ids` looks like a list, but is really a string including brackets. We are able to clean this with a for-loop.\n",
    "\n",
    "The for-loop:\n",
    " - First converts the string to a list of int.\n",
    " - Then it takes each int and assigns it to a new list corresponding to it's position in the original `genre_ids` list.\n",
    " - If there is no value for that iteration, it populates the list with `None`.\n",
    " - I include nonetype so that they stay on point with the correct index."
   ]
  },
  {
   "cell_type": "code",
   "execution_count": 17,
   "metadata": {
    "hidden": true
   },
   "outputs": [],
   "source": [
    "char_remove = [\"'\", \" \", \"[\", \"]\"]\n",
    "\n",
    "first_genre = []\n",
    "\n",
    "for x in df_filtered['genre_ids']:\n",
    "    row = x\n",
    "    for char in char_remove:\n",
    "        row = row.replace(char, '')\n",
    "    row = row.split(',')\n",
    "    first_genre.append(row[0])"
   ]
  },
  {
   "cell_type": "markdown",
   "metadata": {
    "hidden": true
   },
   "source": [
    "#### 1.3 Adding New Columns"
   ]
  },
  {
   "cell_type": "markdown",
   "metadata": {
    "hidden": true
   },
   "source": [
    "**Now that we have a list of primary genre's we can turn it into a column.**"
   ]
  },
  {
   "cell_type": "code",
   "execution_count": 18,
   "metadata": {
    "hidden": true
   },
   "outputs": [
    {
     "data": {
      "text/html": [
       "<div>\n",
       "<style scoped>\n",
       "    .dataframe tbody tr th:only-of-type {\n",
       "        vertical-align: middle;\n",
       "    }\n",
       "\n",
       "    .dataframe tbody tr th {\n",
       "        vertical-align: top;\n",
       "    }\n",
       "\n",
       "    .dataframe thead th {\n",
       "        text-align: right;\n",
       "    }\n",
       "</style>\n",
       "<table border=\"1\" class=\"dataframe\">\n",
       "  <thead>\n",
       "    <tr style=\"text-align: right;\">\n",
       "      <th></th>\n",
       "      <th>genre_ids</th>\n",
       "      <th>release_date</th>\n",
       "      <th>title</th>\n",
       "      <th>vote_average</th>\n",
       "      <th>vote_count</th>\n",
       "      <th>primary_genre</th>\n",
       "    </tr>\n",
       "  </thead>\n",
       "  <tbody>\n",
       "    <tr>\n",
       "      <th>0</th>\n",
       "      <td>[12, 14, 10751]</td>\n",
       "      <td>2010-11-19</td>\n",
       "      <td>Harry Potter and the Deathly Hallows: Part 1</td>\n",
       "      <td>7.7</td>\n",
       "      <td>10788</td>\n",
       "      <td>12</td>\n",
       "    </tr>\n",
       "    <tr>\n",
       "      <th>1</th>\n",
       "      <td>[14, 12, 16, 10751]</td>\n",
       "      <td>2010-03-26</td>\n",
       "      <td>How to Train Your Dragon</td>\n",
       "      <td>7.7</td>\n",
       "      <td>7610</td>\n",
       "      <td>14</td>\n",
       "    </tr>\n",
       "    <tr>\n",
       "      <th>2</th>\n",
       "      <td>[12, 28, 878]</td>\n",
       "      <td>2010-05-07</td>\n",
       "      <td>Iron Man 2</td>\n",
       "      <td>6.8</td>\n",
       "      <td>12368</td>\n",
       "      <td>12</td>\n",
       "    </tr>\n",
       "    <tr>\n",
       "      <th>4</th>\n",
       "      <td>[28, 878, 12]</td>\n",
       "      <td>2010-07-16</td>\n",
       "      <td>Inception</td>\n",
       "      <td>8.3</td>\n",
       "      <td>22186</td>\n",
       "      <td>28</td>\n",
       "    </tr>\n",
       "    <tr>\n",
       "      <th>5</th>\n",
       "      <td>[12, 14, 10751]</td>\n",
       "      <td>2010-02-11</td>\n",
       "      <td>Percy Jackson &amp; the Olympians: The Lightning T...</td>\n",
       "      <td>6.1</td>\n",
       "      <td>4229</td>\n",
       "      <td>12</td>\n",
       "    </tr>\n",
       "  </tbody>\n",
       "</table>\n",
       "</div>"
      ],
      "text/plain": [
       "             genre_ids release_date  \\\n",
       "0      [12, 14, 10751]   2010-11-19   \n",
       "1  [14, 12, 16, 10751]   2010-03-26   \n",
       "2        [12, 28, 878]   2010-05-07   \n",
       "4        [28, 878, 12]   2010-07-16   \n",
       "5      [12, 14, 10751]   2010-02-11   \n",
       "\n",
       "                                               title  vote_average  \\\n",
       "0       Harry Potter and the Deathly Hallows: Part 1           7.7   \n",
       "1                           How to Train Your Dragon           7.7   \n",
       "2                                         Iron Man 2           6.8   \n",
       "4                                          Inception           8.3   \n",
       "5  Percy Jackson & the Olympians: The Lightning T...           6.1   \n",
       "\n",
       "   vote_count primary_genre  \n",
       "0       10788            12  \n",
       "1        7610            14  \n",
       "2       12368            12  \n",
       "4       22186            28  \n",
       "5        4229            12  "
      ]
     },
     "execution_count": 18,
     "metadata": {},
     "output_type": "execute_result"
    }
   ],
   "source": [
    "df_filtered['primary_genre'] = first_genre\n",
    "df_filtered.head()"
   ]
  },
  {
   "cell_type": "markdown",
   "metadata": {
    "hidden": true
   },
   "source": [
    "**Converting the genre_ids codes to something more understandable**\n",
    "\n",
    "We found the below movie genre key on The MovieDB website. The key allows us to convert the `genre_ids` coding into standard English.\n",
    "\n",
    "(found at: https://www.themoviedb.org/talk/5daf6eb0ae36680011d7e6ee)"
   ]
  },
  {
   "cell_type": "code",
   "execution_count": 19,
   "metadata": {
    "hidden": true
   },
   "outputs": [],
   "source": [
    "backwards_key = {\n",
    "'Action' : '28',\n",
    "'Adventure' : '12',\n",
    "'Animation' : '16',\n",
    "'Comedy' : '35',\n",
    "'Crime' : '80',\n",
    "'Documentary' : '99',\n",
    "'Drama' : '18',\n",
    "'Family' : '10751',\n",
    "'Fantasy' : '14',\n",
    "'History' : '36',\n",
    "'Horror' : '27',\n",
    "'Music' : '10402',\n",
    "'Mystery' : '9648',\n",
    "'Romance' : '10749',\n",
    "'Science Fiction' : '878',\n",
    "'TV Movie' : '10770',\n",
    "'Thriller' : '53',\n",
    "'War' : '10752',\n",
    "'Western' : '37'\n",
    "}\n",
    "\n",
    "genre_key = {v: k for k, v in backwards_key.items()}\n",
    "# print(genre_key)"
   ]
  },
  {
   "cell_type": "markdown",
   "metadata": {
    "hidden": true
   },
   "source": [
    "**Now to put the key to work and change the `primary_genre` column from numbers to English.**"
   ]
  },
  {
   "cell_type": "code",
   "execution_count": 20,
   "metadata": {
    "hidden": true,
    "scrolled": true
   },
   "outputs": [
    {
     "data": {
      "text/html": [
       "<div>\n",
       "<style scoped>\n",
       "    .dataframe tbody tr th:only-of-type {\n",
       "        vertical-align: middle;\n",
       "    }\n",
       "\n",
       "    .dataframe tbody tr th {\n",
       "        vertical-align: top;\n",
       "    }\n",
       "\n",
       "    .dataframe thead th {\n",
       "        text-align: right;\n",
       "    }\n",
       "</style>\n",
       "<table border=\"1\" class=\"dataframe\">\n",
       "  <thead>\n",
       "    <tr style=\"text-align: right;\">\n",
       "      <th></th>\n",
       "      <th>genre_ids</th>\n",
       "      <th>release_date</th>\n",
       "      <th>title</th>\n",
       "      <th>vote_average</th>\n",
       "      <th>vote_count</th>\n",
       "      <th>primary_genre</th>\n",
       "    </tr>\n",
       "  </thead>\n",
       "  <tbody>\n",
       "    <tr>\n",
       "      <th>0</th>\n",
       "      <td>[12, 14, 10751]</td>\n",
       "      <td>2010-11-19</td>\n",
       "      <td>Harry Potter and the Deathly Hallows: Part 1</td>\n",
       "      <td>7.7</td>\n",
       "      <td>10788</td>\n",
       "      <td>Adventure</td>\n",
       "    </tr>\n",
       "    <tr>\n",
       "      <th>1</th>\n",
       "      <td>[14, 12, 16, 10751]</td>\n",
       "      <td>2010-03-26</td>\n",
       "      <td>How to Train Your Dragon</td>\n",
       "      <td>7.7</td>\n",
       "      <td>7610</td>\n",
       "      <td>Fantasy</td>\n",
       "    </tr>\n",
       "    <tr>\n",
       "      <th>2</th>\n",
       "      <td>[12, 28, 878]</td>\n",
       "      <td>2010-05-07</td>\n",
       "      <td>Iron Man 2</td>\n",
       "      <td>6.8</td>\n",
       "      <td>12368</td>\n",
       "      <td>Adventure</td>\n",
       "    </tr>\n",
       "    <tr>\n",
       "      <th>4</th>\n",
       "      <td>[28, 878, 12]</td>\n",
       "      <td>2010-07-16</td>\n",
       "      <td>Inception</td>\n",
       "      <td>8.3</td>\n",
       "      <td>22186</td>\n",
       "      <td>Action</td>\n",
       "    </tr>\n",
       "    <tr>\n",
       "      <th>5</th>\n",
       "      <td>[12, 14, 10751]</td>\n",
       "      <td>2010-02-11</td>\n",
       "      <td>Percy Jackson &amp; the Olympians: The Lightning T...</td>\n",
       "      <td>6.1</td>\n",
       "      <td>4229</td>\n",
       "      <td>Adventure</td>\n",
       "    </tr>\n",
       "  </tbody>\n",
       "</table>\n",
       "</div>"
      ],
      "text/plain": [
       "             genre_ids release_date  \\\n",
       "0      [12, 14, 10751]   2010-11-19   \n",
       "1  [14, 12, 16, 10751]   2010-03-26   \n",
       "2        [12, 28, 878]   2010-05-07   \n",
       "4        [28, 878, 12]   2010-07-16   \n",
       "5      [12, 14, 10751]   2010-02-11   \n",
       "\n",
       "                                               title  vote_average  \\\n",
       "0       Harry Potter and the Deathly Hallows: Part 1           7.7   \n",
       "1                           How to Train Your Dragon           7.7   \n",
       "2                                         Iron Man 2           6.8   \n",
       "4                                          Inception           8.3   \n",
       "5  Percy Jackson & the Olympians: The Lightning T...           6.1   \n",
       "\n",
       "   vote_count primary_genre  \n",
       "0       10788     Adventure  \n",
       "1        7610       Fantasy  \n",
       "2       12368     Adventure  \n",
       "4       22186        Action  \n",
       "5        4229     Adventure  "
      ]
     },
     "execution_count": 20,
     "metadata": {},
     "output_type": "execute_result"
    }
   ],
   "source": [
    "df_filtered[\"primary_genre\"].replace(genre_key, inplace=True)\n",
    "df_filtered.head()"
   ]
  },
  {
   "cell_type": "markdown",
   "metadata": {
    "hidden": true
   },
   "source": [
    "**For the last step before analysis, we'll change the type of `primary_genre` to categorical information.**"
   ]
  },
  {
   "cell_type": "code",
   "execution_count": 21,
   "metadata": {
    "hidden": true
   },
   "outputs": [],
   "source": [
    "df_filtered['primary_genre'] = df_filtered['primary_genre'].astype('category')"
   ]
  },
  {
   "cell_type": "markdown",
   "metadata": {},
   "source": [
    "### 2. The Numbers Database"
   ]
  },
  {
   "cell_type": "markdown",
   "metadata": {},
   "source": [
    "#### 2.1 Removing Unnecessary Columns & Filtering Data\n",
    "\n",
    "**Columns to drop:**\n",
    "- `id`\n",
    "    - Just a unique identifier, not relevant\n",
    "- `domestic gross`\n",
    "    - Since we're interested in appealing to an international market, worldwide gross is more relevant than domestic gross."
   ]
  },
  {
   "cell_type": "code",
   "execution_count": 22,
   "metadata": {},
   "outputs": [],
   "source": [
    "tn_df = tn_df.drop(['id', 'domestic_gross'], axis=1)"
   ]
  },
  {
   "cell_type": "markdown",
   "metadata": {},
   "source": [
    "**Columns to filter:**\n",
    "- `worldwide_gross`\n",
    "    - As a large company looking for a box office hit, we want only movies that have a worldwide gross value\n",
    "    - If the zero values indicate missing value, only 6.3% of the data is being dropped, within the 10% rule of thumb\n",
    "- `release_date`\n",
    "    - In line with The Movie Database, only current data (from 2010-2019) was included in this analysis."
   ]
  },
  {
   "cell_type": "markdown",
   "metadata": {},
   "source": [
    "#### Convert Strings of numbers in each column to Int type\n",
    "First define a function and then clean each column"
   ]
  },
  {
   "cell_type": "code",
<<<<<<< HEAD
   "execution_count": 48,
=======
   "execution_count": 23,
>>>>>>> upstream/main
   "metadata": {},
   "outputs": [],
   "source": [
    "def clean_nums(column_title):\n",
    "    '''\n",
    "    Input a column title as a string to remove commas and dollar signs. Return the column as type int.\n",
    "    '''\n",
    "    if isinstance(tn_df[column_title][1], (int , np.integer)):\n",
    "        return \"Column values are already integers.\"\n",
    "    else:\n",
    "        tn_df[column_title].replace(',','', regex=True, inplace=True)\n",
    "        tn_df[column_title] = tn_df[column_title].map(lambda x: int(x.replace('$','')))\n",
    "        return tn_df"
   ]
  },
  {
   "cell_type": "code",
<<<<<<< HEAD
   "execution_count": 51,
=======
   "execution_count": 24,
>>>>>>> upstream/main
   "metadata": {},
   "outputs": [
    {
     "data": {
<<<<<<< HEAD
      "text/plain": [
       "'Column values are already integers.'"
      ]
     },
     "execution_count": 51,
=======
      "text/html": [
       "<div>\n",
       "<style scoped>\n",
       "    .dataframe tbody tr th:only-of-type {\n",
       "        vertical-align: middle;\n",
       "    }\n",
       "\n",
       "    .dataframe tbody tr th {\n",
       "        vertical-align: top;\n",
       "    }\n",
       "\n",
       "    .dataframe thead th {\n",
       "        text-align: right;\n",
       "    }\n",
       "</style>\n",
       "<table border=\"1\" class=\"dataframe\">\n",
       "  <thead>\n",
       "    <tr style=\"text-align: right;\">\n",
       "      <th></th>\n",
       "      <th>release_date</th>\n",
       "      <th>movie</th>\n",
       "      <th>production_budget</th>\n",
       "      <th>worldwide_gross</th>\n",
       "    </tr>\n",
       "  </thead>\n",
       "  <tbody>\n",
       "    <tr>\n",
       "      <th>0</th>\n",
       "      <td>2009-12-18</td>\n",
       "      <td>Avatar</td>\n",
       "      <td>425000000</td>\n",
       "      <td>2776345279</td>\n",
       "    </tr>\n",
       "    <tr>\n",
       "      <th>1</th>\n",
       "      <td>2011-05-20</td>\n",
       "      <td>Pirates of the Caribbean: On Stranger Tides</td>\n",
       "      <td>410600000</td>\n",
       "      <td>1045663875</td>\n",
       "    </tr>\n",
       "    <tr>\n",
       "      <th>2</th>\n",
       "      <td>2019-06-07</td>\n",
       "      <td>Dark Phoenix</td>\n",
       "      <td>350000000</td>\n",
       "      <td>149762350</td>\n",
       "    </tr>\n",
       "    <tr>\n",
       "      <th>3</th>\n",
       "      <td>2015-05-01</td>\n",
       "      <td>Avengers: Age of Ultron</td>\n",
       "      <td>330600000</td>\n",
       "      <td>1403013963</td>\n",
       "    </tr>\n",
       "    <tr>\n",
       "      <th>4</th>\n",
       "      <td>2017-12-15</td>\n",
       "      <td>Star Wars Ep. VIII: The Last Jedi</td>\n",
       "      <td>317000000</td>\n",
       "      <td>1316721747</td>\n",
       "    </tr>\n",
       "    <tr>\n",
       "      <th>...</th>\n",
       "      <td>...</td>\n",
       "      <td>...</td>\n",
       "      <td>...</td>\n",
       "      <td>...</td>\n",
       "    </tr>\n",
       "    <tr>\n",
       "      <th>5777</th>\n",
       "      <td>2018-12-31</td>\n",
       "      <td>Red 11</td>\n",
       "      <td>7000</td>\n",
       "      <td>0</td>\n",
       "    </tr>\n",
       "    <tr>\n",
       "      <th>5778</th>\n",
       "      <td>1999-04-02</td>\n",
       "      <td>Following</td>\n",
       "      <td>6000</td>\n",
       "      <td>240495</td>\n",
       "    </tr>\n",
       "    <tr>\n",
       "      <th>5779</th>\n",
       "      <td>2005-07-13</td>\n",
       "      <td>Return to the Land of Wonders</td>\n",
       "      <td>5000</td>\n",
       "      <td>1338</td>\n",
       "    </tr>\n",
       "    <tr>\n",
       "      <th>5780</th>\n",
       "      <td>2015-09-29</td>\n",
       "      <td>A Plague So Pleasant</td>\n",
       "      <td>1400</td>\n",
       "      <td>0</td>\n",
       "    </tr>\n",
       "    <tr>\n",
       "      <th>5781</th>\n",
       "      <td>2005-08-05</td>\n",
       "      <td>My Date With Drew</td>\n",
       "      <td>1100</td>\n",
       "      <td>181041</td>\n",
       "    </tr>\n",
       "  </tbody>\n",
       "</table>\n",
       "<p>5782 rows × 4 columns</p>\n",
       "</div>"
      ],
      "text/plain": [
       "     release_date                                        movie  \\\n",
       "0      2009-12-18                                       Avatar   \n",
       "1      2011-05-20  Pirates of the Caribbean: On Stranger Tides   \n",
       "2      2019-06-07                                 Dark Phoenix   \n",
       "3      2015-05-01                      Avengers: Age of Ultron   \n",
       "4      2017-12-15            Star Wars Ep. VIII: The Last Jedi   \n",
       "...           ...                                          ...   \n",
       "5777   2018-12-31                                       Red 11   \n",
       "5778   1999-04-02                                    Following   \n",
       "5779   2005-07-13                Return to the Land of Wonders   \n",
       "5780   2015-09-29                         A Plague So Pleasant   \n",
       "5781   2005-08-05                            My Date With Drew   \n",
       "\n",
       "      production_budget  worldwide_gross  \n",
       "0             425000000       2776345279  \n",
       "1             410600000       1045663875  \n",
       "2             350000000        149762350  \n",
       "3             330600000       1403013963  \n",
       "4             317000000       1316721747  \n",
       "...                 ...              ...  \n",
       "5777               7000                0  \n",
       "5778               6000           240495  \n",
       "5779               5000             1338  \n",
       "5780               1400                0  \n",
       "5781               1100           181041  \n",
       "\n",
       "[5782 rows x 4 columns]"
      ]
     },
     "execution_count": 24,
>>>>>>> upstream/main
     "metadata": {},
     "output_type": "execute_result"
    }
   ],
   "source": [
    "clean_nums('production_budget')\n",
<<<<<<< HEAD
=======
    "# clean_nums('domestic_gross')\n",
>>>>>>> upstream/main
    "clean_nums('worldwide_gross')"
   ]
  },
  {
   "cell_type": "markdown",
   "metadata": {},
   "source": [
    "**Dropping movies with zero values for Worldwide Gross**"
   ]
  },
  {
   "cell_type": "code",
<<<<<<< HEAD
   "execution_count": 52,
   "metadata": {},
   "outputs": [
    {
     "data": {
      "text/html": [
       "<div>\n",
       "<style scoped>\n",
       "    .dataframe tbody tr th:only-of-type {\n",
       "        vertical-align: middle;\n",
       "    }\n",
       "\n",
       "    .dataframe tbody tr th {\n",
       "        vertical-align: top;\n",
       "    }\n",
       "\n",
       "    .dataframe thead th {\n",
       "        text-align: right;\n",
       "    }\n",
       "</style>\n",
       "<table border=\"1\" class=\"dataframe\">\n",
       "  <thead>\n",
       "    <tr style=\"text-align: right;\">\n",
       "      <th></th>\n",
       "      <th>release_date</th>\n",
       "      <th>movie</th>\n",
       "      <th>production_budget</th>\n",
       "      <th>worldwide_gross</th>\n",
       "      <th>net_profit</th>\n",
       "      <th>budget_mils</th>\n",
       "      <th>profit_mils</th>\n",
       "      <th>roi</th>\n",
       "      <th>budget_groups</th>\n",
       "    </tr>\n",
       "  </thead>\n",
       "  <tbody>\n",
       "    <tr>\n",
       "      <th>1</th>\n",
       "      <td>2011-05-20</td>\n",
       "      <td>Pirates of the Caribbean: On Stranger Tides</td>\n",
       "      <td>410600000</td>\n",
       "      <td>1045663875</td>\n",
       "      <td>635063875</td>\n",
       "      <td>410.6</td>\n",
       "      <td>635.063875</td>\n",
       "      <td>154.667286</td>\n",
       "      <td>High</td>\n",
       "    </tr>\n",
       "    <tr>\n",
       "      <th>2</th>\n",
       "      <td>2019-06-07</td>\n",
       "      <td>Dark Phoenix</td>\n",
       "      <td>350000000</td>\n",
       "      <td>149762350</td>\n",
       "      <td>-200237650</td>\n",
       "      <td>350.0</td>\n",
       "      <td>-200.237650</td>\n",
       "      <td>-57.210757</td>\n",
       "      <td>High</td>\n",
       "    </tr>\n",
       "    <tr>\n",
       "      <th>3</th>\n",
       "      <td>2015-05-01</td>\n",
       "      <td>Avengers: Age of Ultron</td>\n",
       "      <td>330600000</td>\n",
       "      <td>1403013963</td>\n",
       "      <td>1072413963</td>\n",
       "      <td>330.6</td>\n",
       "      <td>1072.413963</td>\n",
       "      <td>324.384139</td>\n",
       "      <td>High</td>\n",
       "    </tr>\n",
       "    <tr>\n",
       "      <th>4</th>\n",
       "      <td>2017-12-15</td>\n",
       "      <td>Star Wars Ep. VIII: The Last Jedi</td>\n",
       "      <td>317000000</td>\n",
       "      <td>1316721747</td>\n",
       "      <td>999721747</td>\n",
       "      <td>317.0</td>\n",
       "      <td>999.721747</td>\n",
       "      <td>315.369636</td>\n",
       "      <td>High</td>\n",
       "    </tr>\n",
       "    <tr>\n",
       "      <th>5</th>\n",
       "      <td>2015-12-18</td>\n",
       "      <td>Star Wars Ep. VII: The Force Awakens</td>\n",
       "      <td>306000000</td>\n",
       "      <td>2053311220</td>\n",
       "      <td>1747311220</td>\n",
       "      <td>306.0</td>\n",
       "      <td>1747.311220</td>\n",
       "      <td>571.016739</td>\n",
       "      <td>High</td>\n",
       "    </tr>\n",
       "  </tbody>\n",
       "</table>\n",
       "</div>"
      ],
      "text/plain": [
       "  release_date                                        movie  \\\n",
       "1   2011-05-20  Pirates of the Caribbean: On Stranger Tides   \n",
       "2   2019-06-07                                 Dark Phoenix   \n",
       "3   2015-05-01                      Avengers: Age of Ultron   \n",
       "4   2017-12-15            Star Wars Ep. VIII: The Last Jedi   \n",
       "5   2015-12-18         Star Wars Ep. VII: The Force Awakens   \n",
       "\n",
       "   production_budget  worldwide_gross  net_profit  budget_mils  profit_mils  \\\n",
       "1          410600000       1045663875   635063875        410.6   635.063875   \n",
       "2          350000000        149762350  -200237650        350.0  -200.237650   \n",
       "3          330600000       1403013963  1072413963        330.6  1072.413963   \n",
       "4          317000000       1316721747   999721747        317.0   999.721747   \n",
       "5          306000000       2053311220  1747311220        306.0  1747.311220   \n",
       "\n",
       "          roi budget_groups  \n",
       "1  154.667286          High  \n",
       "2  -57.210757          High  \n",
       "3  324.384139          High  \n",
       "4  315.369636          High  \n",
       "5  571.016739          High  "
      ]
     },
     "execution_count": 52,
     "metadata": {},
     "output_type": "execute_result"
    }
   ],
   "source": [
    "tn_df = tn_df[tn_df['worldwide_gross'] != 0]\n",
    "tn_df.head()"
   ]
  },
  {
   "cell_type": "markdown",
   "metadata": {},
   "source": [
    "**Filtering dataset to only include movies released between 2010-2019**"
   ]
  },
  {
   "cell_type": "code",
   "execution_count": 53,
   "metadata": {},
   "outputs": [],
   "source": [
    "tn_df = tn_df[tn_df['release_date'] > pd.Timestamp(2010, 1, 1)]"
   ]
  },
  {
   "cell_type": "markdown",
   "metadata": {},
   "source": [
    "This leaves us with 1922 rows and 4 columns of usable data"
   ]
  },
  {
   "cell_type": "markdown",
   "metadata": {},
   "source": [
    "#### 2.2 Adding New Columns"
   ]
  },
  {
   "cell_type": "markdown",
   "metadata": {},
   "source": [
    "#### Calculate Net Profit as a new variable in dataset\n",
    "Net profit = worldwide gross - production budget"
   ]
  },
  {
   "cell_type": "code",
   "execution_count": 54,
   "metadata": {},
   "outputs": [
    {
     "data": {
      "text/html": [
       "<div>\n",
       "<style scoped>\n",
       "    .dataframe tbody tr th:only-of-type {\n",
       "        vertical-align: middle;\n",
       "    }\n",
       "\n",
       "    .dataframe tbody tr th {\n",
       "        vertical-align: top;\n",
       "    }\n",
       "\n",
       "    .dataframe thead th {\n",
       "        text-align: right;\n",
       "    }\n",
       "</style>\n",
       "<table border=\"1\" class=\"dataframe\">\n",
       "  <thead>\n",
       "    <tr style=\"text-align: right;\">\n",
       "      <th></th>\n",
       "      <th>release_date</th>\n",
       "      <th>movie</th>\n",
       "      <th>production_budget</th>\n",
       "      <th>worldwide_gross</th>\n",
       "      <th>net_profit</th>\n",
       "      <th>budget_mils</th>\n",
       "      <th>profit_mils</th>\n",
       "      <th>roi</th>\n",
       "      <th>budget_groups</th>\n",
       "    </tr>\n",
       "  </thead>\n",
       "  <tbody>\n",
       "    <tr>\n",
       "      <th>1</th>\n",
       "      <td>2011-05-20</td>\n",
       "      <td>Pirates of the Caribbean: On Stranger Tides</td>\n",
       "      <td>410600000</td>\n",
       "      <td>1045663875</td>\n",
       "      <td>635063875</td>\n",
       "      <td>410.6</td>\n",
       "      <td>635.063875</td>\n",
       "      <td>154.667286</td>\n",
       "      <td>High</td>\n",
       "    </tr>\n",
       "    <tr>\n",
       "      <th>2</th>\n",
       "      <td>2019-06-07</td>\n",
       "      <td>Dark Phoenix</td>\n",
       "      <td>350000000</td>\n",
       "      <td>149762350</td>\n",
       "      <td>-200237650</td>\n",
       "      <td>350.0</td>\n",
       "      <td>-200.237650</td>\n",
       "      <td>-57.210757</td>\n",
       "      <td>High</td>\n",
       "    </tr>\n",
       "    <tr>\n",
       "      <th>3</th>\n",
       "      <td>2015-05-01</td>\n",
       "      <td>Avengers: Age of Ultron</td>\n",
       "      <td>330600000</td>\n",
       "      <td>1403013963</td>\n",
       "      <td>1072413963</td>\n",
       "      <td>330.6</td>\n",
       "      <td>1072.413963</td>\n",
       "      <td>324.384139</td>\n",
       "      <td>High</td>\n",
       "    </tr>\n",
       "    <tr>\n",
       "      <th>4</th>\n",
       "      <td>2017-12-15</td>\n",
       "      <td>Star Wars Ep. VIII: The Last Jedi</td>\n",
       "      <td>317000000</td>\n",
       "      <td>1316721747</td>\n",
       "      <td>999721747</td>\n",
       "      <td>317.0</td>\n",
       "      <td>999.721747</td>\n",
       "      <td>315.369636</td>\n",
       "      <td>High</td>\n",
       "    </tr>\n",
       "    <tr>\n",
       "      <th>5</th>\n",
       "      <td>2015-12-18</td>\n",
       "      <td>Star Wars Ep. VII: The Force Awakens</td>\n",
       "      <td>306000000</td>\n",
       "      <td>2053311220</td>\n",
       "      <td>1747311220</td>\n",
       "      <td>306.0</td>\n",
       "      <td>1747.311220</td>\n",
       "      <td>571.016739</td>\n",
       "      <td>High</td>\n",
       "    </tr>\n",
       "  </tbody>\n",
       "</table>\n",
       "</div>"
      ],
      "text/plain": [
       "  release_date                                        movie  \\\n",
       "1   2011-05-20  Pirates of the Caribbean: On Stranger Tides   \n",
       "2   2019-06-07                                 Dark Phoenix   \n",
       "3   2015-05-01                      Avengers: Age of Ultron   \n",
       "4   2017-12-15            Star Wars Ep. VIII: The Last Jedi   \n",
       "5   2015-12-18         Star Wars Ep. VII: The Force Awakens   \n",
       "\n",
       "   production_budget  worldwide_gross  net_profit  budget_mils  profit_mils  \\\n",
       "1          410600000       1045663875   635063875        410.6   635.063875   \n",
       "2          350000000        149762350  -200237650        350.0  -200.237650   \n",
       "3          330600000       1403013963  1072413963        330.6  1072.413963   \n",
       "4          317000000       1316721747   999721747        317.0   999.721747   \n",
       "5          306000000       2053311220  1747311220        306.0  1747.311220   \n",
       "\n",
       "          roi budget_groups  \n",
       "1  154.667286          High  \n",
       "2  -57.210757          High  \n",
       "3  324.384139          High  \n",
       "4  315.369636          High  \n",
       "5  571.016739          High  "
      ]
     },
     "execution_count": 54,
     "metadata": {},
     "output_type": "execute_result"
    }
   ],
   "source": [
    "tn_df = tn_df.assign(net_profit = tn_df['worldwide_gross'] - tn_df['production_budget'])\n",
    "tn_df.head()"
   ]
  },
  {
   "cell_type": "markdown",
   "metadata": {},
   "source": [
    "##### Convert numerical columns to be in millions for graph readability"
   ]
  },
  {
   "cell_type": "code",
   "execution_count": 55,
   "metadata": {},
   "outputs": [],
   "source": [
    "tn_df['budget_mils'] = tn_df['production_budget'] / 1000000\n",
    "tn_df['profit_mils'] = tn_df['net_profit']/1000000"
   ]
  },
  {
   "cell_type": "markdown",
   "metadata": {},
   "source": [
    "##### Create Return on Investment (ROI) as a new variable."
   ]
  },
  {
   "cell_type": "markdown",
   "metadata": {},
   "source": [
    "- ROI (return on investment) evaluates the profitability of an investment relative to its cost.\n",
    "\n",
    "- ROI = (profit - cost)/cost * 100%"
   ]
  },
  {
   "cell_type": "code",
   "execution_count": 56,
   "metadata": {},
   "outputs": [
    {
     "data": {
      "text/html": [
       "<div>\n",
       "<style scoped>\n",
       "    .dataframe tbody tr th:only-of-type {\n",
       "        vertical-align: middle;\n",
       "    }\n",
       "\n",
       "    .dataframe tbody tr th {\n",
       "        vertical-align: top;\n",
       "    }\n",
       "\n",
       "    .dataframe thead th {\n",
       "        text-align: right;\n",
       "    }\n",
       "</style>\n",
       "<table border=\"1\" class=\"dataframe\">\n",
       "  <thead>\n",
       "    <tr style=\"text-align: right;\">\n",
       "      <th></th>\n",
       "      <th>release_date</th>\n",
       "      <th>movie</th>\n",
       "      <th>production_budget</th>\n",
       "      <th>worldwide_gross</th>\n",
       "      <th>net_profit</th>\n",
       "      <th>budget_mils</th>\n",
       "      <th>profit_mils</th>\n",
       "      <th>roi</th>\n",
       "      <th>budget_groups</th>\n",
       "    </tr>\n",
       "  </thead>\n",
       "  <tbody>\n",
       "    <tr>\n",
       "      <th>1</th>\n",
       "      <td>2011-05-20</td>\n",
       "      <td>Pirates of the Caribbean: On Stranger Tides</td>\n",
       "      <td>410600000</td>\n",
       "      <td>1045663875</td>\n",
       "      <td>635063875</td>\n",
       "      <td>410.600</td>\n",
       "      <td>635.063875</td>\n",
       "      <td>154.667286</td>\n",
       "      <td>High</td>\n",
       "    </tr>\n",
       "    <tr>\n",
       "      <th>2</th>\n",
       "      <td>2019-06-07</td>\n",
       "      <td>Dark Phoenix</td>\n",
       "      <td>350000000</td>\n",
       "      <td>149762350</td>\n",
       "      <td>-200237650</td>\n",
       "      <td>350.000</td>\n",
       "      <td>-200.237650</td>\n",
       "      <td>-57.210757</td>\n",
       "      <td>High</td>\n",
       "    </tr>\n",
       "    <tr>\n",
       "      <th>3</th>\n",
       "      <td>2015-05-01</td>\n",
       "      <td>Avengers: Age of Ultron</td>\n",
       "      <td>330600000</td>\n",
       "      <td>1403013963</td>\n",
       "      <td>1072413963</td>\n",
       "      <td>330.600</td>\n",
       "      <td>1072.413963</td>\n",
       "      <td>324.384139</td>\n",
       "      <td>High</td>\n",
       "    </tr>\n",
       "    <tr>\n",
       "      <th>4</th>\n",
       "      <td>2017-12-15</td>\n",
       "      <td>Star Wars Ep. VIII: The Last Jedi</td>\n",
       "      <td>317000000</td>\n",
       "      <td>1316721747</td>\n",
       "      <td>999721747</td>\n",
       "      <td>317.000</td>\n",
       "      <td>999.721747</td>\n",
       "      <td>315.369636</td>\n",
       "      <td>High</td>\n",
       "    </tr>\n",
       "    <tr>\n",
       "      <th>5</th>\n",
       "      <td>2015-12-18</td>\n",
       "      <td>Star Wars Ep. VII: The Force Awakens</td>\n",
       "      <td>306000000</td>\n",
       "      <td>2053311220</td>\n",
       "      <td>1747311220</td>\n",
       "      <td>306.000</td>\n",
       "      <td>1747.311220</td>\n",
       "      <td>571.016739</td>\n",
       "      <td>High</td>\n",
       "    </tr>\n",
       "    <tr>\n",
       "      <th>...</th>\n",
       "      <td>...</td>\n",
       "      <td>...</td>\n",
       "      <td>...</td>\n",
       "      <td>...</td>\n",
       "      <td>...</td>\n",
       "      <td>...</td>\n",
       "      <td>...</td>\n",
       "      <td>...</td>\n",
       "      <td>...</td>\n",
       "    </tr>\n",
       "    <tr>\n",
       "      <th>5740</th>\n",
       "      <td>2010-10-15</td>\n",
       "      <td>Down Terrace</td>\n",
       "      <td>30000</td>\n",
       "      <td>9812</td>\n",
       "      <td>-20188</td>\n",
       "      <td>0.030</td>\n",
       "      <td>-0.020188</td>\n",
       "      <td>-67.293333</td>\n",
       "      <td>Low</td>\n",
       "    </tr>\n",
       "    <tr>\n",
       "      <th>5744</th>\n",
       "      <td>2017-01-27</td>\n",
       "      <td>Emily</td>\n",
       "      <td>27000</td>\n",
       "      <td>3547</td>\n",
       "      <td>-23453</td>\n",
       "      <td>0.027</td>\n",
       "      <td>-0.023453</td>\n",
       "      <td>-86.862963</td>\n",
       "      <td>Low</td>\n",
       "    </tr>\n",
       "    <tr>\n",
       "      <th>5748</th>\n",
       "      <td>2015-09-01</td>\n",
       "      <td>Exeter</td>\n",
       "      <td>25000</td>\n",
       "      <td>489792</td>\n",
       "      <td>464792</td>\n",
       "      <td>0.025</td>\n",
       "      <td>0.464792</td>\n",
       "      <td>1859.168000</td>\n",
       "      <td>Low</td>\n",
       "    </tr>\n",
       "    <tr>\n",
       "      <th>5760</th>\n",
       "      <td>2010-04-02</td>\n",
       "      <td>Breaking Upwards</td>\n",
       "      <td>15000</td>\n",
       "      <td>115592</td>\n",
       "      <td>100592</td>\n",
       "      <td>0.015</td>\n",
       "      <td>0.100592</td>\n",
       "      <td>670.613333</td>\n",
       "      <td>Low</td>\n",
       "    </tr>\n",
       "    <tr>\n",
       "      <th>5772</th>\n",
       "      <td>2012-01-13</td>\n",
       "      <td>Newlyweds</td>\n",
       "      <td>9000</td>\n",
       "      <td>4584</td>\n",
       "      <td>-4416</td>\n",
       "      <td>0.009</td>\n",
       "      <td>-0.004416</td>\n",
       "      <td>-49.066667</td>\n",
       "      <td>Low</td>\n",
       "    </tr>\n",
       "  </tbody>\n",
       "</table>\n",
       "<p>1922 rows × 9 columns</p>\n",
       "</div>"
      ],
      "text/plain": [
       "     release_date                                        movie  \\\n",
       "1      2011-05-20  Pirates of the Caribbean: On Stranger Tides   \n",
       "2      2019-06-07                                 Dark Phoenix   \n",
       "3      2015-05-01                      Avengers: Age of Ultron   \n",
       "4      2017-12-15            Star Wars Ep. VIII: The Last Jedi   \n",
       "5      2015-12-18         Star Wars Ep. VII: The Force Awakens   \n",
       "...           ...                                          ...   \n",
       "5740   2010-10-15                                 Down Terrace   \n",
       "5744   2017-01-27                                        Emily   \n",
       "5748   2015-09-01                                       Exeter   \n",
       "5760   2010-04-02                             Breaking Upwards   \n",
       "5772   2012-01-13                                    Newlyweds   \n",
       "\n",
       "      production_budget  worldwide_gross  net_profit  budget_mils  \\\n",
       "1             410600000       1045663875   635063875      410.600   \n",
       "2             350000000        149762350  -200237650      350.000   \n",
       "3             330600000       1403013963  1072413963      330.600   \n",
       "4             317000000       1316721747   999721747      317.000   \n",
       "5             306000000       2053311220  1747311220      306.000   \n",
       "...                 ...              ...         ...          ...   \n",
       "5740              30000             9812      -20188        0.030   \n",
       "5744              27000             3547      -23453        0.027   \n",
       "5748              25000           489792      464792        0.025   \n",
       "5760              15000           115592      100592        0.015   \n",
       "5772               9000             4584       -4416        0.009   \n",
       "\n",
       "      profit_mils          roi budget_groups  \n",
       "1      635.063875   154.667286          High  \n",
       "2     -200.237650   -57.210757          High  \n",
       "3     1072.413963   324.384139          High  \n",
       "4      999.721747   315.369636          High  \n",
       "5     1747.311220   571.016739          High  \n",
       "...           ...          ...           ...  \n",
       "5740    -0.020188   -67.293333           Low  \n",
       "5744    -0.023453   -86.862963           Low  \n",
       "5748     0.464792  1859.168000           Low  \n",
       "5760     0.100592   670.613333           Low  \n",
       "5772    -0.004416   -49.066667           Low  \n",
       "\n",
       "[1922 rows x 9 columns]"
      ]
     },
     "execution_count": 56,
     "metadata": {},
     "output_type": "execute_result"
    }
   ],
=======
   "execution_count": 25,
   "metadata": {},
   "outputs": [],
   "source": [
    "tn_df = tn_df[tn_df['worldwide_gross'] != 0]\n",
    "# tn_df.head()"
   ]
  },
  {
   "cell_type": "markdown",
   "metadata": {},
   "source": [
    "**Filtering dataset to only include movies released between 2010-2019**"
   ]
  },
  {
   "cell_type": "code",
   "execution_count": 26,
   "metadata": {},
   "outputs": [],
   "source": [
    "tn_df = tn_df[tn_df['release_date'] > pd.Timestamp(2010, 1, 1)]"
   ]
  },
  {
   "cell_type": "markdown",
   "metadata": {},
   "source": [
    "This leaves us with 1922 rows and 4 columns of usable data"
   ]
  },
  {
   "cell_type": "markdown",
   "metadata": {},
   "source": [
    "#### 2.2 Adding New Columns"
   ]
  },
  {
   "cell_type": "markdown",
   "metadata": {},
   "source": [
    "##### Convert numerical columns to be in millions for graph readability"
   ]
  },
  {
   "cell_type": "code",
   "execution_count": 27,
   "metadata": {},
   "outputs": [
    {
     "ename": "KeyError",
     "evalue": "'net_profit'",
     "output_type": "error",
     "traceback": [
      "\u001b[1;31m---------------------------------------------------------------------------\u001b[0m",
      "\u001b[1;31mKeyError\u001b[0m                                  Traceback (most recent call last)",
      "\u001b[1;32m~\\anaconda3\\envs\\learn-env\\lib\\site-packages\\pandas\\core\\indexes\\base.py\u001b[0m in \u001b[0;36mget_loc\u001b[1;34m(self, key, method, tolerance)\u001b[0m\n\u001b[0;32m   2894\u001b[0m             \u001b[1;32mtry\u001b[0m\u001b[1;33m:\u001b[0m\u001b[1;33m\u001b[0m\u001b[1;33m\u001b[0m\u001b[0m\n\u001b[1;32m-> 2895\u001b[1;33m                 \u001b[1;32mreturn\u001b[0m \u001b[0mself\u001b[0m\u001b[1;33m.\u001b[0m\u001b[0m_engine\u001b[0m\u001b[1;33m.\u001b[0m\u001b[0mget_loc\u001b[0m\u001b[1;33m(\u001b[0m\u001b[0mcasted_key\u001b[0m\u001b[1;33m)\u001b[0m\u001b[1;33m\u001b[0m\u001b[1;33m\u001b[0m\u001b[0m\n\u001b[0m\u001b[0;32m   2896\u001b[0m             \u001b[1;32mexcept\u001b[0m \u001b[0mKeyError\u001b[0m \u001b[1;32mas\u001b[0m \u001b[0merr\u001b[0m\u001b[1;33m:\u001b[0m\u001b[1;33m\u001b[0m\u001b[1;33m\u001b[0m\u001b[0m\n",
      "\u001b[1;32mpandas\\_libs\\index.pyx\u001b[0m in \u001b[0;36mpandas._libs.index.IndexEngine.get_loc\u001b[1;34m()\u001b[0m\n",
      "\u001b[1;32mpandas\\_libs\\index.pyx\u001b[0m in \u001b[0;36mpandas._libs.index.IndexEngine.get_loc\u001b[1;34m()\u001b[0m\n",
      "\u001b[1;32mpandas\\_libs\\hashtable_class_helper.pxi\u001b[0m in \u001b[0;36mpandas._libs.hashtable.PyObjectHashTable.get_item\u001b[1;34m()\u001b[0m\n",
      "\u001b[1;32mpandas\\_libs\\hashtable_class_helper.pxi\u001b[0m in \u001b[0;36mpandas._libs.hashtable.PyObjectHashTable.get_item\u001b[1;34m()\u001b[0m\n",
      "\u001b[1;31mKeyError\u001b[0m: 'net_profit'",
      "\nThe above exception was the direct cause of the following exception:\n",
      "\u001b[1;31mKeyError\u001b[0m                                  Traceback (most recent call last)",
      "\u001b[1;32m<ipython-input-27-f3b6a35c7ff4>\u001b[0m in \u001b[0;36m<module>\u001b[1;34m\u001b[0m\n\u001b[0;32m      1\u001b[0m \u001b[0mtn_df\u001b[0m\u001b[1;33m[\u001b[0m\u001b[1;34m'budget_mils'\u001b[0m\u001b[1;33m]\u001b[0m \u001b[1;33m=\u001b[0m \u001b[0mtn_df\u001b[0m\u001b[1;33m[\u001b[0m\u001b[1;34m'production_budget'\u001b[0m\u001b[1;33m]\u001b[0m \u001b[1;33m/\u001b[0m \u001b[1;36m1000000\u001b[0m\u001b[1;33m\u001b[0m\u001b[1;33m\u001b[0m\u001b[0m\n\u001b[1;32m----> 2\u001b[1;33m \u001b[0mtn_df\u001b[0m\u001b[1;33m[\u001b[0m\u001b[1;34m'profit_mils'\u001b[0m\u001b[1;33m]\u001b[0m \u001b[1;33m=\u001b[0m \u001b[0mtn_df\u001b[0m\u001b[1;33m[\u001b[0m\u001b[1;34m'net_profit'\u001b[0m\u001b[1;33m]\u001b[0m\u001b[1;33m/\u001b[0m\u001b[1;36m1000000\u001b[0m\u001b[1;33m\u001b[0m\u001b[1;33m\u001b[0m\u001b[0m\n\u001b[0m",
      "\u001b[1;32m~\\anaconda3\\envs\\learn-env\\lib\\site-packages\\pandas\\core\\frame.py\u001b[0m in \u001b[0;36m__getitem__\u001b[1;34m(self, key)\u001b[0m\n\u001b[0;32m   2900\u001b[0m             \u001b[1;32mif\u001b[0m \u001b[0mself\u001b[0m\u001b[1;33m.\u001b[0m\u001b[0mcolumns\u001b[0m\u001b[1;33m.\u001b[0m\u001b[0mnlevels\u001b[0m \u001b[1;33m>\u001b[0m \u001b[1;36m1\u001b[0m\u001b[1;33m:\u001b[0m\u001b[1;33m\u001b[0m\u001b[1;33m\u001b[0m\u001b[0m\n\u001b[0;32m   2901\u001b[0m                 \u001b[1;32mreturn\u001b[0m \u001b[0mself\u001b[0m\u001b[1;33m.\u001b[0m\u001b[0m_getitem_multilevel\u001b[0m\u001b[1;33m(\u001b[0m\u001b[0mkey\u001b[0m\u001b[1;33m)\u001b[0m\u001b[1;33m\u001b[0m\u001b[1;33m\u001b[0m\u001b[0m\n\u001b[1;32m-> 2902\u001b[1;33m             \u001b[0mindexer\u001b[0m \u001b[1;33m=\u001b[0m \u001b[0mself\u001b[0m\u001b[1;33m.\u001b[0m\u001b[0mcolumns\u001b[0m\u001b[1;33m.\u001b[0m\u001b[0mget_loc\u001b[0m\u001b[1;33m(\u001b[0m\u001b[0mkey\u001b[0m\u001b[1;33m)\u001b[0m\u001b[1;33m\u001b[0m\u001b[1;33m\u001b[0m\u001b[0m\n\u001b[0m\u001b[0;32m   2903\u001b[0m             \u001b[1;32mif\u001b[0m \u001b[0mis_integer\u001b[0m\u001b[1;33m(\u001b[0m\u001b[0mindexer\u001b[0m\u001b[1;33m)\u001b[0m\u001b[1;33m:\u001b[0m\u001b[1;33m\u001b[0m\u001b[1;33m\u001b[0m\u001b[0m\n\u001b[0;32m   2904\u001b[0m                 \u001b[0mindexer\u001b[0m \u001b[1;33m=\u001b[0m \u001b[1;33m[\u001b[0m\u001b[0mindexer\u001b[0m\u001b[1;33m]\u001b[0m\u001b[1;33m\u001b[0m\u001b[1;33m\u001b[0m\u001b[0m\n",
      "\u001b[1;32m~\\anaconda3\\envs\\learn-env\\lib\\site-packages\\pandas\\core\\indexes\\base.py\u001b[0m in \u001b[0;36mget_loc\u001b[1;34m(self, key, method, tolerance)\u001b[0m\n\u001b[0;32m   2895\u001b[0m                 \u001b[1;32mreturn\u001b[0m \u001b[0mself\u001b[0m\u001b[1;33m.\u001b[0m\u001b[0m_engine\u001b[0m\u001b[1;33m.\u001b[0m\u001b[0mget_loc\u001b[0m\u001b[1;33m(\u001b[0m\u001b[0mcasted_key\u001b[0m\u001b[1;33m)\u001b[0m\u001b[1;33m\u001b[0m\u001b[1;33m\u001b[0m\u001b[0m\n\u001b[0;32m   2896\u001b[0m             \u001b[1;32mexcept\u001b[0m \u001b[0mKeyError\u001b[0m \u001b[1;32mas\u001b[0m \u001b[0merr\u001b[0m\u001b[1;33m:\u001b[0m\u001b[1;33m\u001b[0m\u001b[1;33m\u001b[0m\u001b[0m\n\u001b[1;32m-> 2897\u001b[1;33m                 \u001b[1;32mraise\u001b[0m \u001b[0mKeyError\u001b[0m\u001b[1;33m(\u001b[0m\u001b[0mkey\u001b[0m\u001b[1;33m)\u001b[0m \u001b[1;32mfrom\u001b[0m \u001b[0merr\u001b[0m\u001b[1;33m\u001b[0m\u001b[1;33m\u001b[0m\u001b[0m\n\u001b[0m\u001b[0;32m   2898\u001b[0m \u001b[1;33m\u001b[0m\u001b[0m\n\u001b[0;32m   2899\u001b[0m         \u001b[1;32mif\u001b[0m \u001b[0mtolerance\u001b[0m \u001b[1;32mis\u001b[0m \u001b[1;32mnot\u001b[0m \u001b[1;32mNone\u001b[0m\u001b[1;33m:\u001b[0m\u001b[1;33m\u001b[0m\u001b[1;33m\u001b[0m\u001b[0m\n",
      "\u001b[1;31mKeyError\u001b[0m: 'net_profit'"
     ]
    }
   ],
   "source": [
    "tn_df['budget_mils'] = tn_df['production_budget'] / 1000000\n",
    "tn_df['profit_mils'] = tn_df['net_profit']/1000000"
   ]
  },
  {
   "cell_type": "markdown",
   "metadata": {},
   "source": [
    "#### Calculate Net Profit and ROI as a new variable in dataset\n",
    "Net profit = worldwide gross - production budget\n",
    "\n",
    "ROI (return on investment) calculates the benefit of an investment relative to the cost, and is generally expressed as a percentage.\n",
    "\n",
    "ROI = (net profit/production budget) x 100%"
   ]
  },
  {
   "cell_type": "code",
   "execution_count": null,
   "metadata": {},
   "outputs": [],
>>>>>>> upstream/main
   "source": [
    "tn_df['roi'] = tn_df['profit_mils']/tn_df['budget_mils']*100\n",
    "\n",
    "tn_df"
   ]
  },
  {
   "cell_type": "markdown",
<<<<<<< HEAD
   "metadata": {},
=======
   "metadata": {
    "heading_collapsed": true
   },
>>>>>>> upstream/main
   "source": [
    "### Joining The Movies Database with The Numbers Database"
   ]
  },
  {
   "cell_type": "markdown",
   "metadata": {},
   "source": [
    "We decided to join the two databases so we could compare columns from each.\n",
    "\n",
    "Prep The Movies Database to join:"
   ]
  },
  {
   "cell_type": "code",
<<<<<<< HEAD
   "execution_count": 57,
   "metadata": {},
   "outputs": [
    {
     "data": {
      "text/html": [
       "<div>\n",
       "<style scoped>\n",
       "    .dataframe tbody tr th:only-of-type {\n",
       "        vertical-align: middle;\n",
       "    }\n",
       "\n",
       "    .dataframe tbody tr th {\n",
       "        vertical-align: top;\n",
       "    }\n",
       "\n",
       "    .dataframe thead th {\n",
       "        text-align: right;\n",
       "    }\n",
       "</style>\n",
       "<table border=\"1\" class=\"dataframe\">\n",
       "  <thead>\n",
       "    <tr style=\"text-align: right;\">\n",
       "      <th></th>\n",
       "      <th>release_date</th>\n",
       "      <th>title</th>\n",
       "      <th>vote_average</th>\n",
       "      <th>vote_count</th>\n",
       "      <th>primary_genre</th>\n",
       "    </tr>\n",
       "    <tr>\n",
       "      <th>movie</th>\n",
       "      <th></th>\n",
       "      <th></th>\n",
       "      <th></th>\n",
       "      <th></th>\n",
       "      <th></th>\n",
       "    </tr>\n",
       "  </thead>\n",
       "  <tbody>\n",
       "    <tr>\n",
       "      <th>Harry Potter and the Deathly Hallows: Part 1</th>\n",
       "      <td>2010-11-19</td>\n",
       "      <td>Harry Potter and the Deathly Hallows: Part 1</td>\n",
       "      <td>7.7</td>\n",
       "      <td>10788</td>\n",
       "      <td>Adventure</td>\n",
       "    </tr>\n",
       "  </tbody>\n",
       "</table>\n",
       "</div>"
      ],
      "text/plain": [
       "                                             release_date  \\\n",
       "movie                                                       \n",
       "Harry Potter and the Deathly Hallows: Part 1   2010-11-19   \n",
       "\n",
       "                                                                                     title  \\\n",
       "movie                                                                                        \n",
       "Harry Potter and the Deathly Hallows: Part 1  Harry Potter and the Deathly Hallows: Part 1   \n",
       "\n",
       "                                              vote_average  vote_count  \\\n",
       "movie                                                                    \n",
       "Harry Potter and the Deathly Hallows: Part 1           7.7       10788   \n",
       "\n",
       "                                             primary_genre  \n",
       "movie                                                       \n",
       "Harry Potter and the Deathly Hallows: Part 1     Adventure  "
      ]
     },
     "execution_count": 57,
     "metadata": {},
     "output_type": "execute_result"
    }
   ],
=======
   "execution_count": null,
   "metadata": {
    "hidden": true
   },
   "outputs": [],
>>>>>>> upstream/main
   "source": [
    "df_tmdb_mod = df_filtered\n",
    "df_tmdb_mod['movie'] = df_tmdb_mod['title']\n",
    "df_tmdb_mod = df_tmdb_mod.set_index('movie')\n",
    "df_tmdb_mod = df_tmdb_mod.drop('genre_ids', axis=1)\n",
    "df_tmdb_mod.head(1)"
   ]
  },
  {
   "cell_type": "markdown",
   "metadata": {},
   "source": [
    "Prep The Numbers Database to join:"
   ]
  },
  {
   "cell_type": "code",
<<<<<<< HEAD
   "execution_count": 58,
   "metadata": {},
   "outputs": [
    {
     "data": {
      "text/html": [
       "<div>\n",
       "<style scoped>\n",
       "    .dataframe tbody tr th:only-of-type {\n",
       "        vertical-align: middle;\n",
       "    }\n",
       "\n",
       "    .dataframe tbody tr th {\n",
       "        vertical-align: top;\n",
       "    }\n",
       "\n",
       "    .dataframe thead th {\n",
       "        text-align: right;\n",
       "    }\n",
       "</style>\n",
       "<table border=\"1\" class=\"dataframe\">\n",
       "  <thead>\n",
       "    <tr style=\"text-align: right;\">\n",
       "      <th></th>\n",
       "      <th>production_budget</th>\n",
       "      <th>worldwide_gross</th>\n",
       "      <th>net_profit</th>\n",
       "      <th>budget_mils</th>\n",
       "      <th>profit_mils</th>\n",
       "      <th>roi</th>\n",
       "      <th>budget_groups</th>\n",
       "    </tr>\n",
       "    <tr>\n",
       "      <th>movie</th>\n",
       "      <th></th>\n",
       "      <th></th>\n",
       "      <th></th>\n",
       "      <th></th>\n",
       "      <th></th>\n",
       "      <th></th>\n",
       "      <th></th>\n",
       "    </tr>\n",
       "  </thead>\n",
       "  <tbody>\n",
       "    <tr>\n",
       "      <th>Pirates of the Caribbean: On Stranger Tides</th>\n",
       "      <td>410600000</td>\n",
       "      <td>1045663875</td>\n",
       "      <td>635063875</td>\n",
       "      <td>410.6</td>\n",
       "      <td>635.063875</td>\n",
       "      <td>154.667286</td>\n",
       "      <td>High</td>\n",
       "    </tr>\n",
       "  </tbody>\n",
       "</table>\n",
       "</div>"
      ],
      "text/plain": [
       "                                             production_budget  \\\n",
       "movie                                                            \n",
       "Pirates of the Caribbean: On Stranger Tides          410600000   \n",
       "\n",
       "                                             worldwide_gross  net_profit  \\\n",
       "movie                                                                      \n",
       "Pirates of the Caribbean: On Stranger Tides       1045663875   635063875   \n",
       "\n",
       "                                             budget_mils  profit_mils  \\\n",
       "movie                                                                   \n",
       "Pirates of the Caribbean: On Stranger Tides        410.6   635.063875   \n",
       "\n",
       "                                                    roi budget_groups  \n",
       "movie                                                                  \n",
       "Pirates of the Caribbean: On Stranger Tides  154.667286          High  "
      ]
     },
     "execution_count": 58,
     "metadata": {},
     "output_type": "execute_result"
    }
   ],
=======
   "execution_count": null,
   "metadata": {
    "hidden": true
   },
   "outputs": [],
>>>>>>> upstream/main
   "source": [
    "df_tndb_mod = tn_df.set_index('movie')\n",
    "df_tndb_mod = df_tndb_mod.drop('release_date', axis=1)\n",
    "df_tndb_mod.head(1)"
   ]
  },
  {
   "cell_type": "markdown",
   "metadata": {},
   "source": [
    "Executing the join:"
   ]
  },
  {
   "cell_type": "code",
<<<<<<< HEAD
   "execution_count": 59,
   "metadata": {},
   "outputs": [
    {
     "data": {
      "text/html": [
       "<div>\n",
       "<style scoped>\n",
       "    .dataframe tbody tr th:only-of-type {\n",
       "        vertical-align: middle;\n",
       "    }\n",
       "\n",
       "    .dataframe tbody tr th {\n",
       "        vertical-align: top;\n",
       "    }\n",
       "\n",
       "    .dataframe thead th {\n",
       "        text-align: right;\n",
       "    }\n",
       "</style>\n",
       "<table border=\"1\" class=\"dataframe\">\n",
       "  <thead>\n",
       "    <tr style=\"text-align: right;\">\n",
       "      <th></th>\n",
       "      <th>release_date</th>\n",
       "      <th>title</th>\n",
       "      <th>vote_average</th>\n",
       "      <th>vote_count</th>\n",
       "      <th>primary_genre</th>\n",
       "      <th>production_budget</th>\n",
       "      <th>worldwide_gross</th>\n",
       "      <th>net_profit</th>\n",
       "      <th>budget_mils</th>\n",
       "      <th>profit_mils</th>\n",
       "      <th>roi</th>\n",
       "      <th>budget_groups</th>\n",
       "    </tr>\n",
       "    <tr>\n",
       "      <th>movie</th>\n",
       "      <th></th>\n",
       "      <th></th>\n",
       "      <th></th>\n",
       "      <th></th>\n",
       "      <th></th>\n",
       "      <th></th>\n",
       "      <th></th>\n",
       "      <th></th>\n",
       "      <th></th>\n",
       "      <th></th>\n",
       "      <th></th>\n",
       "      <th></th>\n",
       "    </tr>\n",
       "  </thead>\n",
       "  <tbody>\n",
       "    <tr>\n",
       "      <th>How to Train Your Dragon</th>\n",
       "      <td>2010-03-26</td>\n",
       "      <td>How to Train Your Dragon</td>\n",
       "      <td>7.7</td>\n",
       "      <td>7610</td>\n",
       "      <td>Fantasy</td>\n",
       "      <td>165000000</td>\n",
       "      <td>494870992</td>\n",
       "      <td>329870992</td>\n",
       "      <td>165.0</td>\n",
       "      <td>329.870992</td>\n",
       "      <td>199.921813</td>\n",
       "      <td>High</td>\n",
       "    </tr>\n",
       "    <tr>\n",
       "      <th>Iron Man 2</th>\n",
       "      <td>2010-05-07</td>\n",
       "      <td>Iron Man 2</td>\n",
       "      <td>6.8</td>\n",
       "      <td>12368</td>\n",
       "      <td>Adventure</td>\n",
       "      <td>170000000</td>\n",
       "      <td>621156389</td>\n",
       "      <td>451156389</td>\n",
       "      <td>170.0</td>\n",
       "      <td>451.156389</td>\n",
       "      <td>265.386111</td>\n",
       "      <td>High</td>\n",
       "    </tr>\n",
       "    <tr>\n",
       "      <th>Inception</th>\n",
       "      <td>2010-07-16</td>\n",
       "      <td>Inception</td>\n",
       "      <td>8.3</td>\n",
       "      <td>22186</td>\n",
       "      <td>Action</td>\n",
       "      <td>160000000</td>\n",
       "      <td>835524642</td>\n",
       "      <td>675524642</td>\n",
       "      <td>160.0</td>\n",
       "      <td>675.524642</td>\n",
       "      <td>422.202901</td>\n",
       "      <td>High</td>\n",
       "    </tr>\n",
       "    <tr>\n",
       "      <th>Percy Jackson &amp; the Olympians: The Lightning Thief</th>\n",
       "      <td>2010-02-11</td>\n",
       "      <td>Percy Jackson &amp; the Olympians: The Lightning T...</td>\n",
       "      <td>6.1</td>\n",
       "      <td>4229</td>\n",
       "      <td>Adventure</td>\n",
       "      <td>95000000</td>\n",
       "      <td>223050874</td>\n",
       "      <td>128050874</td>\n",
       "      <td>95.0</td>\n",
       "      <td>128.050874</td>\n",
       "      <td>134.790394</td>\n",
       "      <td>Medium</td>\n",
       "    </tr>\n",
       "    <tr>\n",
       "      <th>Toy Story 3</th>\n",
       "      <td>2010-06-17</td>\n",
       "      <td>Toy Story 3</td>\n",
       "      <td>7.7</td>\n",
       "      <td>8340</td>\n",
       "      <td>Animation</td>\n",
       "      <td>200000000</td>\n",
       "      <td>1068879522</td>\n",
       "      <td>868879522</td>\n",
       "      <td>200.0</td>\n",
       "      <td>868.879522</td>\n",
       "      <td>434.439761</td>\n",
       "      <td>High</td>\n",
       "    </tr>\n",
       "    <tr>\n",
       "      <th>...</th>\n",
       "      <td>...</td>\n",
       "      <td>...</td>\n",
       "      <td>...</td>\n",
       "      <td>...</td>\n",
       "      <td>...</td>\n",
       "      <td>...</td>\n",
       "      <td>...</td>\n",
       "      <td>...</td>\n",
       "      <td>...</td>\n",
       "      <td>...</td>\n",
       "      <td>...</td>\n",
       "      <td>...</td>\n",
       "    </tr>\n",
       "    <tr>\n",
       "      <th>The 15:17 to Paris</th>\n",
       "      <td>2018-02-09</td>\n",
       "      <td>The 15:17 to Paris</td>\n",
       "      <td>5.3</td>\n",
       "      <td>799</td>\n",
       "      <td>Drama</td>\n",
       "      <td>30000000</td>\n",
       "      <td>56096200</td>\n",
       "      <td>26096200</td>\n",
       "      <td>30.0</td>\n",
       "      <td>26.096200</td>\n",
       "      <td>86.987333</td>\n",
       "      <td>Medium</td>\n",
       "    </tr>\n",
       "    <tr>\n",
       "      <th>Book Club</th>\n",
       "      <td>2018-05-18</td>\n",
       "      <td>Book Club</td>\n",
       "      <td>6.0</td>\n",
       "      <td>301</td>\n",
       "      <td>Comedy</td>\n",
       "      <td>10000000</td>\n",
       "      <td>91113683</td>\n",
       "      <td>81113683</td>\n",
       "      <td>10.0</td>\n",
       "      <td>81.113683</td>\n",
       "      <td>811.136830</td>\n",
       "      <td>Low</td>\n",
       "    </tr>\n",
       "    <tr>\n",
       "      <th>Uncle Drew</th>\n",
       "      <td>2018-06-29</td>\n",
       "      <td>Uncle Drew</td>\n",
       "      <td>6.5</td>\n",
       "      <td>220</td>\n",
       "      <td>Comedy</td>\n",
       "      <td>18000000</td>\n",
       "      <td>46527161</td>\n",
       "      <td>28527161</td>\n",
       "      <td>18.0</td>\n",
       "      <td>28.527161</td>\n",
       "      <td>158.484228</td>\n",
       "      <td>Low</td>\n",
       "    </tr>\n",
       "    <tr>\n",
       "      <th>Gotti</th>\n",
       "      <td>2018-06-15</td>\n",
       "      <td>Gotti</td>\n",
       "      <td>5.2</td>\n",
       "      <td>231</td>\n",
       "      <td>Crime</td>\n",
       "      <td>10000000</td>\n",
       "      <td>6089100</td>\n",
       "      <td>-3910900</td>\n",
       "      <td>10.0</td>\n",
       "      <td>-3.910900</td>\n",
       "      <td>-39.109000</td>\n",
       "      <td>Low</td>\n",
       "    </tr>\n",
       "    <tr>\n",
       "      <th>Proud Mary</th>\n",
       "      <td>2018-01-12</td>\n",
       "      <td>Proud Mary</td>\n",
       "      <td>5.5</td>\n",
       "      <td>259</td>\n",
       "      <td>Thriller</td>\n",
       "      <td>30000000</td>\n",
       "      <td>21709539</td>\n",
       "      <td>-8290461</td>\n",
       "      <td>30.0</td>\n",
       "      <td>-8.290461</td>\n",
       "      <td>-27.634870</td>\n",
       "      <td>Medium</td>\n",
       "    </tr>\n",
       "  </tbody>\n",
       "</table>\n",
       "<p>1371 rows × 12 columns</p>\n",
       "</div>"
      ],
      "text/plain": [
       "                                                   release_date  \\\n",
       "movie                                                             \n",
       "How to Train Your Dragon                             2010-03-26   \n",
       "Iron Man 2                                           2010-05-07   \n",
       "Inception                                            2010-07-16   \n",
       "Percy Jackson & the Olympians: The Lightning Thief   2010-02-11   \n",
       "Toy Story 3                                          2010-06-17   \n",
       "...                                                         ...   \n",
       "The 15:17 to Paris                                   2018-02-09   \n",
       "Book Club                                            2018-05-18   \n",
       "Uncle Drew                                           2018-06-29   \n",
       "Gotti                                                2018-06-15   \n",
       "Proud Mary                                           2018-01-12   \n",
       "\n",
       "                                                                                                title  \\\n",
       "movie                                                                                                   \n",
       "How to Train Your Dragon                                                     How to Train Your Dragon   \n",
       "Iron Man 2                                                                                 Iron Man 2   \n",
       "Inception                                                                                   Inception   \n",
       "Percy Jackson & the Olympians: The Lightning Thief  Percy Jackson & the Olympians: The Lightning T...   \n",
       "Toy Story 3                                                                               Toy Story 3   \n",
       "...                                                                                               ...   \n",
       "The 15:17 to Paris                                                                 The 15:17 to Paris   \n",
       "Book Club                                                                                   Book Club   \n",
       "Uncle Drew                                                                                 Uncle Drew   \n",
       "Gotti                                                                                           Gotti   \n",
       "Proud Mary                                                                                 Proud Mary   \n",
       "\n",
       "                                                    vote_average  vote_count  \\\n",
       "movie                                                                          \n",
       "How to Train Your Dragon                                     7.7        7610   \n",
       "Iron Man 2                                                   6.8       12368   \n",
       "Inception                                                    8.3       22186   \n",
       "Percy Jackson & the Olympians: The Lightning Thief           6.1        4229   \n",
       "Toy Story 3                                                  7.7        8340   \n",
       "...                                                          ...         ...   \n",
       "The 15:17 to Paris                                           5.3         799   \n",
       "Book Club                                                    6.0         301   \n",
       "Uncle Drew                                                   6.5         220   \n",
       "Gotti                                                        5.2         231   \n",
       "Proud Mary                                                   5.5         259   \n",
       "\n",
       "                                                   primary_genre  \\\n",
       "movie                                                              \n",
       "How to Train Your Dragon                                 Fantasy   \n",
       "Iron Man 2                                             Adventure   \n",
       "Inception                                                 Action   \n",
       "Percy Jackson & the Olympians: The Lightning Thief     Adventure   \n",
       "Toy Story 3                                            Animation   \n",
       "...                                                          ...   \n",
       "The 15:17 to Paris                                         Drama   \n",
       "Book Club                                                 Comedy   \n",
       "Uncle Drew                                                Comedy   \n",
       "Gotti                                                      Crime   \n",
       "Proud Mary                                              Thriller   \n",
       "\n",
       "                                                    production_budget  \\\n",
       "movie                                                                   \n",
       "How to Train Your Dragon                                    165000000   \n",
       "Iron Man 2                                                  170000000   \n",
       "Inception                                                   160000000   \n",
       "Percy Jackson & the Olympians: The Lightning Thief           95000000   \n",
       "Toy Story 3                                                 200000000   \n",
       "...                                                               ...   \n",
       "The 15:17 to Paris                                           30000000   \n",
       "Book Club                                                    10000000   \n",
       "Uncle Drew                                                   18000000   \n",
       "Gotti                                                        10000000   \n",
       "Proud Mary                                                   30000000   \n",
       "\n",
       "                                                    worldwide_gross  \\\n",
       "movie                                                                 \n",
       "How to Train Your Dragon                                  494870992   \n",
       "Iron Man 2                                                621156389   \n",
       "Inception                                                 835524642   \n",
       "Percy Jackson & the Olympians: The Lightning Thief        223050874   \n",
       "Toy Story 3                                              1068879522   \n",
       "...                                                             ...   \n",
       "The 15:17 to Paris                                         56096200   \n",
       "Book Club                                                  91113683   \n",
       "Uncle Drew                                                 46527161   \n",
       "Gotti                                                       6089100   \n",
       "Proud Mary                                                 21709539   \n",
       "\n",
       "                                                    net_profit  budget_mils  \\\n",
       "movie                                                                         \n",
       "How to Train Your Dragon                             329870992        165.0   \n",
       "Iron Man 2                                           451156389        170.0   \n",
       "Inception                                            675524642        160.0   \n",
       "Percy Jackson & the Olympians: The Lightning Thief   128050874         95.0   \n",
       "Toy Story 3                                          868879522        200.0   \n",
       "...                                                        ...          ...   \n",
       "The 15:17 to Paris                                    26096200         30.0   \n",
       "Book Club                                             81113683         10.0   \n",
       "Uncle Drew                                            28527161         18.0   \n",
       "Gotti                                                 -3910900         10.0   \n",
       "Proud Mary                                            -8290461         30.0   \n",
       "\n",
       "                                                    profit_mils         roi  \\\n",
       "movie                                                                         \n",
       "How to Train Your Dragon                             329.870992  199.921813   \n",
       "Iron Man 2                                           451.156389  265.386111   \n",
       "Inception                                            675.524642  422.202901   \n",
       "Percy Jackson & the Olympians: The Lightning Thief   128.050874  134.790394   \n",
       "Toy Story 3                                          868.879522  434.439761   \n",
       "...                                                         ...         ...   \n",
       "The 15:17 to Paris                                    26.096200   86.987333   \n",
       "Book Club                                             81.113683  811.136830   \n",
       "Uncle Drew                                            28.527161  158.484228   \n",
       "Gotti                                                 -3.910900  -39.109000   \n",
       "Proud Mary                                            -8.290461  -27.634870   \n",
       "\n",
       "                                                   budget_groups  \n",
       "movie                                                             \n",
       "How to Train Your Dragon                                    High  \n",
       "Iron Man 2                                                  High  \n",
       "Inception                                                   High  \n",
       "Percy Jackson & the Olympians: The Lightning Thief        Medium  \n",
       "Toy Story 3                                                 High  \n",
       "...                                                          ...  \n",
       "The 15:17 to Paris                                        Medium  \n",
       "Book Club                                                    Low  \n",
       "Uncle Drew                                                   Low  \n",
       "Gotti                                                        Low  \n",
       "Proud Mary                                                Medium  \n",
       "\n",
       "[1371 rows x 12 columns]"
      ]
     },
     "execution_count": 59,
     "metadata": {},
     "output_type": "execute_result"
    }
   ],
=======
   "execution_count": null,
   "metadata": {
    "hidden": true
   },
   "outputs": [],
>>>>>>> upstream/main
   "source": [
    "df_tmdb_tn_innerjoin = df_tmdb_mod.join(df_tndb_mod, on='movie', how='inner', lsuffix='tmdb', rsuffix='tn')\n",
    "df_tmdb_tn_innerjoin"
   ]
  },
  {
   "cell_type": "markdown",
   "metadata": {},
   "source": [
    "### 3. IMDb\n",
    "#### 1.1 Merging Tables"
   ]
  },
  {
   "cell_type": "markdown",
   "metadata": {},
   "source": [
    "**We need to merge the `movie_ratings` table with the `movie_basics` table to get the full picture of our dataset.**\n",
    "\n",
    "The `movies_with_ratings` variable is created to store the merged dataframe."
   ]
  },
  {
   "cell_type": "code",
<<<<<<< HEAD
   "execution_count": 60,
   "metadata": {},
   "outputs": [
    {
     "data": {
      "text/html": [
       "<div>\n",
       "<style scoped>\n",
       "    .dataframe tbody tr th:only-of-type {\n",
       "        vertical-align: middle;\n",
       "    }\n",
       "\n",
       "    .dataframe tbody tr th {\n",
       "        vertical-align: top;\n",
       "    }\n",
       "\n",
       "    .dataframe thead th {\n",
       "        text-align: right;\n",
       "    }\n",
       "</style>\n",
       "<table border=\"1\" class=\"dataframe\">\n",
       "  <thead>\n",
       "    <tr style=\"text-align: right;\">\n",
       "      <th></th>\n",
       "      <th>movie_id</th>\n",
       "      <th>averagerating</th>\n",
       "      <th>numvotes</th>\n",
       "      <th>primary_title</th>\n",
       "      <th>original_title</th>\n",
       "      <th>start_year</th>\n",
       "      <th>runtime_minutes</th>\n",
       "      <th>genres</th>\n",
       "    </tr>\n",
       "  </thead>\n",
       "  <tbody>\n",
       "    <tr>\n",
       "      <th>0</th>\n",
       "      <td>tt10356526</td>\n",
       "      <td>8.3</td>\n",
       "      <td>31</td>\n",
       "      <td>Laiye Je Yaarian</td>\n",
       "      <td>Laiye Je Yaarian</td>\n",
       "      <td>2019</td>\n",
       "      <td>117.0</td>\n",
       "      <td>Romance</td>\n",
       "    </tr>\n",
       "    <tr>\n",
       "      <th>1</th>\n",
       "      <td>tt10384606</td>\n",
       "      <td>8.9</td>\n",
       "      <td>559</td>\n",
       "      <td>Borderless</td>\n",
       "      <td>Borderless</td>\n",
       "      <td>2019</td>\n",
       "      <td>87.0</td>\n",
       "      <td>Documentary</td>\n",
       "    </tr>\n",
       "    <tr>\n",
       "      <th>2</th>\n",
       "      <td>tt1042974</td>\n",
       "      <td>6.4</td>\n",
       "      <td>20</td>\n",
       "      <td>Just Inès</td>\n",
       "      <td>Just Inès</td>\n",
       "      <td>2010</td>\n",
       "      <td>90.0</td>\n",
       "      <td>Drama</td>\n",
       "    </tr>\n",
       "    <tr>\n",
       "      <th>3</th>\n",
       "      <td>tt1043726</td>\n",
       "      <td>4.2</td>\n",
       "      <td>50352</td>\n",
       "      <td>The Legend of Hercules</td>\n",
       "      <td>The Legend of Hercules</td>\n",
       "      <td>2014</td>\n",
       "      <td>99.0</td>\n",
       "      <td>Action,Adventure,Fantasy</td>\n",
       "    </tr>\n",
       "    <tr>\n",
       "      <th>4</th>\n",
       "      <td>tt1060240</td>\n",
       "      <td>6.5</td>\n",
       "      <td>21</td>\n",
       "      <td>Até Onde?</td>\n",
       "      <td>Até Onde?</td>\n",
       "      <td>2011</td>\n",
       "      <td>73.0</td>\n",
       "      <td>Mystery,Thriller</td>\n",
       "    </tr>\n",
       "  </tbody>\n",
       "</table>\n",
       "</div>"
      ],
      "text/plain": [
       "     movie_id  averagerating  numvotes           primary_title  \\\n",
       "0  tt10356526            8.3        31        Laiye Je Yaarian   \n",
       "1  tt10384606            8.9       559              Borderless   \n",
       "2   tt1042974            6.4        20               Just Inès   \n",
       "3   tt1043726            4.2     50352  The Legend of Hercules   \n",
       "4   tt1060240            6.5        21               Até Onde?   \n",
       "\n",
       "           original_title  start_year  runtime_minutes  \\\n",
       "0        Laiye Je Yaarian        2019            117.0   \n",
       "1              Borderless        2019             87.0   \n",
       "2               Just Inès        2010             90.0   \n",
       "3  The Legend of Hercules        2014             99.0   \n",
       "4               Até Onde?        2011             73.0   \n",
       "\n",
       "                     genres  \n",
       "0                   Romance  \n",
       "1               Documentary  \n",
       "2                     Drama  \n",
       "3  Action,Adventure,Fantasy  \n",
       "4          Mystery,Thriller  "
      ]
     },
     "execution_count": 60,
     "metadata": {},
     "output_type": "execute_result"
    }
   ],
=======
   "execution_count": null,
   "metadata": {
    "hidden": true
   },
   "outputs": [],
>>>>>>> upstream/main
   "source": [
    "movies_with_ratings = pd.merge(movie_ratings, movie_basics, left_on='movie_id', right_on='movie_id')\n",
    "movies_with_ratings.head()"
   ]
  },
  {
   "cell_type": "markdown",
   "metadata": {},
   "source": [
    "#### 1.2 Removing Unnecessary Columns & Filtering Data\n",
    "**Columns to drop: original_title, genres**"
   ]
  },
  {
   "cell_type": "code",
<<<<<<< HEAD
   "execution_count": 61,
   "metadata": {},
   "outputs": [
    {
     "data": {
      "text/html": [
       "<div>\n",
       "<style scoped>\n",
       "    .dataframe tbody tr th:only-of-type {\n",
       "        vertical-align: middle;\n",
       "    }\n",
       "\n",
       "    .dataframe tbody tr th {\n",
       "        vertical-align: top;\n",
       "    }\n",
       "\n",
       "    .dataframe thead th {\n",
       "        text-align: right;\n",
       "    }\n",
       "</style>\n",
       "<table border=\"1\" class=\"dataframe\">\n",
       "  <thead>\n",
       "    <tr style=\"text-align: right;\">\n",
       "      <th></th>\n",
       "      <th>movie_id</th>\n",
       "      <th>averagerating</th>\n",
       "      <th>numvotes</th>\n",
       "      <th>primary_title</th>\n",
       "      <th>start_year</th>\n",
       "      <th>runtime_minutes</th>\n",
       "    </tr>\n",
       "  </thead>\n",
       "  <tbody>\n",
       "    <tr>\n",
       "      <th>0</th>\n",
       "      <td>tt10356526</td>\n",
       "      <td>8.3</td>\n",
       "      <td>31</td>\n",
       "      <td>Laiye Je Yaarian</td>\n",
       "      <td>2019</td>\n",
       "      <td>117.0</td>\n",
       "    </tr>\n",
       "    <tr>\n",
       "      <th>1</th>\n",
       "      <td>tt10384606</td>\n",
       "      <td>8.9</td>\n",
       "      <td>559</td>\n",
       "      <td>Borderless</td>\n",
       "      <td>2019</td>\n",
       "      <td>87.0</td>\n",
       "    </tr>\n",
       "    <tr>\n",
       "      <th>2</th>\n",
       "      <td>tt1042974</td>\n",
       "      <td>6.4</td>\n",
       "      <td>20</td>\n",
       "      <td>Just Inès</td>\n",
       "      <td>2010</td>\n",
       "      <td>90.0</td>\n",
       "    </tr>\n",
       "    <tr>\n",
       "      <th>3</th>\n",
       "      <td>tt1043726</td>\n",
       "      <td>4.2</td>\n",
       "      <td>50352</td>\n",
       "      <td>The Legend of Hercules</td>\n",
       "      <td>2014</td>\n",
       "      <td>99.0</td>\n",
       "    </tr>\n",
       "    <tr>\n",
       "      <th>4</th>\n",
       "      <td>tt1060240</td>\n",
       "      <td>6.5</td>\n",
       "      <td>21</td>\n",
       "      <td>Até Onde?</td>\n",
       "      <td>2011</td>\n",
       "      <td>73.0</td>\n",
       "    </tr>\n",
       "  </tbody>\n",
       "</table>\n",
       "</div>"
      ],
      "text/plain": [
       "     movie_id  averagerating  numvotes           primary_title  start_year  \\\n",
       "0  tt10356526            8.3        31        Laiye Je Yaarian        2019   \n",
       "1  tt10384606            8.9       559              Borderless        2019   \n",
       "2   tt1042974            6.4        20               Just Inès        2010   \n",
       "3   tt1043726            4.2     50352  The Legend of Hercules        2014   \n",
       "4   tt1060240            6.5        21               Até Onde?        2011   \n",
       "\n",
       "   runtime_minutes  \n",
       "0            117.0  \n",
       "1             87.0  \n",
       "2             90.0  \n",
       "3             99.0  \n",
       "4             73.0  "
      ]
     },
     "execution_count": 61,
     "metadata": {},
     "output_type": "execute_result"
    }
   ],
=======
   "execution_count": null,
   "metadata": {
    "hidden": true
   },
   "outputs": [],
>>>>>>> upstream/main
   "source": [
    "movies_with_ratings_clean = movies_with_ratings.drop(['original_title', 'genres'], axis=1)\n",
    "movies_with_ratings_clean.head()"
   ]
  },
  {
   "cell_type": "markdown",
   "metadata": {},
   "source": [
    "**Columns to filter:**\n",
    "- `numvotes`\n",
    "    - We only want to rely on the average rating in our analysis if a movie has a sufficient number of votes that went into that average rating.  \n",
    "    - For this dataset, we are dropping any movies that have a vote count of less than the median (49)."
   ]
  },
  {
   "cell_type": "markdown",
   "metadata": {},
   "source": [
    "Find the median number of votes in the remaining data set"
   ]
  },
  {
   "cell_type": "code",
<<<<<<< HEAD
   "execution_count": 62,
   "metadata": {},
   "outputs": [
    {
     "data": {
      "text/plain": [
       "49.0"
      ]
     },
     "execution_count": 62,
     "metadata": {},
     "output_type": "execute_result"
    }
   ],
=======
   "execution_count": null,
   "metadata": {
    "hidden": true
   },
   "outputs": [],
>>>>>>> upstream/main
   "source": [
    "median_votes = movies_with_ratings_clean['numvotes'].median()\n",
    "median_votes"
   ]
  },
  {
   "cell_type": "markdown",
   "metadata": {},
   "source": [
    "Drop movies with number of votes less than the median"
   ]
  },
  {
   "cell_type": "code",
<<<<<<< HEAD
   "execution_count": 63,
   "metadata": {},
   "outputs": [
    {
     "data": {
      "text/html": [
       "<div>\n",
       "<style scoped>\n",
       "    .dataframe tbody tr th:only-of-type {\n",
       "        vertical-align: middle;\n",
       "    }\n",
       "\n",
       "    .dataframe tbody tr th {\n",
       "        vertical-align: top;\n",
       "    }\n",
       "\n",
       "    .dataframe thead th {\n",
       "        text-align: right;\n",
       "    }\n",
       "</style>\n",
       "<table border=\"1\" class=\"dataframe\">\n",
       "  <thead>\n",
       "    <tr style=\"text-align: right;\">\n",
       "      <th></th>\n",
       "      <th>movie_id</th>\n",
       "      <th>averagerating</th>\n",
       "      <th>numvotes</th>\n",
       "      <th>primary_title</th>\n",
       "      <th>start_year</th>\n",
       "      <th>runtime_minutes</th>\n",
       "    </tr>\n",
       "  </thead>\n",
       "  <tbody>\n",
       "    <tr>\n",
       "      <th>1</th>\n",
       "      <td>tt10384606</td>\n",
       "      <td>8.9</td>\n",
       "      <td>559</td>\n",
       "      <td>Borderless</td>\n",
       "      <td>2019</td>\n",
       "      <td>87.0</td>\n",
       "    </tr>\n",
       "    <tr>\n",
       "      <th>3</th>\n",
       "      <td>tt1043726</td>\n",
       "      <td>4.2</td>\n",
       "      <td>50352</td>\n",
       "      <td>The Legend of Hercules</td>\n",
       "      <td>2014</td>\n",
       "      <td>99.0</td>\n",
       "    </tr>\n",
       "    <tr>\n",
       "      <th>5</th>\n",
       "      <td>tt1069246</td>\n",
       "      <td>6.2</td>\n",
       "      <td>326</td>\n",
       "      <td>Habana Eva</td>\n",
       "      <td>2010</td>\n",
       "      <td>106.0</td>\n",
       "    </tr>\n",
       "    <tr>\n",
       "      <th>6</th>\n",
       "      <td>tt1094666</td>\n",
       "      <td>7.0</td>\n",
       "      <td>1613</td>\n",
       "      <td>The Hammer</td>\n",
       "      <td>2010</td>\n",
       "      <td>108.0</td>\n",
       "    </tr>\n",
       "    <tr>\n",
       "      <th>7</th>\n",
       "      <td>tt1130982</td>\n",
       "      <td>6.4</td>\n",
       "      <td>571</td>\n",
       "      <td>The Night Clerk</td>\n",
       "      <td>2011</td>\n",
       "      <td>104.0</td>\n",
       "    </tr>\n",
       "  </tbody>\n",
       "</table>\n",
       "</div>"
      ],
      "text/plain": [
       "     movie_id  averagerating  numvotes           primary_title  start_year  \\\n",
       "1  tt10384606            8.9       559              Borderless        2019   \n",
       "3   tt1043726            4.2     50352  The Legend of Hercules        2014   \n",
       "5   tt1069246            6.2       326              Habana Eva        2010   \n",
       "6   tt1094666            7.0      1613              The Hammer        2010   \n",
       "7   tt1130982            6.4       571         The Night Clerk        2011   \n",
       "\n",
       "   runtime_minutes  \n",
       "1             87.0  \n",
       "3             99.0  \n",
       "5            106.0  \n",
       "6            108.0  \n",
       "7            104.0  "
      ]
     },
     "execution_count": 63,
     "metadata": {},
     "output_type": "execute_result"
    }
   ],
=======
   "execution_count": null,
   "metadata": {
    "hidden": true
   },
   "outputs": [],
>>>>>>> upstream/main
   "source": [
    "movies_over_median_votes = movies_with_ratings_clean.loc[movies_with_ratings_clean['numvotes']>median_votes]\n",
    "movies_over_median_votes.head()"
   ]
  },
  {
   "cell_type": "markdown",
   "metadata": {},
   "source": [
    "\n",
    "We are now left with the dataset `movies_over_median_votes` that includes ~37K movies."
   ]
  },
  {
   "cell_type": "markdown",
   "metadata": {},
   "source": [
    "## Data Modeling\n",
    "Describe and justify the process for analyzing or modeling the data.\n",
    "\n",
    "***\n",
    "Questions to consider:\n",
    "* How did you analyze or model the data?\n",
    "* How did you iterate on your initial approach to make it better?\n",
    "* Why are these choices appropriate given the data and the business problem?\n",
    "***"
   ]
  },
  {
   "cell_type": "markdown",
   "metadata": {},
   "source": [
    "### 1: The MovieDB (TMDB)"
   ]
  },
  {
   "cell_type": "markdown",
   "metadata": {},
   "source": [
    "### 2: The Numbers (TN)"
   ]
  },
  {
   "cell_type": "markdown",
   "metadata": {},
   "source": [
    "First, we used a scatter plot and Pearson's correlation to examine the relationship between production budget and global net profit."
   ]
  },
  {
   "cell_type": "markdown",
   "metadata": {},
   "source": [
    "#### Relationship between Production Budget and Global Net Profit"
   ]
  },
  {
   "cell_type": "code",
<<<<<<< HEAD
   "execution_count": 64,
   "metadata": {},
   "outputs": [
    {
     "data": {
      "image/png": "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\n",
      "text/plain": [
       "<Figure size 864x576 with 1 Axes>"
      ]
     },
     "metadata": {},
     "output_type": "display_data"
    }
   ],
=======
   "execution_count": null,
   "metadata": {},
   "outputs": [],
>>>>>>> upstream/main
   "source": [
    "sns.set_theme(context='notebook', style='white', font='sans-serif', font_scale=1.25, color_codes=True, rc={'figure.figsize':(12,8)})\n",
    "\n",
    "plot = sns.scatterplot(x='budget_mils', y='profit_mils', data=tn_df)\n",
    "plt.axvline(0, color='black')\n",
    "plt.axhline(0, color='black')\n",
    "\n",
    "plot.set_title('Profit by Budget')\n",
    "plot.set_xlabel('Production Budget (in millions of USD)', rotation=0, labelpad=15)\n",
    "plot.set_ylabel('Global Profit (in millions of USD)', rotation=90, labelpad=15);\n",
    "\n",
    "plt.show()"
   ]
  },
  {
   "cell_type": "code",
<<<<<<< HEAD
   "execution_count": 65,
=======
   "execution_count": null,
>>>>>>> upstream/main
   "metadata": {},
   "outputs": [],
   "source": [
    "r_budget_profit = tn_df.corr()['production_budget']['net_profit']\n",
    "\n",
    "print(\"r = \" + str(round(r_budget_profit, 2)))"
   ]
  },
  {
   "cell_type": "markdown",
   "metadata": {},
   "source": [
    "- Our scatter plot and Pearson's correlation (r = 0.67) suggests a moderately strong relationship between production budget and profit. \n",
    "\n",
    "\n",
    "- From the scatterplot, we determined that high-budget films are high-risk, high-reward. While there is a general positive relationship between budget and profit, there is more variability among higher-budget films. \n",
    "\n",
    "\n",
    "- Since Microsoft wants to increase their likelihood of producing movies that are box office successes, this brought us to the question: is it worth the risk to invest in a few high-budget movies, or better to invest in many low-budget movies?"
   ]
  },
  {
   "cell_type": "markdown",
   "metadata": {},
   "source": [
    "##### Budget-Profit Relationship in Low, Medium and High Budget Movies"
   ]
  },
  {
   "cell_type": "markdown",
   "metadata": {},
   "source": [
    "- Economic researchers define \"low\" \"medium\" and \"high\" budget movies in Hollywood as the following (Kuehn & Lampe, 2021; https://papers.ssrn.com/sol3/papers.cfm?abstract_id=3751648):\n",
    "  - Low = 0 - 20 mil, \n",
    "  - Medium = 20 - 100 mil\n",
    "  - High = 100+ mil\n",
    "  \n",
    "- Below, we group the dataset into \"Low\" \"Medium\" and \"High\" budget movies based on the above cutoffs:"
   ]
  },
  {
   "cell_type": "code",
<<<<<<< HEAD
   "execution_count": 66,
   "metadata": {},
   "outputs": [
    {
     "data": {
      "text/html": [
       "<div>\n",
       "<style scoped>\n",
       "    .dataframe tbody tr th:only-of-type {\n",
       "        vertical-align: middle;\n",
       "    }\n",
       "\n",
       "    .dataframe tbody tr th {\n",
       "        vertical-align: top;\n",
       "    }\n",
       "\n",
       "    .dataframe thead th {\n",
       "        text-align: right;\n",
       "    }\n",
       "</style>\n",
       "<table border=\"1\" class=\"dataframe\">\n",
       "  <thead>\n",
       "    <tr style=\"text-align: right;\">\n",
       "      <th></th>\n",
       "      <th>release_date</th>\n",
       "      <th>movie</th>\n",
       "      <th>production_budget</th>\n",
       "      <th>worldwide_gross</th>\n",
       "      <th>net_profit</th>\n",
       "      <th>budget_mils</th>\n",
       "      <th>profit_mils</th>\n",
       "      <th>roi</th>\n",
       "      <th>budget_groups</th>\n",
       "    </tr>\n",
       "  </thead>\n",
       "  <tbody>\n",
       "    <tr>\n",
       "      <th>1</th>\n",
       "      <td>2011-05-20</td>\n",
       "      <td>Pirates of the Caribbean: On Stranger Tides</td>\n",
       "      <td>410600000</td>\n",
       "      <td>1045663875</td>\n",
       "      <td>635063875</td>\n",
       "      <td>410.600</td>\n",
       "      <td>635.063875</td>\n",
       "      <td>154.667286</td>\n",
       "      <td>High</td>\n",
       "    </tr>\n",
       "    <tr>\n",
       "      <th>2</th>\n",
       "      <td>2019-06-07</td>\n",
       "      <td>Dark Phoenix</td>\n",
       "      <td>350000000</td>\n",
       "      <td>149762350</td>\n",
       "      <td>-200237650</td>\n",
       "      <td>350.000</td>\n",
       "      <td>-200.237650</td>\n",
       "      <td>-57.210757</td>\n",
       "      <td>High</td>\n",
       "    </tr>\n",
       "    <tr>\n",
       "      <th>3</th>\n",
       "      <td>2015-05-01</td>\n",
       "      <td>Avengers: Age of Ultron</td>\n",
       "      <td>330600000</td>\n",
       "      <td>1403013963</td>\n",
       "      <td>1072413963</td>\n",
       "      <td>330.600</td>\n",
       "      <td>1072.413963</td>\n",
       "      <td>324.384139</td>\n",
       "      <td>High</td>\n",
       "    </tr>\n",
       "    <tr>\n",
       "      <th>4</th>\n",
       "      <td>2017-12-15</td>\n",
       "      <td>Star Wars Ep. VIII: The Last Jedi</td>\n",
       "      <td>317000000</td>\n",
       "      <td>1316721747</td>\n",
       "      <td>999721747</td>\n",
       "      <td>317.000</td>\n",
       "      <td>999.721747</td>\n",
       "      <td>315.369636</td>\n",
       "      <td>High</td>\n",
       "    </tr>\n",
       "    <tr>\n",
       "      <th>5</th>\n",
       "      <td>2015-12-18</td>\n",
       "      <td>Star Wars Ep. VII: The Force Awakens</td>\n",
       "      <td>306000000</td>\n",
       "      <td>2053311220</td>\n",
       "      <td>1747311220</td>\n",
       "      <td>306.000</td>\n",
       "      <td>1747.311220</td>\n",
       "      <td>571.016739</td>\n",
       "      <td>High</td>\n",
       "    </tr>\n",
       "    <tr>\n",
       "      <th>...</th>\n",
       "      <td>...</td>\n",
       "      <td>...</td>\n",
       "      <td>...</td>\n",
       "      <td>...</td>\n",
       "      <td>...</td>\n",
       "      <td>...</td>\n",
       "      <td>...</td>\n",
       "      <td>...</td>\n",
       "      <td>...</td>\n",
       "    </tr>\n",
       "    <tr>\n",
       "      <th>5740</th>\n",
       "      <td>2010-10-15</td>\n",
       "      <td>Down Terrace</td>\n",
       "      <td>30000</td>\n",
       "      <td>9812</td>\n",
       "      <td>-20188</td>\n",
       "      <td>0.030</td>\n",
       "      <td>-0.020188</td>\n",
       "      <td>-67.293333</td>\n",
       "      <td>Low</td>\n",
       "    </tr>\n",
       "    <tr>\n",
       "      <th>5744</th>\n",
       "      <td>2017-01-27</td>\n",
       "      <td>Emily</td>\n",
       "      <td>27000</td>\n",
       "      <td>3547</td>\n",
       "      <td>-23453</td>\n",
       "      <td>0.027</td>\n",
       "      <td>-0.023453</td>\n",
       "      <td>-86.862963</td>\n",
       "      <td>Low</td>\n",
       "    </tr>\n",
       "    <tr>\n",
       "      <th>5748</th>\n",
       "      <td>2015-09-01</td>\n",
       "      <td>Exeter</td>\n",
       "      <td>25000</td>\n",
       "      <td>489792</td>\n",
       "      <td>464792</td>\n",
       "      <td>0.025</td>\n",
       "      <td>0.464792</td>\n",
       "      <td>1859.168000</td>\n",
       "      <td>Low</td>\n",
       "    </tr>\n",
       "    <tr>\n",
       "      <th>5760</th>\n",
       "      <td>2010-04-02</td>\n",
       "      <td>Breaking Upwards</td>\n",
       "      <td>15000</td>\n",
       "      <td>115592</td>\n",
       "      <td>100592</td>\n",
       "      <td>0.015</td>\n",
       "      <td>0.100592</td>\n",
       "      <td>670.613333</td>\n",
       "      <td>Low</td>\n",
       "    </tr>\n",
       "    <tr>\n",
       "      <th>5772</th>\n",
       "      <td>2012-01-13</td>\n",
       "      <td>Newlyweds</td>\n",
       "      <td>9000</td>\n",
       "      <td>4584</td>\n",
       "      <td>-4416</td>\n",
       "      <td>0.009</td>\n",
       "      <td>-0.004416</td>\n",
       "      <td>-49.066667</td>\n",
       "      <td>Low</td>\n",
       "    </tr>\n",
       "  </tbody>\n",
       "</table>\n",
       "<p>1922 rows × 9 columns</p>\n",
       "</div>"
      ],
      "text/plain": [
       "     release_date                                        movie  \\\n",
       "1      2011-05-20  Pirates of the Caribbean: On Stranger Tides   \n",
       "2      2019-06-07                                 Dark Phoenix   \n",
       "3      2015-05-01                      Avengers: Age of Ultron   \n",
       "4      2017-12-15            Star Wars Ep. VIII: The Last Jedi   \n",
       "5      2015-12-18         Star Wars Ep. VII: The Force Awakens   \n",
       "...           ...                                          ...   \n",
       "5740   2010-10-15                                 Down Terrace   \n",
       "5744   2017-01-27                                        Emily   \n",
       "5748   2015-09-01                                       Exeter   \n",
       "5760   2010-04-02                             Breaking Upwards   \n",
       "5772   2012-01-13                                    Newlyweds   \n",
       "\n",
       "      production_budget  worldwide_gross  net_profit  budget_mils  \\\n",
       "1             410600000       1045663875   635063875      410.600   \n",
       "2             350000000        149762350  -200237650      350.000   \n",
       "3             330600000       1403013963  1072413963      330.600   \n",
       "4             317000000       1316721747   999721747      317.000   \n",
       "5             306000000       2053311220  1747311220      306.000   \n",
       "...                 ...              ...         ...          ...   \n",
       "5740              30000             9812      -20188        0.030   \n",
       "5744              27000             3547      -23453        0.027   \n",
       "5748              25000           489792      464792        0.025   \n",
       "5760              15000           115592      100592        0.015   \n",
       "5772               9000             4584       -4416        0.009   \n",
       "\n",
       "      profit_mils          roi budget_groups  \n",
       "1      635.063875   154.667286          High  \n",
       "2     -200.237650   -57.210757          High  \n",
       "3     1072.413963   324.384139          High  \n",
       "4      999.721747   315.369636          High  \n",
       "5     1747.311220   571.016739          High  \n",
       "...           ...          ...           ...  \n",
       "5740    -0.020188   -67.293333           Low  \n",
       "5744    -0.023453   -86.862963           Low  \n",
       "5748     0.464792  1859.168000           Low  \n",
       "5760     0.100592   670.613333           Low  \n",
       "5772    -0.004416   -49.066667           Low  \n",
       "\n",
       "[1922 rows x 9 columns]"
      ]
     },
     "execution_count": 66,
     "metadata": {},
     "output_type": "execute_result"
    }
   ],
=======
   "execution_count": null,
   "metadata": {},
   "outputs": [],
>>>>>>> upstream/main
   "source": [
    "labels = [\"Low\", \"Medium\", \"High\"]\n",
    "\n",
    "tn_df['budget_groups'] = pd.cut(tn_df['budget_mils'], bins=[0,20,100,500],include_lowest=True, labels=labels)\n",
    "\n",
    "tn_df"
   ]
  },
  {
   "cell_type": "markdown",
   "metadata": {},
   "source": [
    "Now, we investigate which budget group has the best ROI: Low, Medium, or High-budget films"
   ]
  },
  {
   "cell_type": "code",
<<<<<<< HEAD
   "execution_count": 67,
   "metadata": {},
   "outputs": [
    {
     "data": {
      "image/png": "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\n",
      "text/plain": [
       "<Figure size 864x576 with 1 Axes>"
      ]
     },
     "metadata": {},
     "output_type": "display_data"
    }
   ],
=======
   "execution_count": null,
   "metadata": {},
   "outputs": [],
>>>>>>> upstream/main
   "source": [
    "roi_bar = sns.barplot(x ='budget_groups', y = 'roi', data = tn_df, errwidth=0, saturation=.4, palette='blend:#EDA,#7AB')\n",
    "\n",
    "ax = roi_bar\n",
    "\n",
    "ax.set_xlabel(\"Budget Category\", rotation=0, labelpad=15)\n",
    "ax.set_ylabel(\"ROI (%)\", rotation=90, labelpad=15)\n",
    "ax.set_title('Average ROI by Budget Categories')\n",
    "\n",
    "#annotate axis = seaborn axis\n",
    "for p in ax.patches:\n",
    "    ax.annotate(\"%.2f\" % p.get_height(), (p.get_x() + p.get_width() / 2., p.get_height()),\n",
    "                ha='center', va='center', fontsize=13, color='black', xytext=(0, 20),\n",
    "                textcoords='offset points');"
   ]
  },
  {
   "cell_type": "markdown",
   "metadata": {},
   "source": [
    "### TMDB & TNDB Joined"
   ]
  },
  {
   "cell_type": "code",
<<<<<<< HEAD
   "execution_count": 68,
   "metadata": {},
   "outputs": [
    {
     "name": "stderr",
     "output_type": "stream",
     "text": [
      "posx and posy should be finite values\n",
      "posx and posy should be finite values\n"
     ]
    },
    {
     "data": {
      "image/png": "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\n",
      "text/plain": [
       "<Figure size 1440x864 with 1 Axes>"
      ]
     },
     "metadata": {},
     "output_type": "display_data"
    }
   ],
=======
   "execution_count": null,
   "metadata": {},
   "outputs": [],
>>>>>>> upstream/main
   "source": [
    "yjoin = df_tmdb_tn_innerjoin.groupby(['primary_genre']).mean().sort_values(by='profit_mils', ascending=False)\n",
    "xjoin = list(df_tmdb_tn_innerjoin.groupby(['primary_genre']).mean().sort_values(by='profit_mils', ascending=False).index)\n",
    "fig2, axj = plt.subplots(figsize=(20, 12))\n",
    "sns.set(style=\"whitegrid\", color_codes=True)\n",
    "sns.barplot(x=xjoin, y=yjoin['profit_mils'], saturation=.4, palette='blend:#EDA,#7AB')\n",
    "\n",
    "axj.set_title('Average Net Profit by Genre')\n",
    "axj.set_xlabel('Movie Genre Categories')\n",
    "axj.set_ylabel('Net Profit (MM)')\n",
    "\n",
    "\n",
    "for loc, label in enumerate((yjoin['profit_mils'])):\n",
    "    axj.text(loc, label+.15, str(round(label, ndigits=0)), ha='center');"
   ]
  },
  {
   "cell_type": "markdown",
   "metadata": {},
   "source": [
    "### 3. IMDb"
   ]
  },
  {
   "cell_type": "markdown",
   "metadata": {},
   "source": [
    "#### Runtime minute analysis"
   ]
  },
  {
   "cell_type": "markdown",
   "metadata": {},
   "source": [
    "We want to determine if there is a viewer preference between the number of runtime minutes for a movie and the average rating viewers give it.  As you can see from the cell below, we still have some movies that do not have runtime_minutes.  As such, we will drop those records.  "
   ]
  },
  {
   "cell_type": "code",
<<<<<<< HEAD
   "execution_count": 42,
=======
   "execution_count": null,
>>>>>>> upstream/main
   "metadata": {},
   "outputs": [],
   "source": [
    "main_data = movies_over_median_votes\n",
    "main_data.info()"
   ]
  },
  {
   "cell_type": "markdown",
   "metadata": {},
   "source": [
    "**Drop the movies with no runtime minutes**"
   ]
  },
  {
   "cell_type": "code",
<<<<<<< HEAD
   "execution_count": 43,
   "metadata": {},
   "outputs": [
    {
     "data": {
      "text/html": [
       "<div>\n",
       "<style scoped>\n",
       "    .dataframe tbody tr th:only-of-type {\n",
       "        vertical-align: middle;\n",
       "    }\n",
       "\n",
       "    .dataframe tbody tr th {\n",
       "        vertical-align: top;\n",
       "    }\n",
       "\n",
       "    .dataframe thead th {\n",
       "        text-align: right;\n",
       "    }\n",
       "</style>\n",
       "<table border=\"1\" class=\"dataframe\">\n",
       "  <thead>\n",
       "    <tr style=\"text-align: right;\">\n",
       "      <th></th>\n",
       "      <th>movie_id</th>\n",
       "      <th>averagerating</th>\n",
       "      <th>numvotes</th>\n",
       "      <th>primary_title</th>\n",
       "      <th>start_year</th>\n",
       "      <th>runtime_minutes</th>\n",
       "    </tr>\n",
       "  </thead>\n",
       "  <tbody>\n",
       "    <tr>\n",
       "      <th>1</th>\n",
       "      <td>tt10384606</td>\n",
       "      <td>8.9</td>\n",
       "      <td>559</td>\n",
       "      <td>Borderless</td>\n",
       "      <td>2019</td>\n",
       "      <td>87.0</td>\n",
       "    </tr>\n",
       "    <tr>\n",
       "      <th>3</th>\n",
       "      <td>tt1043726</td>\n",
       "      <td>4.2</td>\n",
       "      <td>50352</td>\n",
       "      <td>The Legend of Hercules</td>\n",
       "      <td>2014</td>\n",
       "      <td>99.0</td>\n",
       "    </tr>\n",
       "    <tr>\n",
       "      <th>5</th>\n",
       "      <td>tt1069246</td>\n",
       "      <td>6.2</td>\n",
       "      <td>326</td>\n",
       "      <td>Habana Eva</td>\n",
       "      <td>2010</td>\n",
       "      <td>106.0</td>\n",
       "    </tr>\n",
       "    <tr>\n",
       "      <th>6</th>\n",
       "      <td>tt1094666</td>\n",
       "      <td>7.0</td>\n",
       "      <td>1613</td>\n",
       "      <td>The Hammer</td>\n",
       "      <td>2010</td>\n",
       "      <td>108.0</td>\n",
       "    </tr>\n",
       "    <tr>\n",
       "      <th>7</th>\n",
       "      <td>tt1130982</td>\n",
       "      <td>6.4</td>\n",
       "      <td>571</td>\n",
       "      <td>The Night Clerk</td>\n",
       "      <td>2011</td>\n",
       "      <td>104.0</td>\n",
       "    </tr>\n",
       "  </tbody>\n",
       "</table>\n",
       "</div>"
      ],
      "text/plain": [
       "     movie_id  averagerating  numvotes           primary_title  start_year  \\\n",
       "1  tt10384606            8.9       559              Borderless        2019   \n",
       "3   tt1043726            4.2     50352  The Legend of Hercules        2014   \n",
       "5   tt1069246            6.2       326              Habana Eva        2010   \n",
       "6   tt1094666            7.0      1613              The Hammer        2010   \n",
       "7   tt1130982            6.4       571         The Night Clerk        2011   \n",
       "\n",
       "   runtime_minutes  \n",
       "1             87.0  \n",
       "3             99.0  \n",
       "5            106.0  \n",
       "6            108.0  \n",
       "7            104.0  "
      ]
     },
     "execution_count": 43,
     "metadata": {},
     "output_type": "execute_result"
    }
   ],
=======
   "execution_count": null,
   "metadata": {},
   "outputs": [],
>>>>>>> upstream/main
   "source": [
    "# Drop movies with runtime_minutes of n/a\n",
    "main_data_dropna = main_data.dropna(subset=['runtime_minutes'])\n",
    "main_data_dropna.head()"
   ]
  },
  {
   "cell_type": "markdown",
   "metadata": {},
   "source": [
    "Now that we have dropped the rows with n/a for runtime_minutes, we have a dataset of 35K movies remaining. \n",
    "\n",
    "For the next step, we are further narrowing down the dataset to only the highest rated movies (> 8.0) in order to see if those top rated movies mostly fall within a certain range of runtime minutes.  For this analysis, we are using a histogram.  "
   ]
  },
  {
   "cell_type": "code",
<<<<<<< HEAD
   "execution_count": 44,
   "metadata": {},
   "outputs": [
    {
     "data": {
      "text/html": [
       "<div>\n",
       "<style scoped>\n",
       "    .dataframe tbody tr th:only-of-type {\n",
       "        vertical-align: middle;\n",
       "    }\n",
       "\n",
       "    .dataframe tbody tr th {\n",
       "        vertical-align: top;\n",
       "    }\n",
       "\n",
       "    .dataframe thead th {\n",
       "        text-align: right;\n",
       "    }\n",
       "</style>\n",
       "<table border=\"1\" class=\"dataframe\">\n",
       "  <thead>\n",
       "    <tr style=\"text-align: right;\">\n",
       "      <th></th>\n",
       "      <th>movie_id</th>\n",
       "      <th>averagerating</th>\n",
       "      <th>numvotes</th>\n",
       "      <th>primary_title</th>\n",
       "      <th>start_year</th>\n",
       "      <th>runtime_minutes</th>\n",
       "    </tr>\n",
       "  </thead>\n",
       "  <tbody>\n",
       "    <tr>\n",
       "      <th>1</th>\n",
       "      <td>tt10384606</td>\n",
       "      <td>8.9</td>\n",
       "      <td>559</td>\n",
       "      <td>Borderless</td>\n",
       "      <td>2019</td>\n",
       "      <td>87.0</td>\n",
       "    </tr>\n",
       "    <tr>\n",
       "      <th>110</th>\n",
       "      <td>tt1537385</td>\n",
       "      <td>8.0</td>\n",
       "      <td>53</td>\n",
       "      <td>Annabelle &amp; Bear</td>\n",
       "      <td>2010</td>\n",
       "      <td>100.0</td>\n",
       "    </tr>\n",
       "    <tr>\n",
       "      <th>193</th>\n",
       "      <td>tt1663202</td>\n",
       "      <td>8.0</td>\n",
       "      <td>621193</td>\n",
       "      <td>The Revenant</td>\n",
       "      <td>2015</td>\n",
       "      <td>156.0</td>\n",
       "    </tr>\n",
       "    <tr>\n",
       "      <th>225</th>\n",
       "      <td>tt1709657</td>\n",
       "      <td>8.1</td>\n",
       "      <td>75</td>\n",
       "      <td>Far Marfa</td>\n",
       "      <td>2013</td>\n",
       "      <td>86.0</td>\n",
       "    </tr>\n",
       "    <tr>\n",
       "      <th>258</th>\n",
       "      <td>tt1740117</td>\n",
       "      <td>8.7</td>\n",
       "      <td>60</td>\n",
       "      <td>Toryboy the Movie</td>\n",
       "      <td>2010</td>\n",
       "      <td>90.0</td>\n",
       "    </tr>\n",
       "    <tr>\n",
       "      <th>...</th>\n",
       "      <td>...</td>\n",
       "      <td>...</td>\n",
       "      <td>...</td>\n",
       "      <td>...</td>\n",
       "      <td>...</td>\n",
       "      <td>...</td>\n",
       "    </tr>\n",
       "    <tr>\n",
       "      <th>73775</th>\n",
       "      <td>tt8601284</td>\n",
       "      <td>8.1</td>\n",
       "      <td>54</td>\n",
       "      <td>Lada Kamenski</td>\n",
       "      <td>2018</td>\n",
       "      <td>71.0</td>\n",
       "    </tr>\n",
       "    <tr>\n",
       "      <th>73780</th>\n",
       "      <td>tt8718580</td>\n",
       "      <td>9.7</td>\n",
       "      <td>639</td>\n",
       "      <td>Eghantham</td>\n",
       "      <td>2018</td>\n",
       "      <td>125.0</td>\n",
       "    </tr>\n",
       "    <tr>\n",
       "      <th>73790</th>\n",
       "      <td>tt8907960</td>\n",
       "      <td>8.6</td>\n",
       "      <td>78</td>\n",
       "      <td>Naduve Antaravirali</td>\n",
       "      <td>2018</td>\n",
       "      <td>108.0</td>\n",
       "    </tr>\n",
       "    <tr>\n",
       "      <th>73792</th>\n",
       "      <td>tt8948790</td>\n",
       "      <td>9.0</td>\n",
       "      <td>1778</td>\n",
       "      <td>Jersey</td>\n",
       "      <td>2019</td>\n",
       "      <td>157.0</td>\n",
       "    </tr>\n",
       "    <tr>\n",
       "      <th>73803</th>\n",
       "      <td>tt9055926</td>\n",
       "      <td>8.6</td>\n",
       "      <td>135</td>\n",
       "      <td>National Theatre Live: King Lear</td>\n",
       "      <td>2018</td>\n",
       "      <td>227.0</td>\n",
       "    </tr>\n",
       "  </tbody>\n",
       "</table>\n",
       "<p>1727 rows × 6 columns</p>\n",
       "</div>"
      ],
      "text/plain": [
       "         movie_id  averagerating  numvotes                     primary_title  \\\n",
       "1      tt10384606            8.9       559                        Borderless   \n",
       "110     tt1537385            8.0        53                  Annabelle & Bear   \n",
       "193     tt1663202            8.0    621193                      The Revenant   \n",
       "225     tt1709657            8.1        75                         Far Marfa   \n",
       "258     tt1740117            8.7        60                 Toryboy the Movie   \n",
       "...           ...            ...       ...                               ...   \n",
       "73775   tt8601284            8.1        54                     Lada Kamenski   \n",
       "73780   tt8718580            9.7       639                         Eghantham   \n",
       "73790   tt8907960            8.6        78               Naduve Antaravirali   \n",
       "73792   tt8948790            9.0      1778                            Jersey   \n",
       "73803   tt9055926            8.6       135  National Theatre Live: King Lear   \n",
       "\n",
       "       start_year  runtime_minutes  \n",
       "1            2019             87.0  \n",
       "110          2010            100.0  \n",
       "193          2015            156.0  \n",
       "225          2013             86.0  \n",
       "258          2010             90.0  \n",
       "...           ...              ...  \n",
       "73775        2018             71.0  \n",
       "73780        2018            125.0  \n",
       "73790        2018            108.0  \n",
       "73792        2019            157.0  \n",
       "73803        2018            227.0  \n",
       "\n",
       "[1727 rows x 6 columns]"
      ]
     },
     "execution_count": 44,
     "metadata": {},
     "output_type": "execute_result"
    }
   ],
=======
   "execution_count": null,
   "metadata": {},
   "outputs": [],
>>>>>>> upstream/main
   "source": [
    "main_data_dropna_best_rated = main_data_dropna.loc[(main_data_dropna['averagerating'] >= 8.0) & (main_data_dropna['runtime_minutes'] < 250)]\n",
    "main_data_dropna_best_rated"
   ]
  },
  {
   "cell_type": "code",
<<<<<<< HEAD
   "execution_count": 45,
   "metadata": {},
   "outputs": [
    {
     "data": {
      "image/png": "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\n",
      "text/plain": [
       "<Figure size 864x576 with 1 Axes>"
      ]
     },
     "metadata": {},
     "output_type": "display_data"
    }
   ],
=======
   "execution_count": null,
   "metadata": {},
   "outputs": [],
>>>>>>> upstream/main
   "source": [
    "sns.set_style('darkgrid')\n",
    "hist = sns.histplot(main_data_dropna_best_rated['runtime_minutes'], bins=20)\n",
    "hist = hist.set(xlabel='Run Time Minutes', ylabel='Movie count', title='Movie Length of the Highest Rated Movies (> 8.0)')"
   ]
  },
  {
   "cell_type": "markdown",
   "metadata": {},
   "source": [
    "## Evaluation\n",
    "Evaluate how well your work solves the stated business problem.\n",
    "\n",
    "***\n",
    "Questions to consider:\n",
    "* How do you interpret the results?\n",
    "* How well does your model fit your data? How much better is this than your baseline model?\n",
    "* How confident are you that your results would generalize beyond the data you have?\n",
    "* How confident are you that this model would benefit the business if put into use?\n",
    "***"
   ]
  },
  {
   "cell_type": "markdown",
   "metadata": {},
   "source": [
    "## Conclusions\n",
    "Provide your conclusions about the work you've done, including any limitations or next steps.\n",
    "\n",
    "***\n",
    "Questions to consider:\n",
    "* What would you recommend the business do as a result of this work?\n",
    "* What are some reasons why your analysis might not fully solve the business problem?\n",
    "* What else could you do in the future to improve this project?\n",
    "***"
   ]
  },
  {
   "cell_type": "markdown",
   "metadata": {},
   "source": [
    "### 1: The MovieDB (TMDB)"
   ]
  },
  {
   "cell_type": "markdown",
   "metadata": {},
   "source": [
    "### 2: The Numbers (TN)"
   ]
  },
  {
   "cell_type": "markdown",
   "metadata": {},
   "source": [
    "### 3. IMDb"
   ]
  },
  {
   "cell_type": "markdown",
   "metadata": {},
   "source": [
    "- As demonstrated in our histogram comparing movie length to movie rating, there were more higher rated movies in the 90-110 minute range than any other movie length.  This would indicate a viewer preference for movies with this length, and therefore we would recommend making movies with this length. \n",
    "- In the future, we could add to this analysis a comparison of gross revenue generated by each movie to movie length to see if movies of this length generate more dollars as well as higher ratings."
   ]
  }
 ],
 "metadata": {
  "kernelspec": {
   "display_name": "Python 3",
   "language": "python",
   "name": "python3"
  },
  "language_info": {
   "codemirror_mode": {
    "name": "ipython",
    "version": 3
   },
   "file_extension": ".py",
   "mimetype": "text/x-python",
   "name": "python",
   "nbconvert_exporter": "python",
   "pygments_lexer": "ipython3",
   "version": "3.8.5"
  },
  "toc": {
   "base_numbering": 1,
   "nav_menu": {},
   "number_sections": true,
   "sideBar": true,
   "skip_h1_title": false,
   "title_cell": "Table of Contents",
   "title_sidebar": "Contents",
   "toc_cell": false,
   "toc_position": {},
   "toc_section_display": true,
   "toc_window_display": false
  }
 },
 "nbformat": 4,
 "nbformat_minor": 4
}
